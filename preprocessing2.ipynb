{
 "cells": [
  {
   "cell_type": "code",
   "execution_count": 40,
   "id": "6707c38a",
   "metadata": {},
   "outputs": [],
   "source": [
    "import pandas as pd\n",
    "import matplotlib.pyplot as plt"
   ]
  },
  {
   "cell_type": "code",
   "execution_count": 16,
   "id": "a1c34597",
   "metadata": {},
   "outputs": [
    {
     "data": {
      "text/html": [
       "<div>\n",
       "<style scoped>\n",
       "    .dataframe tbody tr th:only-of-type {\n",
       "        vertical-align: middle;\n",
       "    }\n",
       "\n",
       "    .dataframe tbody tr th {\n",
       "        vertical-align: top;\n",
       "    }\n",
       "\n",
       "    .dataframe thead th {\n",
       "        text-align: right;\n",
       "    }\n",
       "</style>\n",
       "<table border=\"1\" class=\"dataframe\">\n",
       "  <thead>\n",
       "    <tr style=\"text-align: right;\">\n",
       "      <th></th>\n",
       "      <th>subreddit</th>\n",
       "      <th>month</th>\n",
       "      <th>year</th>\n",
       "      <th>text</th>\n",
       "      <th>created_utc</th>\n",
       "    </tr>\n",
       "  </thead>\n",
       "  <tbody>\n",
       "    <tr>\n",
       "      <th>0</th>\n",
       "      <td>CODWarzone</td>\n",
       "      <td>7</td>\n",
       "      <td>2025</td>\n",
       "      <td>Low FPS on a reasonable PC</td>\n",
       "      <td>7/13/2025 4:58</td>\n",
       "    </tr>\n",
       "    <tr>\n",
       "      <th>1</th>\n",
       "      <td>CODWarzone</td>\n",
       "      <td>7</td>\n",
       "      <td>2025</td>\n",
       "      <td>question about dead sliding</td>\n",
       "      <td>7/13/2025 4:49</td>\n",
       "    </tr>\n",
       "    <tr>\n",
       "      <th>2</th>\n",
       "      <td>CODWarzone</td>\n",
       "      <td>7</td>\n",
       "      <td>2025</td>\n",
       "      <td>Cheaters!!!!!</td>\n",
       "      <td>7/13/2025 4:42</td>\n",
       "    </tr>\n",
       "    <tr>\n",
       "      <th>3</th>\n",
       "      <td>CODWarzone</td>\n",
       "      <td>7</td>\n",
       "      <td>2025</td>\n",
       "      <td>U already know they had them specialists 🫢</td>\n",
       "      <td>7/13/2025 4:14</td>\n",
       "    </tr>\n",
       "    <tr>\n",
       "      <th>4</th>\n",
       "      <td>CODWarzone</td>\n",
       "      <td>7</td>\n",
       "      <td>2025</td>\n",
       "      <td>omnimovement feels so sluggish in comparison…</td>\n",
       "      <td>7/13/2025 4:12</td>\n",
       "    </tr>\n",
       "    <tr>\n",
       "      <th>5</th>\n",
       "      <td>CODWarzone</td>\n",
       "      <td>7</td>\n",
       "      <td>2025</td>\n",
       "      <td>A-Team Pro Pack</td>\n",
       "      <td>7/13/2025 1:28</td>\n",
       "    </tr>\n",
       "    <tr>\n",
       "      <th>6</th>\n",
       "      <td>CODWarzone</td>\n",
       "      <td>7</td>\n",
       "      <td>2025</td>\n",
       "      <td>My first \"Holy Cow! \"</td>\n",
       "      <td>7/13/2025 1:25</td>\n",
       "    </tr>\n",
       "    <tr>\n",
       "      <th>7</th>\n",
       "      <td>CODWarzone</td>\n",
       "      <td>7</td>\n",
       "      <td>2025</td>\n",
       "      <td>The Worst Rotational Aim Assist Clip of All Time</td>\n",
       "      <td>7/13/2025 0:34</td>\n",
       "    </tr>\n",
       "    <tr>\n",
       "      <th>8</th>\n",
       "      <td>CODWarzone</td>\n",
       "      <td>7</td>\n",
       "      <td>2025</td>\n",
       "      <td>i need helpppp</td>\n",
       "      <td>7/12/2025 23:12</td>\n",
       "    </tr>\n",
       "    <tr>\n",
       "      <th>9</th>\n",
       "      <td>CODWarzone</td>\n",
       "      <td>7</td>\n",
       "      <td>2025</td>\n",
       "      <td>Finally LVL 1000 i can rest now wait for S5</td>\n",
       "      <td>7/12/2025 22:34</td>\n",
       "    </tr>\n",
       "  </tbody>\n",
       "</table>\n",
       "</div>"
      ],
      "text/plain": [
       "    subreddit  month  year                                              text  \\\n",
       "0  CODWarzone      7  2025                        Low FPS on a reasonable PC   \n",
       "1  CODWarzone      7  2025                       question about dead sliding   \n",
       "2  CODWarzone      7  2025                                     Cheaters!!!!!   \n",
       "3  CODWarzone      7  2025        U already know they had them specialists 🫢   \n",
       "4  CODWarzone      7  2025     omnimovement feels so sluggish in comparison…   \n",
       "5  CODWarzone      7  2025                                   A-Team Pro Pack   \n",
       "6  CODWarzone      7  2025                             My first \"Holy Cow! \"   \n",
       "7  CODWarzone      7  2025  The Worst Rotational Aim Assist Clip of All Time   \n",
       "8  CODWarzone      7  2025                                    i need helpppp   \n",
       "9  CODWarzone      7  2025       Finally LVL 1000 i can rest now wait for S5   \n",
       "\n",
       "       created_utc  \n",
       "0   7/13/2025 4:58  \n",
       "1   7/13/2025 4:49  \n",
       "2   7/13/2025 4:42  \n",
       "3   7/13/2025 4:14  \n",
       "4   7/13/2025 4:12  \n",
       "5   7/13/2025 1:28  \n",
       "6   7/13/2025 1:25  \n",
       "7   7/13/2025 0:34  \n",
       "8  7/12/2025 23:12  \n",
       "9  7/12/2025 22:34  "
      ]
     },
     "execution_count": 16,
     "metadata": {},
     "output_type": "execute_result"
    }
   ],
   "source": [
    "df = pd.read_csv('2020-2025-data.csv')\n",
    "\n",
    "df.head(10)"
   ]
  },
  {
   "cell_type": "code",
   "execution_count": 17,
   "id": "211fb918",
   "metadata": {},
   "outputs": [
    {
     "name": "stdout",
     "output_type": "stream",
     "text": [
      "['CODWarzone' 'CallOfDuty' 'Competitiveoverwatch' 'GTA' 'GTAOnline' 'GTAV'\n",
      " 'Games' 'GenshinImpact' 'Genshin_Impact' 'Minecraft' 'MinecraftDungeons'\n",
      " 'Overwatch' 'OverwatchLeague' 'RobloxDevelopers' 'Sims4' 'VALORANT'\n",
      " 'Valorant' 'ValorantCompetitive' 'gaming' 'genshin_impact'\n",
      " 'leagueoflegends' 'minecraftsuggestions' 'pcgaming' 'roblox' 'skyrim'\n",
      " 'skyrimmods' 'summonerschool' 'thesims' 'callofduty' 'gta' 'minecraft'\n",
      " 'overwatch' 'sims4' 'valorant']\n"
     ]
    }
   ],
   "source": [
    "print(df['subreddit'].unique())"
   ]
  },
  {
   "cell_type": "code",
   "execution_count": 18,
   "id": "6d4a2b76",
   "metadata": {},
   "outputs": [
    {
     "name": "stdout",
     "output_type": "stream",
     "text": [
      "['codwarzone' 'callofduty' 'competitiveoverwatch' 'gta' 'gtaonline' 'gtav'\n",
      " 'games' 'genshinimpact' 'genshin_impact' 'minecraft' 'minecraftdungeons'\n",
      " 'overwatch' 'overwatchleague' 'robloxdevelopers' 'sims4' 'valorant'\n",
      " 'valorantcompetitive' 'gaming' 'leagueoflegends' 'minecraftsuggestions'\n",
      " 'pcgaming' 'roblox' 'skyrim' 'skyrimmods' 'summonerschool' 'thesims']\n"
     ]
    }
   ],
   "source": [
    "df['subreddit'] = df['subreddit'].str.lower()\n",
    "print(df['subreddit'].unique())"
   ]
  },
  {
   "cell_type": "code",
   "execution_count": 19,
   "id": "eb9d1257",
   "metadata": {},
   "outputs": [
    {
     "data": {
      "text/html": [
       "<div>\n",
       "<style scoped>\n",
       "    .dataframe tbody tr th:only-of-type {\n",
       "        vertical-align: middle;\n",
       "    }\n",
       "\n",
       "    .dataframe tbody tr th {\n",
       "        vertical-align: top;\n",
       "    }\n",
       "\n",
       "    .dataframe thead th {\n",
       "        text-align: right;\n",
       "    }\n",
       "</style>\n",
       "<table border=\"1\" class=\"dataframe\">\n",
       "  <thead>\n",
       "    <tr style=\"text-align: right;\">\n",
       "      <th></th>\n",
       "      <th>subreddit</th>\n",
       "      <th>month</th>\n",
       "      <th>year</th>\n",
       "      <th>text</th>\n",
       "      <th>created_utc</th>\n",
       "    </tr>\n",
       "  </thead>\n",
       "  <tbody>\n",
       "    <tr>\n",
       "      <th>0</th>\n",
       "      <td>callofduty</td>\n",
       "      <td>1</td>\n",
       "      <td>2020</td>\n",
       "      <td>Did I just do something or is somebody faster</td>\n",
       "      <td>2020-01-01 00:14:26</td>\n",
       "    </tr>\n",
       "    <tr>\n",
       "      <th>1</th>\n",
       "      <td>callofduty</td>\n",
       "      <td>1</td>\n",
       "      <td>2020</td>\n",
       "      <td>For example the bizon's fire rate is 400 rpm o...</td>\n",
       "      <td>2020-01-01 00:41:55</td>\n",
       "    </tr>\n",
       "    <tr>\n",
       "      <th>2</th>\n",
       "      <td>callofduty</td>\n",
       "      <td>1</td>\n",
       "      <td>2020</td>\n",
       "      <td>Topic.\\nPut your own strategy below for good s...</td>\n",
       "      <td>2020-01-01 01:02:05</td>\n",
       "    </tr>\n",
       "    <tr>\n",
       "      <th>3</th>\n",
       "      <td>callofduty</td>\n",
       "      <td>1</td>\n",
       "      <td>2020</td>\n",
       "      <td>This ties iw and me together maybe a hint at a...</td>\n",
       "      <td>2020-01-01 01:27:58</td>\n",
       "    </tr>\n",
       "    <tr>\n",
       "      <th>4</th>\n",
       "      <td>callofduty</td>\n",
       "      <td>1</td>\n",
       "      <td>2020</td>\n",
       "      <td>what would you say the most iconic ars, smgs, ...</td>\n",
       "      <td>2020-01-01 01:28:21</td>\n",
       "    </tr>\n",
       "  </tbody>\n",
       "</table>\n",
       "</div>"
      ],
      "text/plain": [
       "    subreddit  month  year                                               text  \\\n",
       "0  callofduty      1  2020      Did I just do something or is somebody faster   \n",
       "1  callofduty      1  2020  For example the bizon's fire rate is 400 rpm o...   \n",
       "2  callofduty      1  2020  Topic.\\nPut your own strategy below for good s...   \n",
       "3  callofduty      1  2020  This ties iw and me together maybe a hint at a...   \n",
       "4  callofduty      1  2020  what would you say the most iconic ars, smgs, ...   \n",
       "\n",
       "           created_utc  \n",
       "0  2020-01-01 00:14:26  \n",
       "1  2020-01-01 00:41:55  \n",
       "2  2020-01-01 01:02:05  \n",
       "3  2020-01-01 01:27:58  \n",
       "4  2020-01-01 01:28:21  "
      ]
     },
     "execution_count": 19,
     "metadata": {},
     "output_type": "execute_result"
    }
   ],
   "source": [
    "df = df.sort_values(by=['subreddit', 'year']).reset_index(drop=True)\n",
    "df.head()"
   ]
  },
  {
   "cell_type": "code",
   "execution_count": 38,
   "id": "90e5a4f4",
   "metadata": {},
   "outputs": [
    {
     "name": "stdout",
     "output_type": "stream",
     "text": [
      "['callofduty' 'overwatch' 'gaming' 'genshinimpact' 'gta' 'leagueoflegends'\n",
      " 'minecraft' 'roblox' 'sims' 'skyrim' 'valorant']\n"
     ]
    }
   ],
   "source": [
    "df['subreddit'] = df['subreddit'].replace('valorantcompetitive', 'valorant')\n",
    "print(df['subreddit'].unique())"
   ]
  },
  {
   "cell_type": "code",
   "execution_count": 44,
   "id": "ae47610c",
   "metadata": {},
   "outputs": [
    {
     "data": {
      "image/png": "[encoded data removed]",
      "text/plain": [
       "<Figure size 1200x600 with 1 Axes>"
      ]
     },
     "metadata": {},
     "output_type": "display_data"
    }
   ],
   "source": [
    "grouped = df.groupby(['subreddit', 'year']).size().unstack(fill_value=0)\n",
    "grouped.plot(kind='bar', figsize=(12, 6))\n",
    "\n",
    "plt.title('Number of Posts per Subreddit by Year')\n",
    "plt.xlabel('Subreddit')\n",
    "plt.ylabel('Number of Posts')\n",
    "plt.xticks(rotation=45, ha='right')\n",
    "plt.legend(title='Year')\n",
    "plt.tight_layout()\n",
    "plt.show()"
   ]
  },
  {
   "cell_type": "code",
   "execution_count": 42,
   "id": "8792bc26",
   "metadata": {},
   "outputs": [
    {
     "name": "stdout",
     "output_type": "stream",
     "text": [
      "year             2020  2021  2022  2023  2024  2025\n",
      "subreddit                                          \n",
      "callofduty       1000  1000  1000  1000  1000  1000\n",
      "gaming           1000  1000  1000  1000  1000  1000\n",
      "genshinimpact    1000  1000  1000  1000  1000  1000\n",
      "gta              1000  1000  1000  1000  1000  1000\n",
      "leagueoflegends  1000  1000  1000  1000  1000  1000\n",
      "minecraft        1000  1000  1000  1000  1000  1000\n",
      "overwatch        1000  1000  1000  1000  1000  1000\n",
      "roblox           1000  1000  1000  1000  1000  1000\n",
      "sims             1000  1000  1000  1397  1000  1000\n",
      "skyrim           1000  1000  1000  1000   503  1000\n",
      "valorant         1000  1000  1000  1000  1000  1000\n"
     ]
    }
   ],
   "source": [
    "print(grouped)"
   ]
  },
  {
   "cell_type": "code",
   "execution_count": 43,
   "id": "9d4ae877",
   "metadata": {},
   "outputs": [],
   "source": [
    "df.to_csv(\"cleaned-2020-2025.csv\", index=False, encoding='utf-8')"
   ]
  }
 ],
 "metadata": {
  "kernelspec": {
   "display_name": "venv",
   "language": "python",
   "name": "python3"
  },
  "language_info": {
   "codemirror_mode": {
    "name": "ipython",
    "version": 3
   },
   "file_extension": ".py",
   "mimetype": "text/x-python",
   "name": "python",
   "nbconvert_exporter": "python",
   "pygments_lexer": "ipython3",
   "version": "3.12.9"
  }
 },
 "nbformat": 4,
 "nbformat_minor": 5
}
