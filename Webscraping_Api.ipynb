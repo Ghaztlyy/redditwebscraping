{
 "cells": [
  {
   "cell_type": "code",
   "execution_count": 1,
   "id": "27b5ca24",
   "metadata": {},
   "outputs": [],
   "source": [
    "import praw\n",
    "import pandas as pd\n",
    "import re\n",
    "import emoji\n",
    "from datetime import datetime\n",
    "from collections import defaultdict\n",
    "from tqdm import tqdm\n",
    "import matplotlib.pyplot as plt"
   ]
  },
  {
   "cell_type": "code",
   "execution_count": 2,
   "id": "18eeec29",
   "metadata": {},
   "outputs": [],
   "source": [
    "# === Reddit API Setup ===\n",
    "reddit = praw.Reddit(\n",
    "    client_id='q_dYyqYYdNNInGsM-lC9Xg',\n",
    "    client_secret='pLigWA6vX6llH7NjWBhVWmg-gJjKvg',\n",
    "    user_agent='script:gaming_trend (by /u/HiGhastlyy)'\n",
    ")"
   ]
  },
  {
   "cell_type": "code",
   "execution_count": 8,
   "id": "55019e2c",
   "metadata": {},
   "outputs": [],
   "source": [
    "# === Base game to subreddit variants mapping ===\n",
    "GAME_SUBREDDITS = {\n",
    "    \"Genshin Impact\": [\"genshin_impact\", \"GenshinImpact\"],\n",
    "    \"Valorant\": [\"valorant\", \"ValorantCompetitive\"],\n",
    "    \"GTA\": [\"GTA\", \"GTAOnline\", \"GTA6\", \"GrandTheftAutoV\", \"GTAV\", \"GTAV_Mods\"],\n",
    "    \"League of Legends\": [\"leagueoflegends\", \"summonerschool\", \"LeagueConnect\", \"LeagueOfLegendsSFW\"],\n",
    "    \"Gaming\": [\"gaming\", \"pcgaming\", \"Games\", \"Gamers\",\"videogames\"],\n",
    "    \"Call Of Duty\": [\"CallOfDuty\", \"CODWarzone\",\"CodZombies\", \"CallOfDutyMobile\",\"CODMobile\",\"modernwarfare\"],\n",
    "    \"Minecraft\":  ['Minecraft','minecraftsuggestions','MinecraftDungeons','MinecraftServer'],\n",
    "    \"The Sims\" : ['thesims','Sims4','TheSimsBuilding','Sims3', 'thesims4'],\n",
    "    \"Overwatch\" : ['Overwatch', 'OverwatchLeague', 'Competitiveoverwatch', 'Competitiveoverwatch'],\n",
    "    \"Skyrim\": ['skyrim', 'skyrimmods', 'SkyrimModsXbox', 'SkyrimTogether'],\n",
    "    \"Roblox\": ['roblox', 'RobloxGame', 'GoCommitDie', 'RobloxDevelopers'],\n",
    "}"
   ]
  },
  {
   "cell_type": "code",
   "execution_count": 9,
   "id": "baeaf558",
   "metadata": {},
   "outputs": [],
   "source": [
    "# === Text cleaning ===\n",
    "def clean_text(text):\n",
    "    if not text:\n",
    "        return \"\"\n",
    "    text = text.encode(\"ascii\", errors=\"ignore\").decode()\n",
    "    text = emoji.replace_emoji(text, replace='')\n",
    "    text = re.sub(r'\\s+', ' ', text).strip()\n",
    "    return text\n",
    "\n",
    "# === Bot Detection ===\n",
    "def is_suspected_bot(posts, threshold=5):\n",
    "    duplicates = defaultdict(int)\n",
    "    for p in posts:\n",
    "        key = (p['author'], p['cleaned'])\n",
    "        duplicates[key] += 1\n",
    "    return {author for (author, _), count in duplicates.items() if count >= threshold}\n"
   ]
  },
  {
   "cell_type": "code",
   "execution_count": 10,
   "id": "e8fd9188",
   "metadata": {},
   "outputs": [],
   "source": [
    "def scrape_game_posts(game_name, subreddit_list, start_year=2020, end_year=2024, year_cap=200):\n",
    "    print(f\"\\nScraping for '{game_name}'...\")\n",
    "    year_counts = defaultdict(int)\n",
    "    collected = []\n",
    "\n",
    "    def try_add(post, sub):\n",
    "        if post.stickied or not post.title:\n",
    "            return False\n",
    "\n",
    "        created = datetime.utcfromtimestamp(post.created_utc)\n",
    "        year = created.year\n",
    "        if year < start_year or year > end_year:\n",
    "            return False\n",
    "\n",
    "        if year_counts[year] >= year_cap:\n",
    "            return False\n",
    "\n",
    "        cleaned_title = clean_text(post.title)\n",
    "        if len(cleaned_title) < 10:\n",
    "            return False\n",
    "\n",
    "        post_data = {\n",
    "            'game': game_name,\n",
    "            'subreddit': sub,\n",
    "            'author': str(post.author),\n",
    "            'created_utc': created.isoformat(),\n",
    "            'year': year,\n",
    "            'score': post.score,\n",
    "            'original_title': post.title,\n",
    "            'cleaned': cleaned_title\n",
    "        }\n",
    "\n",
    "        key = (post_data['author'], post_data['original_title'], year)\n",
    "        if key in seen:\n",
    "            return False\n",
    "\n",
    "        collected.append(post_data)\n",
    "        seen.add(key)\n",
    "        year_counts[year] += 1\n",
    "        return True\n",
    "\n",
    "    seen = set()\n",
    "\n",
    "    for sub in subreddit_list:\n",
    "        subreddit = reddit.subreddit(sub)\n",
    "        print(f\"  ➤ Scanning r/{sub}\")\n",
    "\n",
    "        MODES = [\n",
    "            (\"top\", subreddit.top(limit=1000, time_filter=\"all\")),\n",
    "            (\"new\", subreddit.new(limit=1000)),\n",
    "            (\"hot\", subreddit.hot(limit=1000)),\n",
    "            (\"rising\", subreddit.rising(limit=250)),\n",
    "        ]\n",
    "\n",
    "        for mode_name, post_iter in MODES:\n",
    "            if all(year_counts[y] >= year_cap for y in range(start_year, end_year + 1)):\n",
    "                break  # Exit if all years are filled\n",
    "\n",
    "            print(f\"     → Trying .{mode_name}()\")\n",
    "            for post in tqdm(post_iter, desc=f\"{sub} [{mode_name}]\"):\n",
    "                if all(year_counts[y] >= year_cap for y in range(start_year, end_year + 1)):\n",
    "                    break\n",
    "                try_add(post, sub)\n",
    "\n",
    "    # Log any underfilled years\n",
    "    for y in range(start_year, end_year + 1):\n",
    "        if year_counts[y] < year_cap:\n",
    "            print(f\"⚠️  [{game_name}] Year {y} only has {year_counts[y]} posts\")\n",
    "\n",
    "    return collected\n"
   ]
  },
  {
   "cell_type": "code",
   "execution_count": 11,
   "id": "59631d68",
   "metadata": {},
   "outputs": [
    {
     "name": "stdout",
     "output_type": "stream",
     "text": [
      "\n",
      "Scraping for 'Genshin Impact'...\n",
      "  ➤ Scanning r/genshin_impact\n",
      "     → Trying .top()\n"
     ]
    },
    {
     "name": "stderr",
     "output_type": "stream",
     "text": [
      "genshin_impact [top]: 0it [00:00, ?it/s]C:\\Users\\Ghastly\\AppData\\Local\\Temp\\ipykernel_36044\\4008696106.py:10: DeprecationWarning: datetime.datetime.utcfromtimestamp() is deprecated and scheduled for removal in a future version. Use timezone-aware objects to represent datetimes in UTC: datetime.datetime.fromtimestamp(timestamp, datetime.UTC).\n",
      "  created = datetime.utcfromtimestamp(post.created_utc)\n",
      "genshin_impact [top]: 999it [00:24, 41.21it/s]\n"
     ]
    },
    {
     "name": "stdout",
     "output_type": "stream",
     "text": [
      "     → Trying .new()\n"
     ]
    },
    {
     "name": "stderr",
     "output_type": "stream",
     "text": [
      "genshin_impact [new]: 987it [00:19, 49.64it/s]\n"
     ]
    },
    {
     "name": "stdout",
     "output_type": "stream",
     "text": [
      "     → Trying .hot()\n"
     ]
    },
    {
     "name": "stderr",
     "output_type": "stream",
     "text": [
      "genshin_impact [hot]: 779it [00:16, 46.89it/s]\n"
     ]
    },
    {
     "name": "stdout",
     "output_type": "stream",
     "text": [
      "     → Trying .rising()\n"
     ]
    },
    {
     "name": "stderr",
     "output_type": "stream",
     "text": [
      "genshin_impact [rising]: 25it [00:00, 38.32it/s]\n"
     ]
    },
    {
     "name": "stdout",
     "output_type": "stream",
     "text": [
      "  ➤ Scanning r/GenshinImpact\n",
      "     → Trying .top()\n"
     ]
    },
    {
     "name": "stderr",
     "output_type": "stream",
     "text": [
      "GenshinImpact [top]: 988it [00:17, 57.51it/s]\n"
     ]
    },
    {
     "name": "stdout",
     "output_type": "stream",
     "text": [
      "     → Trying .new()\n"
     ]
    },
    {
     "name": "stderr",
     "output_type": "stream",
     "text": [
      "GenshinImpact [new]: 992it [00:16, 59.83it/s]\n"
     ]
    },
    {
     "name": "stdout",
     "output_type": "stream",
     "text": [
      "     → Trying .hot()\n"
     ]
    },
    {
     "name": "stderr",
     "output_type": "stream",
     "text": [
      "GenshinImpact [hot]: 964it [00:16, 58.77it/s]\n"
     ]
    },
    {
     "name": "stdout",
     "output_type": "stream",
     "text": [
      "     → Trying .rising()\n"
     ]
    },
    {
     "name": "stderr",
     "output_type": "stream",
     "text": [
      "GenshinImpact [rising]: 25it [00:00, 40.02it/s]\n"
     ]
    },
    {
     "name": "stdout",
     "output_type": "stream",
     "text": [
      "⚠️  [Genshin Impact] Year 2020 only has 147 posts\n",
      "⚠️  [Genshin Impact] Year 2021 only has 653 posts\n",
      "⚠️  [Genshin Impact] Year 2022 only has 117 posts\n",
      "⚠️  [Genshin Impact] Year 2023 only has 89 posts\n",
      "⚠️  [Genshin Impact] Year 2024 only has 421 posts\n",
      "\n",
      "Scraping for 'Valorant'...\n",
      "  ➤ Scanning r/valorant\n",
      "     → Trying .top()\n"
     ]
    },
    {
     "name": "stderr",
     "output_type": "stream",
     "text": [
      "valorant [top]: 985it [00:19, 50.83it/s]\n"
     ]
    },
    {
     "name": "stdout",
     "output_type": "stream",
     "text": [
      "     → Trying .new()\n"
     ]
    },
    {
     "name": "stderr",
     "output_type": "stream",
     "text": [
      "valorant [new]: 959it [00:16, 57.48it/s]\n"
     ]
    },
    {
     "name": "stdout",
     "output_type": "stream",
     "text": [
      "     → Trying .hot()\n"
     ]
    },
    {
     "name": "stderr",
     "output_type": "stream",
     "text": [
      "valorant [hot]: 656it [00:12, 52.59it/s]\n"
     ]
    },
    {
     "name": "stdout",
     "output_type": "stream",
     "text": [
      "     → Trying .rising()\n"
     ]
    },
    {
     "name": "stderr",
     "output_type": "stream",
     "text": [
      "valorant [rising]: 25it [00:00, 38.33it/s]\n"
     ]
    },
    {
     "name": "stdout",
     "output_type": "stream",
     "text": [
      "  ➤ Scanning r/ValorantCompetitive\n",
      "     → Trying .top()\n"
     ]
    },
    {
     "name": "stderr",
     "output_type": "stream",
     "text": [
      "ValorantCompetitive [top]: 900it [00:20, 44.04it/s]\n"
     ]
    },
    {
     "name": "stdout",
     "output_type": "stream",
     "text": [
      "     → Trying .new()\n"
     ]
    },
    {
     "name": "stderr",
     "output_type": "stream",
     "text": [
      "ValorantCompetitive [new]: 981it [00:19, 49.98it/s]\n"
     ]
    },
    {
     "name": "stdout",
     "output_type": "stream",
     "text": [
      "     → Trying .hot()\n"
     ]
    },
    {
     "name": "stderr",
     "output_type": "stream",
     "text": [
      "ValorantCompetitive [hot]: 939it [00:19, 48.11it/s]\n"
     ]
    },
    {
     "name": "stdout",
     "output_type": "stream",
     "text": [
      "     → Trying .rising()\n"
     ]
    },
    {
     "name": "stderr",
     "output_type": "stream",
     "text": [
      "ValorantCompetitive [rising]: 25it [00:00, 29.11it/s]\n"
     ]
    },
    {
     "name": "stdout",
     "output_type": "stream",
     "text": [
      "⚠️  [Valorant] Year 2020 only has 389 posts\n",
      "⚠️  [Valorant] Year 2021 only has 574 posts\n",
      "⚠️  [Valorant] Year 2022 only has 397 posts\n",
      "⚠️  [Valorant] Year 2023 only has 185 posts\n",
      "⚠️  [Valorant] Year 2024 only has 165 posts\n",
      "\n",
      "Scraping for 'GTA'...\n",
      "  ➤ Scanning r/GTA\n",
      "     → Trying .top()\n"
     ]
    },
    {
     "name": "stderr",
     "output_type": "stream",
     "text": [
      "GTA [top]: 983it [00:18, 53.37it/s]\n"
     ]
    },
    {
     "name": "stdout",
     "output_type": "stream",
     "text": [
      "     → Trying .new()\n"
     ]
    },
    {
     "name": "stderr",
     "output_type": "stream",
     "text": [
      "GTA [new]: 970it [00:18, 51.49it/s]\n"
     ]
    },
    {
     "name": "stdout",
     "output_type": "stream",
     "text": [
      "     → Trying .hot()\n"
     ]
    },
    {
     "name": "stderr",
     "output_type": "stream",
     "text": [
      "GTA [hot]: 918it [00:18, 50.93it/s]\n"
     ]
    },
    {
     "name": "stdout",
     "output_type": "stream",
     "text": [
      "     → Trying .rising()\n"
     ]
    },
    {
     "name": "stderr",
     "output_type": "stream",
     "text": [
      "GTA [rising]: 25it [00:00, 36.19it/s]\n"
     ]
    },
    {
     "name": "stdout",
     "output_type": "stream",
     "text": [
      "  ➤ Scanning r/GTAOnline\n",
      "     → Trying .top()\n"
     ]
    },
    {
     "name": "stderr",
     "output_type": "stream",
     "text": [
      "GTAOnline [top]: 998it [00:20, 49.80it/s]\n"
     ]
    },
    {
     "name": "stdout",
     "output_type": "stream",
     "text": [
      "     → Trying .new()\n"
     ]
    },
    {
     "name": "stderr",
     "output_type": "stream",
     "text": [
      "GTAOnline [new]: 982it [00:21, 44.73it/s]\n"
     ]
    },
    {
     "name": "stdout",
     "output_type": "stream",
     "text": [
      "     → Trying .hot()\n"
     ]
    },
    {
     "name": "stderr",
     "output_type": "stream",
     "text": [
      "GTAOnline [hot]: 629it [00:15, 41.63it/s]\n"
     ]
    },
    {
     "name": "stdout",
     "output_type": "stream",
     "text": [
      "     → Trying .rising()\n"
     ]
    },
    {
     "name": "stderr",
     "output_type": "stream",
     "text": [
      "GTAOnline [rising]: 25it [00:00, 27.56it/s]\n"
     ]
    },
    {
     "name": "stdout",
     "output_type": "stream",
     "text": [
      "  ➤ Scanning r/GTA6\n",
      "     → Trying .top()\n"
     ]
    },
    {
     "name": "stderr",
     "output_type": "stream",
     "text": [
      "GTA6 [top]: 983it [00:21, 45.60it/s]\n"
     ]
    },
    {
     "name": "stdout",
     "output_type": "stream",
     "text": [
      "     → Trying .new()\n"
     ]
    },
    {
     "name": "stderr",
     "output_type": "stream",
     "text": [
      "GTA6 [new]: 949it [00:24, 38.14it/s]\n"
     ]
    },
    {
     "name": "stdout",
     "output_type": "stream",
     "text": [
      "     → Trying .hot()\n"
     ]
    },
    {
     "name": "stderr",
     "output_type": "stream",
     "text": [
      "GTA6 [hot]: 489it [00:12, 39.55it/s]\n"
     ]
    },
    {
     "name": "stdout",
     "output_type": "stream",
     "text": [
      "     → Trying .rising()\n"
     ]
    },
    {
     "name": "stderr",
     "output_type": "stream",
     "text": [
      "GTA6 [rising]: 25it [00:00, 33.72it/s]\n"
     ]
    },
    {
     "name": "stdout",
     "output_type": "stream",
     "text": [
      "  ➤ Scanning r/GrandTheftAutoV\n",
      "     → Trying .top()\n"
     ]
    },
    {
     "name": "stderr",
     "output_type": "stream",
     "text": [
      "GrandTheftAutoV [top]: 997it [00:15, 65.65it/s]\n"
     ]
    },
    {
     "name": "stdout",
     "output_type": "stream",
     "text": [
      "     → Trying .new()\n"
     ]
    },
    {
     "name": "stderr",
     "output_type": "stream",
     "text": [
      "GrandTheftAutoV [new]: 970it [00:19, 51.01it/s]\n"
     ]
    },
    {
     "name": "stdout",
     "output_type": "stream",
     "text": [
      "     → Trying .hot()\n"
     ]
    },
    {
     "name": "stderr",
     "output_type": "stream",
     "text": [
      "GrandTheftAutoV [hot]: 951it [00:18, 52.36it/s]\n"
     ]
    },
    {
     "name": "stdout",
     "output_type": "stream",
     "text": [
      "     → Trying .rising()\n"
     ]
    },
    {
     "name": "stderr",
     "output_type": "stream",
     "text": [
      "GrandTheftAutoV [rising]: 25it [00:00, 36.08it/s]\n"
     ]
    },
    {
     "name": "stdout",
     "output_type": "stream",
     "text": [
      "  ➤ Scanning r/GTAV\n",
      "     → Trying .top()\n"
     ]
    },
    {
     "name": "stderr",
     "output_type": "stream",
     "text": [
      "GTAV [top]: 995it [00:20, 48.45it/s]\n"
     ]
    },
    {
     "name": "stdout",
     "output_type": "stream",
     "text": [
      "     → Trying .new()\n"
     ]
    },
    {
     "name": "stderr",
     "output_type": "stream",
     "text": [
      "GTAV [new]: 981it [00:18, 53.20it/s]\n"
     ]
    },
    {
     "name": "stdout",
     "output_type": "stream",
     "text": [
      "     → Trying .hot()\n"
     ]
    },
    {
     "name": "stderr",
     "output_type": "stream",
     "text": [
      "GTAV [hot]: 981it [00:19, 50.05it/s]\n"
     ]
    },
    {
     "name": "stdout",
     "output_type": "stream",
     "text": [
      "     → Trying .rising()\n"
     ]
    },
    {
     "name": "stderr",
     "output_type": "stream",
     "text": [
      "GTAV [rising]: 25it [00:00, 36.66it/s]\n"
     ]
    },
    {
     "name": "stdout",
     "output_type": "stream",
     "text": [
      "  ➤ Scanning r/GTAV_Mods\n",
      "     → Trying .top()\n"
     ]
    },
    {
     "name": "stderr",
     "output_type": "stream",
     "text": [
      "GTAV_Mods [top]: 999it [00:20, 49.85it/s]\n"
     ]
    },
    {
     "name": "stdout",
     "output_type": "stream",
     "text": [
      "     → Trying .new()\n"
     ]
    },
    {
     "name": "stderr",
     "output_type": "stream",
     "text": [
      "GTAV_Mods [new]: 862it [00:14, 58.34it/s]\n"
     ]
    },
    {
     "name": "stdout",
     "output_type": "stream",
     "text": [
      "     → Trying .hot()\n"
     ]
    },
    {
     "name": "stderr",
     "output_type": "stream",
     "text": [
      "GTAV_Mods [hot]: 563it [00:10, 54.44it/s]\n"
     ]
    },
    {
     "name": "stdout",
     "output_type": "stream",
     "text": [
      "     → Trying .rising()\n"
     ]
    },
    {
     "name": "stderr",
     "output_type": "stream",
     "text": [
      "GTAV_Mods [rising]: 25it [00:00, 40.02it/s]\n"
     ]
    },
    {
     "name": "stdout",
     "output_type": "stream",
     "text": [
      "⚠️  [GTA] Year 2021 only has 970 posts\n",
      "⚠️  [GTA] Year 2022 only has 277 posts\n",
      "⚠️  [GTA] Year 2023 only has 338 posts\n",
      "\n",
      "Scraping for 'League of Legends'...\n",
      "  ➤ Scanning r/leagueoflegends\n",
      "     → Trying .top()\n"
     ]
    },
    {
     "name": "stderr",
     "output_type": "stream",
     "text": [
      "leagueoflegends [top]: 987it [00:21, 46.98it/s]\n"
     ]
    },
    {
     "name": "stdout",
     "output_type": "stream",
     "text": [
      "     → Trying .new()\n"
     ]
    },
    {
     "name": "stderr",
     "output_type": "stream",
     "text": [
      "leagueoflegends [new]: 946it [00:16, 55.87it/s]\n"
     ]
    },
    {
     "name": "stdout",
     "output_type": "stream",
     "text": [
      "     → Trying .hot()\n"
     ]
    },
    {
     "name": "stderr",
     "output_type": "stream",
     "text": [
      "leagueoflegends [hot]: 656it [00:12, 50.82it/s]\n"
     ]
    },
    {
     "name": "stdout",
     "output_type": "stream",
     "text": [
      "     → Trying .rising()\n"
     ]
    },
    {
     "name": "stderr",
     "output_type": "stream",
     "text": [
      "leagueoflegends [rising]: 25it [00:00, 31.06it/s]\n"
     ]
    },
    {
     "name": "stdout",
     "output_type": "stream",
     "text": [
      "  ➤ Scanning r/summonerschool\n",
      "     → Trying .top()\n"
     ]
    },
    {
     "name": "stderr",
     "output_type": "stream",
     "text": [
      "summonerschool [top]: 990it [00:20, 49.36it/s]\n"
     ]
    },
    {
     "name": "stdout",
     "output_type": "stream",
     "text": [
      "     → Trying .new()\n"
     ]
    },
    {
     "name": "stderr",
     "output_type": "stream",
     "text": [
      "summonerschool [new]: 970it [00:17, 55.10it/s]\n"
     ]
    },
    {
     "name": "stdout",
     "output_type": "stream",
     "text": [
      "     → Trying .hot()\n"
     ]
    },
    {
     "name": "stderr",
     "output_type": "stream",
     "text": [
      "summonerschool [hot]: 786it [00:12, 61.27it/s]\n"
     ]
    },
    {
     "name": "stdout",
     "output_type": "stream",
     "text": [
      "     → Trying .rising()\n"
     ]
    },
    {
     "name": "stderr",
     "output_type": "stream",
     "text": [
      "summonerschool [rising]: 25it [00:00, 37.83it/s]\n"
     ]
    },
    {
     "name": "stdout",
     "output_type": "stream",
     "text": [
      "  ➤ Scanning r/LeagueConnect\n",
      "     → Trying .top()\n"
     ]
    },
    {
     "name": "stderr",
     "output_type": "stream",
     "text": [
      "LeagueConnect [top]: 997it [00:17, 56.86it/s]\n"
     ]
    },
    {
     "name": "stdout",
     "output_type": "stream",
     "text": [
      "     → Trying .new()\n"
     ]
    },
    {
     "name": "stderr",
     "output_type": "stream",
     "text": [
      "LeagueConnect [new]: 986it [00:13, 74.12it/s]\n"
     ]
    },
    {
     "name": "stdout",
     "output_type": "stream",
     "text": [
      "     → Trying .hot()\n"
     ]
    },
    {
     "name": "stderr",
     "output_type": "stream",
     "text": [
      "LeagueConnect [hot]: 961it [00:13, 71.54it/s]\n"
     ]
    },
    {
     "name": "stdout",
     "output_type": "stream",
     "text": [
      "     → Trying .rising()\n"
     ]
    },
    {
     "name": "stderr",
     "output_type": "stream",
     "text": [
      "LeagueConnect [rising]: 25it [00:00, 45.56it/s]\n"
     ]
    },
    {
     "name": "stdout",
     "output_type": "stream",
     "text": [
      "  ➤ Scanning r/LeagueOfLegendsSFW\n",
      "     → Trying .top()\n"
     ]
    },
    {
     "name": "stderr",
     "output_type": "stream",
     "text": [
      "LeagueOfLegendsSFW [top]: 999it [00:25, 39.17it/s]\n"
     ]
    },
    {
     "name": "stdout",
     "output_type": "stream",
     "text": [
      "     → Trying .new()\n"
     ]
    },
    {
     "name": "stderr",
     "output_type": "stream",
     "text": [
      "LeagueOfLegendsSFW [new]: 984it [00:23, 41.14it/s]\n"
     ]
    },
    {
     "name": "stdout",
     "output_type": "stream",
     "text": [
      "     → Trying .hot()\n"
     ]
    },
    {
     "name": "stderr",
     "output_type": "stream",
     "text": [
      "LeagueOfLegendsSFW [hot]: 999it [00:23, 43.06it/s]\n"
     ]
    },
    {
     "name": "stdout",
     "output_type": "stream",
     "text": [
      "     → Trying .rising()\n"
     ]
    },
    {
     "name": "stderr",
     "output_type": "stream",
     "text": [
      "LeagueOfLegendsSFW [rising]: 25it [00:00, 33.66it/s]\n"
     ]
    },
    {
     "name": "stdout",
     "output_type": "stream",
     "text": [
      "⚠️  [League of Legends] Year 2021 only has 720 posts\n",
      "⚠️  [League of Legends] Year 2022 only has 209 posts\n",
      "⚠️  [League of Legends] Year 2023 only has 953 posts\n",
      "⚠️  [League of Legends] Year 2024 only has 325 posts\n",
      "\n",
      "Scraping for 'Gaming'...\n",
      "  ➤ Scanning r/gaming\n",
      "     → Trying .top()\n"
     ]
    },
    {
     "name": "stderr",
     "output_type": "stream",
     "text": [
      "gaming [top]: 995it [00:18, 52.47it/s]\n"
     ]
    },
    {
     "name": "stdout",
     "output_type": "stream",
     "text": [
      "     → Trying .new()\n"
     ]
    },
    {
     "name": "stderr",
     "output_type": "stream",
     "text": [
      "gaming [new]: 889it [00:14, 62.07it/s]\n"
     ]
    },
    {
     "name": "stdout",
     "output_type": "stream",
     "text": [
      "     → Trying .hot()\n"
     ]
    },
    {
     "name": "stderr",
     "output_type": "stream",
     "text": [
      "gaming [hot]: 502it [00:09, 52.30it/s]\n"
     ]
    },
    {
     "name": "stdout",
     "output_type": "stream",
     "text": [
      "     → Trying .rising()\n"
     ]
    },
    {
     "name": "stderr",
     "output_type": "stream",
     "text": [
      "gaming [rising]: 25it [00:00, 38.02it/s]\n"
     ]
    },
    {
     "name": "stdout",
     "output_type": "stream",
     "text": [
      "  ➤ Scanning r/pcgaming\n",
      "     → Trying .top()\n"
     ]
    },
    {
     "name": "stderr",
     "output_type": "stream",
     "text": [
      "pcgaming [top]: 996it [00:19, 50.20it/s]\n"
     ]
    },
    {
     "name": "stdout",
     "output_type": "stream",
     "text": [
      "     → Trying .new()\n"
     ]
    },
    {
     "name": "stderr",
     "output_type": "stream",
     "text": [
      "pcgaming [new]: 928it [00:16, 55.58it/s]\n"
     ]
    },
    {
     "name": "stdout",
     "output_type": "stream",
     "text": [
      "     → Trying .hot()\n"
     ]
    },
    {
     "name": "stderr",
     "output_type": "stream",
     "text": [
      "pcgaming [hot]: 218it [00:06, 33.53it/s]\n"
     ]
    },
    {
     "name": "stdout",
     "output_type": "stream",
     "text": [
      "     → Trying .rising()\n"
     ]
    },
    {
     "name": "stderr",
     "output_type": "stream",
     "text": [
      "pcgaming [rising]: 25it [00:00, 32.17it/s]\n"
     ]
    },
    {
     "name": "stdout",
     "output_type": "stream",
     "text": [
      "  ➤ Scanning r/Games\n",
      "     → Trying .top()\n"
     ]
    },
    {
     "name": "stderr",
     "output_type": "stream",
     "text": [
      "Games [top]: 1000it [00:18, 53.30it/s]\n"
     ]
    },
    {
     "name": "stdout",
     "output_type": "stream",
     "text": [
      "     → Trying .new()\n"
     ]
    },
    {
     "name": "stderr",
     "output_type": "stream",
     "text": [
      "Games [new]: 812it [00:14, 56.25it/s]\n"
     ]
    },
    {
     "name": "stdout",
     "output_type": "stream",
     "text": [
      "     → Trying .hot()\n"
     ]
    },
    {
     "name": "stderr",
     "output_type": "stream",
     "text": [
      "Games [hot]: 361it [00:07, 48.75it/s]\n"
     ]
    },
    {
     "name": "stdout",
     "output_type": "stream",
     "text": [
      "     → Trying .rising()\n"
     ]
    },
    {
     "name": "stderr",
     "output_type": "stream",
     "text": [
      "Games [rising]: 25it [00:00, 41.13it/s]\n"
     ]
    },
    {
     "name": "stdout",
     "output_type": "stream",
     "text": [
      "  ➤ Scanning r/Gamers\n",
      "     → Trying .top()\n"
     ]
    },
    {
     "name": "stderr",
     "output_type": "stream",
     "text": [
      "Gamers [top]: 996it [00:23, 41.67it/s]\n"
     ]
    },
    {
     "name": "stdout",
     "output_type": "stream",
     "text": [
      "     → Trying .new()\n"
     ]
    },
    {
     "name": "stderr",
     "output_type": "stream",
     "text": [
      "Gamers [new]: 940it [00:19, 48.82it/s]\n"
     ]
    },
    {
     "name": "stdout",
     "output_type": "stream",
     "text": [
      "     → Trying .hot()\n"
     ]
    },
    {
     "name": "stderr",
     "output_type": "stream",
     "text": [
      "Gamers [hot]: 846it [00:17, 49.62it/s]\n"
     ]
    },
    {
     "name": "stdout",
     "output_type": "stream",
     "text": [
      "     → Trying .rising()\n"
     ]
    },
    {
     "name": "stderr",
     "output_type": "stream",
     "text": [
      "Gamers [rising]: 24it [00:00, 26.25it/s]\n"
     ]
    },
    {
     "name": "stdout",
     "output_type": "stream",
     "text": [
      "  ➤ Scanning r/videogames\n",
      "     → Trying .top()\n"
     ]
    },
    {
     "name": "stderr",
     "output_type": "stream",
     "text": [
      "videogames [top]: 917it [00:16, 54.69it/s]\n"
     ]
    },
    {
     "name": "stdout",
     "output_type": "stream",
     "text": [
      "     → Trying .new()\n"
     ]
    },
    {
     "name": "stderr",
     "output_type": "stream",
     "text": [
      "videogames [new]: 976it [00:17, 55.47it/s]\n"
     ]
    },
    {
     "name": "stdout",
     "output_type": "stream",
     "text": [
      "     → Trying .hot()\n"
     ]
    },
    {
     "name": "stderr",
     "output_type": "stream",
     "text": [
      "videogames [hot]: 923it [00:15, 57.71it/s]\n"
     ]
    },
    {
     "name": "stdout",
     "output_type": "stream",
     "text": [
      "     → Trying .rising()\n"
     ]
    },
    {
     "name": "stderr",
     "output_type": "stream",
     "text": [
      "videogames [rising]: 25it [00:00, 29.45it/s]\n"
     ]
    },
    {
     "name": "stdout",
     "output_type": "stream",
     "text": [
      "⚠️  [Gaming] Year 2020 only has 875 posts\n",
      "⚠️  [Gaming] Year 2021 only has 707 posts\n",
      "⚠️  [Gaming] Year 2022 only has 303 posts\n",
      "⚠️  [Gaming] Year 2023 only has 217 posts\n",
      "⚠️  [Gaming] Year 2024 only has 505 posts\n",
      "\n",
      "Scraping for 'Call Of Duty'...\n",
      "  ➤ Scanning r/CallOfDuty\n",
      "     → Trying .top()\n"
     ]
    },
    {
     "name": "stderr",
     "output_type": "stream",
     "text": [
      "CallOfDuty [top]: 987it [00:18, 52.97it/s]\n"
     ]
    },
    {
     "name": "stdout",
     "output_type": "stream",
     "text": [
      "     → Trying .new()\n"
     ]
    },
    {
     "name": "stderr",
     "output_type": "stream",
     "text": [
      "CallOfDuty [new]: 973it [00:19, 49.93it/s]\n"
     ]
    },
    {
     "name": "stdout",
     "output_type": "stream",
     "text": [
      "     → Trying .hot()\n"
     ]
    },
    {
     "name": "stderr",
     "output_type": "stream",
     "text": [
      "CallOfDuty [hot]: 250it [00:08, 28.17it/s]\n"
     ]
    },
    {
     "name": "stdout",
     "output_type": "stream",
     "text": [
      "     → Trying .rising()\n"
     ]
    },
    {
     "name": "stderr",
     "output_type": "stream",
     "text": [
      "CallOfDuty [rising]: 25it [00:00, 28.59it/s]\n"
     ]
    },
    {
     "name": "stdout",
     "output_type": "stream",
     "text": [
      "  ➤ Scanning r/CODWarzone\n",
      "     → Trying .top()\n"
     ]
    },
    {
     "name": "stderr",
     "output_type": "stream",
     "text": [
      "CODWarzone [top]: 997it [00:18, 52.70it/s]\n"
     ]
    },
    {
     "name": "stdout",
     "output_type": "stream",
     "text": [
      "     → Trying .new()\n"
     ]
    },
    {
     "name": "stderr",
     "output_type": "stream",
     "text": [
      "CODWarzone [new]: 974it [00:17, 55.83it/s]\n"
     ]
    },
    {
     "name": "stdout",
     "output_type": "stream",
     "text": [
      "     → Trying .hot()\n"
     ]
    },
    {
     "name": "stderr",
     "output_type": "stream",
     "text": [
      "CODWarzone [hot]: 769it [00:14, 54.52it/s]\n"
     ]
    },
    {
     "name": "stdout",
     "output_type": "stream",
     "text": [
      "     → Trying .rising()\n"
     ]
    },
    {
     "name": "stderr",
     "output_type": "stream",
     "text": [
      "CODWarzone [rising]: 25it [00:00, 40.71it/s]\n"
     ]
    },
    {
     "name": "stdout",
     "output_type": "stream",
     "text": [
      "  ➤ Scanning r/CodZombies\n",
      "     → Trying .top()\n"
     ]
    },
    {
     "name": "stderr",
     "output_type": "stream",
     "text": [
      "CodZombies [top]: 997it [00:20, 49.73it/s]\n"
     ]
    },
    {
     "name": "stdout",
     "output_type": "stream",
     "text": [
      "     → Trying .new()\n"
     ]
    },
    {
     "name": "stderr",
     "output_type": "stream",
     "text": [
      "CodZombies [new]: 990it [00:19, 51.04it/s]\n"
     ]
    },
    {
     "name": "stdout",
     "output_type": "stream",
     "text": [
      "     → Trying .hot()\n"
     ]
    },
    {
     "name": "stderr",
     "output_type": "stream",
     "text": [
      "CodZombies [hot]: 841it [00:17, 47.89it/s]\n"
     ]
    },
    {
     "name": "stdout",
     "output_type": "stream",
     "text": [
      "     → Trying .rising()\n"
     ]
    },
    {
     "name": "stderr",
     "output_type": "stream",
     "text": [
      "CodZombies [rising]: 25it [00:00, 36.11it/s]\n"
     ]
    },
    {
     "name": "stdout",
     "output_type": "stream",
     "text": [
      "  ➤ Scanning r/CallOfDutyMobile\n",
      "     → Trying .top()\n"
     ]
    },
    {
     "name": "stderr",
     "output_type": "stream",
     "text": [
      "CallOfDutyMobile [top]: 997it [00:18, 52.73it/s]\n"
     ]
    },
    {
     "name": "stdout",
     "output_type": "stream",
     "text": [
      "     → Trying .new()\n"
     ]
    },
    {
     "name": "stderr",
     "output_type": "stream",
     "text": [
      "CallOfDutyMobile [new]: 921it [00:19, 47.43it/s]\n"
     ]
    },
    {
     "name": "stdout",
     "output_type": "stream",
     "text": [
      "     → Trying .hot()\n"
     ]
    },
    {
     "name": "stderr",
     "output_type": "stream",
     "text": [
      "CallOfDutyMobile [hot]: 804it [00:16, 49.87it/s]\n"
     ]
    },
    {
     "name": "stdout",
     "output_type": "stream",
     "text": [
      "     → Trying .rising()\n"
     ]
    },
    {
     "name": "stderr",
     "output_type": "stream",
     "text": [
      "CallOfDutyMobile [rising]: 25it [00:00, 29.70it/s]\n"
     ]
    },
    {
     "name": "stdout",
     "output_type": "stream",
     "text": [
      "  ➤ Scanning r/CODMobile\n",
      "     → Trying .top()\n"
     ]
    },
    {
     "name": "stderr",
     "output_type": "stream",
     "text": [
      "CODMobile [top]: 996it [00:19, 50.61it/s]\n"
     ]
    },
    {
     "name": "stdout",
     "output_type": "stream",
     "text": [
      "     → Trying .new()\n"
     ]
    },
    {
     "name": "stderr",
     "output_type": "stream",
     "text": [
      "CODMobile [new]: 795it [00:15, 51.65it/s]\n"
     ]
    },
    {
     "name": "stdout",
     "output_type": "stream",
     "text": [
      "     → Trying .hot()\n"
     ]
    },
    {
     "name": "stderr",
     "output_type": "stream",
     "text": [
      "CODMobile [hot]: 778it [00:13, 56.12it/s]\n"
     ]
    },
    {
     "name": "stdout",
     "output_type": "stream",
     "text": [
      "     → Trying .rising()\n"
     ]
    },
    {
     "name": "stderr",
     "output_type": "stream",
     "text": [
      "CODMobile [rising]: 25it [00:00, 28.23it/s]\n"
     ]
    },
    {
     "name": "stdout",
     "output_type": "stream",
     "text": [
      "  ➤ Scanning r/modernwarfare\n",
      "     → Trying .top()\n"
     ]
    },
    {
     "name": "stderr",
     "output_type": "stream",
     "text": [
      "modernwarfare [top]: 993it [00:19, 51.81it/s]\n"
     ]
    },
    {
     "name": "stdout",
     "output_type": "stream",
     "text": [
      "     → Trying .new()\n"
     ]
    },
    {
     "name": "stderr",
     "output_type": "stream",
     "text": [
      "modernwarfare [new]: 965it [00:18, 52.27it/s]\n"
     ]
    },
    {
     "name": "stdout",
     "output_type": "stream",
     "text": [
      "     → Trying .hot()\n"
     ]
    },
    {
     "name": "stderr",
     "output_type": "stream",
     "text": [
      "modernwarfare [hot]: 812it [00:16, 48.09it/s]\n"
     ]
    },
    {
     "name": "stdout",
     "output_type": "stream",
     "text": [
      "     → Trying .rising()\n"
     ]
    },
    {
     "name": "stderr",
     "output_type": "stream",
     "text": [
      "modernwarfare [rising]: 25it [00:00, 29.95it/s]\n"
     ]
    },
    {
     "name": "stdout",
     "output_type": "stream",
     "text": [
      "⚠️  [Call Of Duty] Year 2022 only has 184 posts\n",
      "⚠️  [Call Of Duty] Year 2023 only has 99 posts\n",
      "⚠️  [Call Of Duty] Year 2024 only has 210 posts\n",
      "\n",
      "Scraping for 'Minecraft'...\n",
      "  ➤ Scanning r/Minecraft\n",
      "     → Trying .top()\n"
     ]
    },
    {
     "name": "stderr",
     "output_type": "stream",
     "text": [
      "Minecraft [top]: 987it [00:20, 48.13it/s]\n"
     ]
    },
    {
     "name": "stdout",
     "output_type": "stream",
     "text": [
      "     → Trying .new()\n"
     ]
    },
    {
     "name": "stderr",
     "output_type": "stream",
     "text": [
      "Minecraft [new]: 953it [00:20, 46.15it/s]\n"
     ]
    },
    {
     "name": "stdout",
     "output_type": "stream",
     "text": [
      "     → Trying .hot()\n"
     ]
    },
    {
     "name": "stderr",
     "output_type": "stream",
     "text": [
      "Minecraft [hot]: 866it [00:19, 44.48it/s]\n"
     ]
    },
    {
     "name": "stdout",
     "output_type": "stream",
     "text": [
      "     → Trying .rising()\n"
     ]
    },
    {
     "name": "stderr",
     "output_type": "stream",
     "text": [
      "Minecraft [rising]: 25it [00:00, 28.53it/s]\n"
     ]
    },
    {
     "name": "stdout",
     "output_type": "stream",
     "text": [
      "  ➤ Scanning r/minecraftsuggestions\n",
      "     → Trying .top()\n"
     ]
    },
    {
     "name": "stderr",
     "output_type": "stream",
     "text": [
      "minecraftsuggestions [top]: 996it [00:23, 42.84it/s]\n"
     ]
    },
    {
     "name": "stdout",
     "output_type": "stream",
     "text": [
      "     → Trying .new()\n"
     ]
    },
    {
     "name": "stderr",
     "output_type": "stream",
     "text": [
      "minecraftsuggestions [new]: 955it [00:20, 45.84it/s]\n"
     ]
    },
    {
     "name": "stdout",
     "output_type": "stream",
     "text": [
      "     → Trying .hot()\n"
     ]
    },
    {
     "name": "stderr",
     "output_type": "stream",
     "text": [
      "minecraftsuggestions [hot]: 662it [00:14, 46.93it/s]\n"
     ]
    },
    {
     "name": "stdout",
     "output_type": "stream",
     "text": [
      "     → Trying .rising()\n"
     ]
    },
    {
     "name": "stderr",
     "output_type": "stream",
     "text": [
      "minecraftsuggestions [rising]: 25it [00:00, 36.97it/s]\n"
     ]
    },
    {
     "name": "stdout",
     "output_type": "stream",
     "text": [
      "  ➤ Scanning r/MinecraftDungeons\n",
      "     → Trying .top()\n"
     ]
    },
    {
     "name": "stderr",
     "output_type": "stream",
     "text": [
      "MinecraftDungeons [top]: 999it [00:19, 51.52it/s]\n"
     ]
    },
    {
     "name": "stdout",
     "output_type": "stream",
     "text": [
      "     → Trying .new()\n"
     ]
    },
    {
     "name": "stderr",
     "output_type": "stream",
     "text": [
      "MinecraftDungeons [new]: 989it [00:19, 50.63it/s]\n"
     ]
    },
    {
     "name": "stdout",
     "output_type": "stream",
     "text": [
      "     → Trying .hot()\n"
     ]
    },
    {
     "name": "stderr",
     "output_type": "stream",
     "text": [
      "MinecraftDungeons [hot]: 986it [00:18, 51.92it/s]\n"
     ]
    },
    {
     "name": "stdout",
     "output_type": "stream",
     "text": [
      "     → Trying .rising()\n"
     ]
    },
    {
     "name": "stderr",
     "output_type": "stream",
     "text": [
      "MinecraftDungeons [rising]: 25it [00:00, 27.43it/s]\n"
     ]
    },
    {
     "name": "stdout",
     "output_type": "stream",
     "text": [
      "  ➤ Scanning r/MinecraftServer\n",
      "     → Trying .top()\n"
     ]
    },
    {
     "name": "stderr",
     "output_type": "stream",
     "text": [
      "MinecraftServer [top]: 1000it [00:22, 45.34it/s]\n"
     ]
    },
    {
     "name": "stdout",
     "output_type": "stream",
     "text": [
      "     → Trying .new()\n"
     ]
    },
    {
     "name": "stderr",
     "output_type": "stream",
     "text": [
      "MinecraftServer [new]: 964it [00:17, 54.52it/s]\n"
     ]
    },
    {
     "name": "stdout",
     "output_type": "stream",
     "text": [
      "     → Trying .hot()\n"
     ]
    },
    {
     "name": "stderr",
     "output_type": "stream",
     "text": [
      "MinecraftServer [hot]: 957it [00:18, 53.07it/s]\n"
     ]
    },
    {
     "name": "stdout",
     "output_type": "stream",
     "text": [
      "     → Trying .rising()\n"
     ]
    },
    {
     "name": "stderr",
     "output_type": "stream",
     "text": [
      "MinecraftServer [rising]: 25it [00:00, 30.26it/s]\n"
     ]
    },
    {
     "name": "stdout",
     "output_type": "stream",
     "text": [
      "⚠️  [Minecraft] Year 2022 only has 204 posts\n",
      "⚠️  [Minecraft] Year 2023 only has 65 posts\n",
      "⚠️  [Minecraft] Year 2024 only has 96 posts\n",
      "\n",
      "Scraping for 'The Sims'...\n",
      "  ➤ Scanning r/thesims\n",
      "     → Trying .top()\n"
     ]
    },
    {
     "name": "stderr",
     "output_type": "stream",
     "text": [
      "thesims [top]: 1000it [00:21, 45.62it/s]\n"
     ]
    },
    {
     "name": "stdout",
     "output_type": "stream",
     "text": [
      "     → Trying .new()\n"
     ]
    },
    {
     "name": "stderr",
     "output_type": "stream",
     "text": [
      "thesims [new]: 993it [00:24, 40.28it/s]\n"
     ]
    },
    {
     "name": "stdout",
     "output_type": "stream",
     "text": [
      "     → Trying .hot()\n"
     ]
    },
    {
     "name": "stderr",
     "output_type": "stream",
     "text": [
      "thesims [hot]: 969it [00:24, 39.38it/s]\n"
     ]
    },
    {
     "name": "stdout",
     "output_type": "stream",
     "text": [
      "     → Trying .rising()\n"
     ]
    },
    {
     "name": "stderr",
     "output_type": "stream",
     "text": [
      "thesims [rising]: 25it [00:00, 27.46it/s]\n"
     ]
    },
    {
     "name": "stdout",
     "output_type": "stream",
     "text": [
      "  ➤ Scanning r/Sims4\n",
      "     → Trying .top()\n"
     ]
    },
    {
     "name": "stderr",
     "output_type": "stream",
     "text": [
      "Sims4 [top]: 1000it [00:23, 43.25it/s]\n"
     ]
    },
    {
     "name": "stdout",
     "output_type": "stream",
     "text": [
      "     → Trying .new()\n"
     ]
    },
    {
     "name": "stderr",
     "output_type": "stream",
     "text": [
      "Sims4 [new]: 985it [00:27, 36.31it/s]\n"
     ]
    },
    {
     "name": "stdout",
     "output_type": "stream",
     "text": [
      "     → Trying .hot()\n"
     ]
    },
    {
     "name": "stderr",
     "output_type": "stream",
     "text": [
      "Sims4 [hot]: 401it [00:13, 30.41it/s]\n"
     ]
    },
    {
     "name": "stdout",
     "output_type": "stream",
     "text": [
      "     → Trying .rising()\n"
     ]
    },
    {
     "name": "stderr",
     "output_type": "stream",
     "text": [
      "Sims4 [rising]: 25it [00:01, 24.74it/s]\n"
     ]
    },
    {
     "name": "stdout",
     "output_type": "stream",
     "text": [
      "  ➤ Scanning r/TheSimsBuilding\n",
      "     → Trying .top()\n"
     ]
    },
    {
     "name": "stderr",
     "output_type": "stream",
     "text": [
      "TheSimsBuilding [top]: 1000it [00:47, 21.12it/s]\n"
     ]
    },
    {
     "name": "stdout",
     "output_type": "stream",
     "text": [
      "     → Trying .new()\n"
     ]
    },
    {
     "name": "stderr",
     "output_type": "stream",
     "text": [
      "TheSimsBuilding [new]: 995it [00:53, 18.56it/s]\n"
     ]
    },
    {
     "name": "stdout",
     "output_type": "stream",
     "text": [
      "     → Trying .hot()\n"
     ]
    },
    {
     "name": "stderr",
     "output_type": "stream",
     "text": [
      "TheSimsBuilding [hot]: 992it [00:53, 18.67it/s]\n"
     ]
    },
    {
     "name": "stdout",
     "output_type": "stream",
     "text": [
      "     → Trying .rising()\n"
     ]
    },
    {
     "name": "stderr",
     "output_type": "stream",
     "text": [
      "TheSimsBuilding [rising]: 25it [00:00, 25.53it/s]\n"
     ]
    },
    {
     "name": "stdout",
     "output_type": "stream",
     "text": [
      "  ➤ Scanning r/Sims3\n",
      "     → Trying .top()\n"
     ]
    },
    {
     "name": "stderr",
     "output_type": "stream",
     "text": [
      "Sims3 [top]: 1000it [00:24, 40.75it/s]\n"
     ]
    },
    {
     "name": "stdout",
     "output_type": "stream",
     "text": [
      "     → Trying .new()\n"
     ]
    },
    {
     "name": "stderr",
     "output_type": "stream",
     "text": [
      "Sims3 [new]: 994it [00:24, 40.68it/s]\n"
     ]
    },
    {
     "name": "stdout",
     "output_type": "stream",
     "text": [
      "     → Trying .hot()\n"
     ]
    },
    {
     "name": "stderr",
     "output_type": "stream",
     "text": [
      "Sims3 [hot]: 990it [00:24, 40.06it/s]\n"
     ]
    },
    {
     "name": "stdout",
     "output_type": "stream",
     "text": [
      "     → Trying .rising()\n"
     ]
    },
    {
     "name": "stderr",
     "output_type": "stream",
     "text": [
      "Sims3 [rising]: 25it [00:00, 29.04it/s]\n"
     ]
    },
    {
     "name": "stdout",
     "output_type": "stream",
     "text": [
      "  ➤ Scanning r/thesims4\n",
      "     → Trying .top()\n"
     ]
    },
    {
     "name": "stderr",
     "output_type": "stream",
     "text": [
      "thesims4 [top]: 999it [00:28, 35.31it/s]\n"
     ]
    },
    {
     "name": "stdout",
     "output_type": "stream",
     "text": [
      "     → Trying .new()\n"
     ]
    },
    {
     "name": "stderr",
     "output_type": "stream",
     "text": [
      "thesims4 [new]: 984it [00:30, 31.80it/s]\n"
     ]
    },
    {
     "name": "stdout",
     "output_type": "stream",
     "text": [
      "     → Trying .hot()\n"
     ]
    },
    {
     "name": "stderr",
     "output_type": "stream",
     "text": [
      "thesims4 [hot]: 280it [00:11, 25.20it/s]\n"
     ]
    },
    {
     "name": "stdout",
     "output_type": "stream",
     "text": [
      "     → Trying .rising()\n"
     ]
    },
    {
     "name": "stderr",
     "output_type": "stream",
     "text": [
      "thesims4 [rising]: 25it [00:01, 24.59it/s]\n"
     ]
    },
    {
     "name": "stdout",
     "output_type": "stream",
     "text": [
      "⚠️  [The Sims] Year 2020 only has 767 posts\n",
      "⚠️  [The Sims] Year 2021 only has 701 posts\n",
      "⚠️  [The Sims] Year 2022 only has 651 posts\n",
      "⚠️  [The Sims] Year 2023 only has 647 posts\n",
      "\n",
      "Scraping for 'Overwatch'...\n",
      "  ➤ Scanning r/Overwatch\n",
      "     → Trying .top()\n"
     ]
    },
    {
     "name": "stderr",
     "output_type": "stream",
     "text": [
      "Overwatch [top]: 995it [00:19, 51.13it/s]\n"
     ]
    },
    {
     "name": "stdout",
     "output_type": "stream",
     "text": [
      "     → Trying .new()\n"
     ]
    },
    {
     "name": "stderr",
     "output_type": "stream",
     "text": [
      "Overwatch [new]: 992it [00:18, 54.43it/s]\n"
     ]
    },
    {
     "name": "stdout",
     "output_type": "stream",
     "text": [
      "     → Trying .hot()\n"
     ]
    },
    {
     "name": "stderr",
     "output_type": "stream",
     "text": [
      "Overwatch [hot]: 853it [00:16, 52.65it/s]\n"
     ]
    },
    {
     "name": "stdout",
     "output_type": "stream",
     "text": [
      "     → Trying .rising()\n"
     ]
    },
    {
     "name": "stderr",
     "output_type": "stream",
     "text": [
      "Overwatch [rising]: 25it [00:00, 31.86it/s]\n"
     ]
    },
    {
     "name": "stdout",
     "output_type": "stream",
     "text": [
      "  ➤ Scanning r/OverwatchLeague\n",
      "     → Trying .top()\n"
     ]
    },
    {
     "name": "stderr",
     "output_type": "stream",
     "text": [
      "OverwatchLeague [top]: 998it [00:19, 50.99it/s]\n"
     ]
    },
    {
     "name": "stdout",
     "output_type": "stream",
     "text": [
      "     → Trying .new()\n"
     ]
    },
    {
     "name": "stderr",
     "output_type": "stream",
     "text": [
      "OverwatchLeague [new]: 966it [00:19, 50.77it/s]\n"
     ]
    },
    {
     "name": "stdout",
     "output_type": "stream",
     "text": [
      "     → Trying .hot()\n"
     ]
    },
    {
     "name": "stderr",
     "output_type": "stream",
     "text": [
      "OverwatchLeague [hot]: 909it [00:19, 47.31it/s]\n"
     ]
    },
    {
     "name": "stdout",
     "output_type": "stream",
     "text": [
      "     → Trying .rising()\n"
     ]
    },
    {
     "name": "stderr",
     "output_type": "stream",
     "text": [
      "OverwatchLeague [rising]: 25it [00:00, 33.65it/s]\n"
     ]
    },
    {
     "name": "stdout",
     "output_type": "stream",
     "text": [
      "  ➤ Scanning r/Competitiveoverwatch\n",
      "     → Trying .top()\n"
     ]
    },
    {
     "name": "stderr",
     "output_type": "stream",
     "text": [
      "Competitiveoverwatch [top]: 999it [00:20, 48.53it/s]\n"
     ]
    },
    {
     "name": "stdout",
     "output_type": "stream",
     "text": [
      "     → Trying .new()\n"
     ]
    },
    {
     "name": "stderr",
     "output_type": "stream",
     "text": [
      "Competitiveoverwatch [new]: 991it [00:19, 50.98it/s]\n"
     ]
    },
    {
     "name": "stdout",
     "output_type": "stream",
     "text": [
      "     → Trying .hot()\n"
     ]
    },
    {
     "name": "stderr",
     "output_type": "stream",
     "text": [
      "Competitiveoverwatch [hot]: 992it [00:19, 51.00it/s]\n"
     ]
    },
    {
     "name": "stdout",
     "output_type": "stream",
     "text": [
      "     → Trying .rising()\n"
     ]
    },
    {
     "name": "stderr",
     "output_type": "stream",
     "text": [
      "Competitiveoverwatch [rising]: 25it [00:00, 37.37it/s]\n"
     ]
    },
    {
     "name": "stdout",
     "output_type": "stream",
     "text": [
      "  ➤ Scanning r/Competitiveoverwatch\n",
      "     → Trying .top()\n"
     ]
    },
    {
     "name": "stderr",
     "output_type": "stream",
     "text": [
      "Competitiveoverwatch [top]: 999it [00:19, 52.46it/s]\n"
     ]
    },
    {
     "name": "stdout",
     "output_type": "stream",
     "text": [
      "     → Trying .new()\n"
     ]
    },
    {
     "name": "stderr",
     "output_type": "stream",
     "text": [
      "Competitiveoverwatch [new]: 991it [00:18, 54.16it/s]\n"
     ]
    },
    {
     "name": "stdout",
     "output_type": "stream",
     "text": [
      "     → Trying .hot()\n"
     ]
    },
    {
     "name": "stderr",
     "output_type": "stream",
     "text": [
      "Competitiveoverwatch [hot]: 992it [00:20, 48.96it/s]\n"
     ]
    },
    {
     "name": "stdout",
     "output_type": "stream",
     "text": [
      "     → Trying .rising()\n"
     ]
    },
    {
     "name": "stderr",
     "output_type": "stream",
     "text": [
      "Competitiveoverwatch [rising]: 25it [00:00, 35.90it/s]\n"
     ]
    },
    {
     "name": "stdout",
     "output_type": "stream",
     "text": [
      "⚠️  [Overwatch] Year 2020 only has 821 posts\n",
      "⚠️  [Overwatch] Year 2021 only has 393 posts\n",
      "⚠️  [Overwatch] Year 2022 only has 235 posts\n",
      "⚠️  [Overwatch] Year 2023 only has 692 posts\n",
      "⚠️  [Overwatch] Year 2024 only has 87 posts\n",
      "\n",
      "Scraping for 'Skyrim'...\n",
      "  ➤ Scanning r/skyrim\n",
      "     → Trying .top()\n"
     ]
    },
    {
     "name": "stderr",
     "output_type": "stream",
     "text": [
      "skyrim [top]: 989it [00:21, 46.85it/s]\n"
     ]
    },
    {
     "name": "stdout",
     "output_type": "stream",
     "text": [
      "     → Trying .new()\n"
     ]
    },
    {
     "name": "stderr",
     "output_type": "stream",
     "text": [
      "skyrim [new]: 995it [00:19, 50.51it/s]\n"
     ]
    },
    {
     "name": "stdout",
     "output_type": "stream",
     "text": [
      "     → Trying .hot()\n"
     ]
    },
    {
     "name": "stderr",
     "output_type": "stream",
     "text": [
      "skyrim [hot]: 974it [00:18, 53.24it/s]\n"
     ]
    },
    {
     "name": "stdout",
     "output_type": "stream",
     "text": [
      "     → Trying .rising()\n"
     ]
    },
    {
     "name": "stderr",
     "output_type": "stream",
     "text": [
      "skyrim [rising]: 25it [00:00, 36.83it/s]\n"
     ]
    },
    {
     "name": "stdout",
     "output_type": "stream",
     "text": [
      "  ➤ Scanning r/skyrimmods\n",
      "     → Trying .top()\n"
     ]
    },
    {
     "name": "stderr",
     "output_type": "stream",
     "text": [
      "skyrimmods [top]: 996it [00:21, 45.35it/s]\n"
     ]
    },
    {
     "name": "stdout",
     "output_type": "stream",
     "text": [
      "     → Trying .new()\n"
     ]
    },
    {
     "name": "stderr",
     "output_type": "stream",
     "text": [
      "skyrimmods [new]: 992it [00:15, 65.06it/s]\n"
     ]
    },
    {
     "name": "stdout",
     "output_type": "stream",
     "text": [
      "     → Trying .hot()\n"
     ]
    },
    {
     "name": "stderr",
     "output_type": "stream",
     "text": [
      "skyrimmods [hot]: 996it [00:16, 59.91it/s]\n"
     ]
    },
    {
     "name": "stdout",
     "output_type": "stream",
     "text": [
      "     → Trying .rising()\n"
     ]
    },
    {
     "name": "stderr",
     "output_type": "stream",
     "text": [
      "skyrimmods [rising]: 25it [00:00, 38.05it/s]\n"
     ]
    },
    {
     "name": "stdout",
     "output_type": "stream",
     "text": [
      "  ➤ Scanning r/SkyrimModsXbox\n",
      "     → Trying .top()\n"
     ]
    },
    {
     "name": "stderr",
     "output_type": "stream",
     "text": [
      "SkyrimModsXbox [top]: 1000it [00:45, 21.83it/s]\n"
     ]
    },
    {
     "name": "stdout",
     "output_type": "stream",
     "text": [
      "     → Trying .new()\n"
     ]
    },
    {
     "name": "stderr",
     "output_type": "stream",
     "text": [
      "SkyrimModsXbox [new]: 997it [00:20, 48.28it/s]\n"
     ]
    },
    {
     "name": "stdout",
     "output_type": "stream",
     "text": [
      "     → Trying .hot()\n"
     ]
    },
    {
     "name": "stderr",
     "output_type": "stream",
     "text": [
      "SkyrimModsXbox [hot]: 999it [00:20, 48.37it/s]\n"
     ]
    },
    {
     "name": "stdout",
     "output_type": "stream",
     "text": [
      "     → Trying .rising()\n"
     ]
    },
    {
     "name": "stderr",
     "output_type": "stream",
     "text": [
      "SkyrimModsXbox [rising]: 25it [00:00, 36.93it/s]\n"
     ]
    },
    {
     "name": "stdout",
     "output_type": "stream",
     "text": [
      "  ➤ Scanning r/SkyrimTogether\n",
      "     → Trying .top()\n"
     ]
    },
    {
     "name": "stderr",
     "output_type": "stream",
     "text": [
      "SkyrimTogether [top]: 995it [00:19, 50.90it/s]\n"
     ]
    },
    {
     "name": "stdout",
     "output_type": "stream",
     "text": [
      "     → Trying .new()\n"
     ]
    },
    {
     "name": "stderr",
     "output_type": "stream",
     "text": [
      "SkyrimTogether [new]: 992it [00:15, 65.58it/s]\n"
     ]
    },
    {
     "name": "stdout",
     "output_type": "stream",
     "text": [
      "     → Trying .hot()\n"
     ]
    },
    {
     "name": "stderr",
     "output_type": "stream",
     "text": [
      "SkyrimTogether [hot]: 931it [00:14, 63.12it/s]\n"
     ]
    },
    {
     "name": "stdout",
     "output_type": "stream",
     "text": [
      "     → Trying .rising()\n"
     ]
    },
    {
     "name": "stderr",
     "output_type": "stream",
     "text": [
      "SkyrimTogether [rising]: 25it [00:00, 33.45it/s]\n"
     ]
    },
    {
     "name": "stdout",
     "output_type": "stream",
     "text": [
      "⚠️  [Skyrim] Year 2020 only has 702 posts\n",
      "⚠️  [Skyrim] Year 2021 only has 746 posts\n",
      "⚠️  [Skyrim] Year 2022 only has 657 posts\n",
      "⚠️  [Skyrim] Year 2023 only has 739 posts\n",
      "⚠️  [Skyrim] Year 2024 only has 612 posts\n",
      "\n",
      "Scraping for 'Roblox'...\n",
      "  ➤ Scanning r/roblox\n",
      "     → Trying .top()\n"
     ]
    },
    {
     "name": "stderr",
     "output_type": "stream",
     "text": [
      "roblox [top]: 992it [00:21, 46.68it/s]\n"
     ]
    },
    {
     "name": "stdout",
     "output_type": "stream",
     "text": [
      "     → Trying .new()\n"
     ]
    },
    {
     "name": "stderr",
     "output_type": "stream",
     "text": [
      "roblox [new]: 923it [00:18, 49.80it/s]\n"
     ]
    },
    {
     "name": "stdout",
     "output_type": "stream",
     "text": [
      "     → Trying .hot()\n"
     ]
    },
    {
     "name": "stderr",
     "output_type": "stream",
     "text": [
      "roblox [hot]: 512it [00:12, 40.35it/s]\n"
     ]
    },
    {
     "name": "stdout",
     "output_type": "stream",
     "text": [
      "     → Trying .rising()\n"
     ]
    },
    {
     "name": "stderr",
     "output_type": "stream",
     "text": [
      "roblox [rising]: 25it [00:00, 35.66it/s]\n"
     ]
    },
    {
     "name": "stdout",
     "output_type": "stream",
     "text": [
      "  ➤ Scanning r/RobloxGame\n",
      "     → Trying .top()\n"
     ]
    },
    {
     "name": "stderr",
     "output_type": "stream",
     "text": [
      "RobloxGame [top]: 8it [00:00, 16.94it/s]\n"
     ]
    },
    {
     "name": "stdout",
     "output_type": "stream",
     "text": [
      "     → Trying .new()\n"
     ]
    },
    {
     "name": "stderr",
     "output_type": "stream",
     "text": [
      "RobloxGame [new]: 8it [00:00, 16.12it/s]\n"
     ]
    },
    {
     "name": "stdout",
     "output_type": "stream",
     "text": [
      "     → Trying .hot()\n"
     ]
    },
    {
     "name": "stderr",
     "output_type": "stream",
     "text": [
      "RobloxGame [hot]: 8it [00:00, 16.25it/s]\n"
     ]
    },
    {
     "name": "stdout",
     "output_type": "stream",
     "text": [
      "     → Trying .rising()\n"
     ]
    },
    {
     "name": "stderr",
     "output_type": "stream",
     "text": [
      "RobloxGame [rising]: 8it [00:00, 15.94it/s]\n"
     ]
    },
    {
     "name": "stdout",
     "output_type": "stream",
     "text": [
      "  ➤ Scanning r/GoCommitDie\n",
      "     → Trying .top()\n"
     ]
    },
    {
     "name": "stderr",
     "output_type": "stream",
     "text": [
      "GoCommitDie [top]: 998it [00:18, 54.76it/s]\n"
     ]
    },
    {
     "name": "stdout",
     "output_type": "stream",
     "text": [
      "     → Trying .new()\n"
     ]
    },
    {
     "name": "stderr",
     "output_type": "stream",
     "text": [
      "GoCommitDie [new]: 997it [00:19, 50.14it/s]\n"
     ]
    },
    {
     "name": "stdout",
     "output_type": "stream",
     "text": [
      "     → Trying .hot()\n"
     ]
    },
    {
     "name": "stderr",
     "output_type": "stream",
     "text": [
      "GoCommitDie [hot]: 952it [00:18, 50.64it/s]\n"
     ]
    },
    {
     "name": "stdout",
     "output_type": "stream",
     "text": [
      "     → Trying .rising()\n"
     ]
    },
    {
     "name": "stderr",
     "output_type": "stream",
     "text": [
      "GoCommitDie [rising]: 25it [00:00, 37.93it/s]\n"
     ]
    },
    {
     "name": "stdout",
     "output_type": "stream",
     "text": [
      "  ➤ Scanning r/RobloxDevelopers\n",
      "     → Trying .top()\n"
     ]
    },
    {
     "name": "stderr",
     "output_type": "stream",
     "text": [
      "RobloxDevelopers [top]: 999it [00:24, 41.55it/s]\n"
     ]
    },
    {
     "name": "stdout",
     "output_type": "stream",
     "text": [
      "     → Trying .new()\n"
     ]
    },
    {
     "name": "stderr",
     "output_type": "stream",
     "text": [
      "RobloxDevelopers [new]: 937it [00:19, 47.53it/s]\n"
     ]
    },
    {
     "name": "stdout",
     "output_type": "stream",
     "text": [
      "     → Trying .hot()\n"
     ]
    },
    {
     "name": "stderr",
     "output_type": "stream",
     "text": [
      "RobloxDevelopers [hot]: 792it [00:15, 52.01it/s]\n"
     ]
    },
    {
     "name": "stdout",
     "output_type": "stream",
     "text": [
      "     → Trying .rising()\n"
     ]
    },
    {
     "name": "stderr",
     "output_type": "stream",
     "text": [
      "RobloxDevelopers [rising]: 25it [00:00, 33.94it/s]"
     ]
    },
    {
     "name": "stdout",
     "output_type": "stream",
     "text": [
      "⚠️  [Roblox] Year 2020 only has 965 posts\n",
      "⚠️  [Roblox] Year 2021 only has 607 posts\n",
      "⚠️  [Roblox] Year 2022 only has 263 posts\n",
      "⚠️  [Roblox] Year 2023 only has 147 posts\n",
      "⚠️  [Roblox] Year 2024 only has 291 posts\n"
     ]
    },
    {
     "name": "stderr",
     "output_type": "stream",
     "text": [
      "\n"
     ]
    }
   ],
   "source": [
    "# === Run scraper across all games ===\n",
    "all_posts = []\n",
    "\n",
    "for game, subs in GAME_SUBREDDITS.items():\n",
    "    all_posts.extend(scrape_game_posts(game, subs, year_cap=1000))\n",
    "\n",
    "# === Filter out bot-like users ===\n",
    "bot_users = is_suspected_bot(all_posts)\n",
    "filtered_posts = [p for p in all_posts if p['author'] not in bot_users]"
   ]
  },
  {
   "cell_type": "code",
   "execution_count": 12,
   "id": "f3ea8457",
   "metadata": {},
   "outputs": [],
   "source": [
    "# === Deduplicate and save ===\n",
    "df = pd.DataFrame(filtered_posts)\n",
    "df = df.drop_duplicates(subset=[\"game\", \"author\", \"original_title\"])"
   ]
  },
  {
   "cell_type": "code",
   "execution_count": 13,
   "id": "ddaa5324",
   "metadata": {},
   "outputs": [
    {
     "name": "stdout",
     "output_type": "stream",
     "text": [
      "\n",
      "✅ Saved 27998 posts across all games. Bots removed, titles cleaned, capped per year.\n"
     ]
    }
   ],
   "source": [
    "# === Save to CSV ===\n",
    "df.to_csv(\"reddit_2020_2025.csv\", index=False)\n",
    "print(f\"\\n✅ Saved {len(df)} posts across all games. Bots removed, titles cleaned, capped per year.\")"
   ]
  },
  {
   "cell_type": "code",
   "execution_count": null,
   "id": "7fd09846",
   "metadata": {},
   "outputs": [],
   "source": [
    "# Load the saved CSV\n",
    "file_path = \"reddit_2020_2024.csv\"\n",
    "\n",
    "\n",
    "df = pd.read_csv(file_path)\n",
    "\n"
   ]
  },
  {
   "cell_type": "code",
   "execution_count": 16,
   "id": "8d7c7b00",
   "metadata": {},
   "outputs": [],
   "source": [
    "# Group by game and year\n",
    "game_year_counts = df.groupby([\"game\", \"year\"]).size().unstack(fill_value=0)\n",
    "\n"
   ]
  },
  {
   "cell_type": "code",
   "execution_count": 17,
   "id": "5ea270d6",
   "metadata": {},
   "outputs": [
    {
     "data": {
      "image/png": "[encoded data removed]",
      "text/plain": [
       "<Figure size 1200x600 with 1 Axes>"
      ]
     },
     "metadata": {},
     "output_type": "display_data"
    }
   ],
   "source": [
    "# Plot\n",
    "game_year_counts.T.plot(kind='bar', figsize=(12, 6), edgecolor='black')\n",
    "plt.title(\"Post Count per Game per Year\")\n",
    "plt.xlabel(\"Year\")\n",
    "plt.ylabel(\"Number of Posts\")\n",
    "plt.legend(title=\"Game\")\n",
    "plt.xticks(rotation=0)\n",
    "plt.grid(axis='y')\n",
    "plt.tight_layout()\n",
    "plt.show()\n",
    "\n"
   ]
  },
  {
   "cell_type": "code",
   "execution_count": null,
   "id": "561da71e",
   "metadata": {},
   "outputs": [],
   "source": [
    "\n",
    "\n"
   ]
  },
  {
   "cell_type": "code",
   "execution_count": null,
   "id": "b117098c",
   "metadata": {},
   "outputs": [],
   "source": []
  }
 ],
 "metadata": {
  "kernelspec": {
   "display_name": ".venv",
   "language": "python",
   "name": "python3"
  },
  "language_info": {
   "codemirror_mode": {
    "name": "ipython",
    "version": 3
   },
   "file_extension": ".py",
   "mimetype": "text/x-python",
   "name": "python",
   "nbconvert_exporter": "python",
   "pygments_lexer": "ipython3",
   "version": "3.12.10"
  }
 },
 "nbformat": 4,
 "nbformat_minor": 5
}
