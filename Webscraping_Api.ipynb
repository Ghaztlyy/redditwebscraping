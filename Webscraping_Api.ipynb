{
 "cells": [
  {
   "cell_type": "code",
   "execution_count": 1,
   "id": "27b5ca24",
   "metadata": {},
   "outputs": [],
   "source": [
    "import praw\n",
    "import pandas as pd\n",
    "import re\n",
    "import emoji\n",
    "from datetime import datetime\n",
    "from collections import defaultdict\n",
    "from tqdm import tqdm\n",
    "import matplotlib.pyplot as plt"
   ]
  },
  {
   "cell_type": "code",
   "execution_count": 2,
   "id": "18eeec29",
   "metadata": {},
   "outputs": [],
   "source": [
    "# === Reddit API Setup ===\n",
    "reddit = praw.Reddit(\n",
    "    client_id='q_dYyqYYdNNInGsM-lC9Xg',\n",
    "    client_secret='pLigWA6vX6llH7NjWBhVWmg-gJjKvg',\n",
    "    user_agent='script:gaming_trend (by /u/HiGhastlyy)'\n",
    ")"
   ]
  },
  {
   "cell_type": "code",
   "execution_count": 59,
   "id": "55019e2c",
   "metadata": {},
   "outputs": [],
   "source": [
    "# === Base game to subreddit variants mapping ===\n",
    "GAME_SUBREDDITS = {\n",
    "    \"Genshin Impact\": [\"genshin_impact\", \"GenshinImpact\"],\n",
    "    \"Valorant\": [\"valorant\", \"ValorantCompetitive\"],\n",
    "    \"GTA\": [\"GTA\", \"GTAOnline\", \"GTA6\", \"GrandTheftAutoV\", \"GTAV\", \"GTAV_Mods\"],\n",
    "    \"League of Legends\": [\"leagueoflegends\", \"summonerschool\", \"LeagueConnect\"],\n",
    "    \"Gaming\": [\"gaming\", \"pcgaming\", \"Games\", \"Gamers\"],\n",
    "    \"Call Of Duty\": [\"CallOfDuty\", \"CODWarzone\", \"CODMobile\"],\n",
    "    \"Minecraft\":  ['Minecraft','minecraftsuggestions','MinecraftDungeons','MinecraftServer'],\n",
    "    \"The Sims\" : ['thesims','Sims4','TheSimsBuilding','Sims3', 'thesims4'],\n",
    "    \"Overwatch\" : ['Overwatch', 'OverwatchLeague', 'Competitiveoverwatch', 'Competitiveoverwatch'],\n",
    "    \"Skyrim\": ['skyrim', 'skyrimmods', 'SkyrimModsXbox', 'kyrimTogether']\n",
    "}"
   ]
  },
  {
   "cell_type": "code",
   "execution_count": 43,
   "id": "baeaf558",
   "metadata": {},
   "outputs": [],
   "source": [
    "# === Text cleaning ===\n",
    "def clean_text(text):\n",
    "    if not text:\n",
    "        return \"\"\n",
    "    text = text.encode(\"ascii\", errors=\"ignore\").decode()\n",
    "    text = emoji.replace_emoji(text, replace='')\n",
    "    text = re.sub(r'\\s+', ' ', text).strip()\n",
    "    return text\n",
    "\n",
    "# === Bot Detection ===\n",
    "def is_suspected_bot(posts, threshold=5):\n",
    "    duplicates = defaultdict(int)\n",
    "    for p in posts:\n",
    "        key = (p['author'], p['cleaned'])\n",
    "        duplicates[key] += 1\n",
    "    return {author for (author, _), count in duplicates.items() if count >= threshold}\n"
   ]
  },
  {
   "cell_type": "code",
   "execution_count": null,
   "id": "e8fd9188",
   "metadata": {},
   "outputs": [],
   "source": [
    "def scrape_game_posts(game_name, subreddit_list, start_year=2020, end_year=2025, year_cap=200):\n",
    "    print(f\"\\nScraping for '{game_name}'...\")\n",
    "    year_counts = defaultdict(int)\n",
    "    collected = []\n",
    "\n",
    "    def try_add(post, sub):\n",
    "        if post.stickied or not post.title:\n",
    "            return False\n",
    "\n",
    "        created = datetime.utcfromtimestamp(post.created_utc)\n",
    "        year = created.year\n",
    "        if year < start_year or year > end_year:\n",
    "            return False\n",
    "\n",
    "        if year_counts[year] >= year_cap:\n",
    "            return False\n",
    "\n",
    "        cleaned_title = clean_text(post.title)\n",
    "        if len(cleaned_title) < 10:\n",
    "            return False\n",
    "\n",
    "        post_data = {\n",
    "            'game': game_name,\n",
    "            'subreddit': sub,\n",
    "            'author': str(post.author),\n",
    "            'created_utc': created.isoformat(),\n",
    "            'year': year,\n",
    "            'score': post.score,\n",
    "            'original_title': post.title,\n",
    "            'cleaned': cleaned_title\n",
    "        }\n",
    "\n",
    "        key = (post_data['author'], post_data['original_title'], year)\n",
    "        if key in seen:\n",
    "            return False\n",
    "\n",
    "        collected.append(post_data)\n",
    "        seen.add(key)\n",
    "        year_counts[year] += 1\n",
    "        return True\n",
    "\n",
    "    seen = set()\n",
    "\n",
    "    for sub in subreddit_list:\n",
    "        subreddit = reddit.subreddit(sub)\n",
    "        print(f\"  ➤ Scanning r/{sub}\")\n",
    "\n",
    "        MODES = [\n",
    "            (\"top\", subreddit.top(limit=1000, time_filter=\"all\")),\n",
    "            (\"new\", subreddit.new(limit=1000)),\n",
    "            (\"hot\", subreddit.hot(limit=1000)),\n",
    "            (\"rising\", subreddit.rising(limit=250)),\n",
    "        ]\n",
    "\n",
    "        for mode_name, post_iter in MODES:\n",
    "            if all(year_counts[y] >= year_cap for y in range(start_year, end_year + 1)):\n",
    "                break  # Exit if all years are filled\n",
    "\n",
    "            print(f\"     → Trying .{mode_name}()\")\n",
    "            for post in tqdm(post_iter, desc=f\"{sub} [{mode_name}]\"):\n",
    "                if all(year_counts[y] >= year_cap for y in range(start_year, end_year + 1)):\n",
    "                    break\n",
    "                try_add(post, sub)\n",
    "\n",
    "    # Log any underfilled years\n",
    "    for y in range(start_year, end_year + 1):\n",
    "        if year_counts[y] < year_cap:\n",
    "            print(f\"⚠️  [{game_name}] Year {y} only has {year_counts[y]} posts\")\n",
    "\n",
    "    return collected\n"
   ]
  },
  {
   "cell_type": "code",
   "execution_count": 48,
   "id": "59631d68",
   "metadata": {},
   "outputs": [
    {
     "name": "stdout",
     "output_type": "stream",
     "text": [
      "\n",
      "Scraping for 'Genshin Impact'...\n",
      "  ➤ Scanning r/genshin_impact\n",
      "     → Trying .top()\n"
     ]
    },
    {
     "name": "stderr",
     "output_type": "stream",
     "text": [
      "genshin_impact [top]: 0it [00:00, ?it/s]C:\\Users\\Ghastly\\AppData\\Local\\Temp\\ipykernel_24096\\1315138358.py:10: DeprecationWarning: datetime.datetime.utcfromtimestamp() is deprecated and scheduled for removal in a future version. Use timezone-aware objects to represent datetimes in UTC: datetime.datetime.fromtimestamp(timestamp, datetime.UTC).\n",
      "  created = datetime.utcfromtimestamp(post.created_utc)\n",
      "genshin_impact [top]: 999it [00:23, 43.38it/s]\n"
     ]
    },
    {
     "name": "stdout",
     "output_type": "stream",
     "text": [
      "     → Trying .new()\n"
     ]
    },
    {
     "name": "stderr",
     "output_type": "stream",
     "text": [
      "genshin_impact [new]: 992it [00:21, 46.50it/s]\n"
     ]
    },
    {
     "name": "stdout",
     "output_type": "stream",
     "text": [
      "     → Trying .hot()\n"
     ]
    },
    {
     "name": "stderr",
     "output_type": "stream",
     "text": [
      "genshin_impact [hot]: 500it [00:10, 49.49it/s]\n"
     ]
    },
    {
     "name": "stdout",
     "output_type": "stream",
     "text": [
      "     → Trying .rising()\n"
     ]
    },
    {
     "name": "stderr",
     "output_type": "stream",
     "text": [
      "genshin_impact [rising]: 27it [00:00, 27.94it/s]\n"
     ]
    },
    {
     "name": "stdout",
     "output_type": "stream",
     "text": [
      "  ➤ Scanning r/GenshinImpact\n",
      "     → Trying .top()\n"
     ]
    },
    {
     "name": "stderr",
     "output_type": "stream",
     "text": [
      "GenshinImpact [top]: 988it [00:16, 60.92it/s]\n"
     ]
    },
    {
     "name": "stdout",
     "output_type": "stream",
     "text": [
      "     → Trying .new()\n"
     ]
    },
    {
     "name": "stderr",
     "output_type": "stream",
     "text": [
      "GenshinImpact [new]: 989it [00:17, 57.57it/s]\n"
     ]
    },
    {
     "name": "stdout",
     "output_type": "stream",
     "text": [
      "     → Trying .hot()\n"
     ]
    },
    {
     "name": "stderr",
     "output_type": "stream",
     "text": [
      "GenshinImpact [hot]: 500it [00:07, 65.14it/s]\n"
     ]
    },
    {
     "name": "stdout",
     "output_type": "stream",
     "text": [
      "     → Trying .rising()\n"
     ]
    },
    {
     "name": "stderr",
     "output_type": "stream",
     "text": [
      "GenshinImpact [rising]: 25it [00:00, 51.40it/s]\n"
     ]
    },
    {
     "name": "stdout",
     "output_type": "stream",
     "text": [
      "⚠️  [Genshin Impact] Year 2020 only has 147 posts\n",
      "⚠️  [Genshin Impact] Year 2022 only has 117 posts\n",
      "⚠️  [Genshin Impact] Year 2023 only has 90 posts\n",
      "\n",
      "Scraping for 'Valorant'...\n",
      "  ➤ Scanning r/valorant\n",
      "     → Trying .top()\n"
     ]
    },
    {
     "name": "stderr",
     "output_type": "stream",
     "text": [
      "valorant [top]: 985it [00:19, 50.66it/s]\n"
     ]
    },
    {
     "name": "stdout",
     "output_type": "stream",
     "text": [
      "     → Trying .new()\n"
     ]
    },
    {
     "name": "stderr",
     "output_type": "stream",
     "text": [
      "valorant [new]: 956it [00:15, 62.07it/s]\n"
     ]
    },
    {
     "name": "stdout",
     "output_type": "stream",
     "text": [
      "     → Trying .hot()\n"
     ]
    },
    {
     "name": "stderr",
     "output_type": "stream",
     "text": [
      "valorant [hot]: 500it [00:08, 56.24it/s]\n"
     ]
    },
    {
     "name": "stdout",
     "output_type": "stream",
     "text": [
      "     → Trying .rising()\n"
     ]
    },
    {
     "name": "stderr",
     "output_type": "stream",
     "text": [
      "valorant [rising]: 25it [00:00, 46.21it/s]\n"
     ]
    },
    {
     "name": "stdout",
     "output_type": "stream",
     "text": [
      "  ➤ Scanning r/ValorantCompetitive\n",
      "     → Trying .top()\n"
     ]
    },
    {
     "name": "stderr",
     "output_type": "stream",
     "text": [
      "ValorantCompetitive [top]: 900it [00:20, 44.88it/s]\n"
     ]
    },
    {
     "name": "stdout",
     "output_type": "stream",
     "text": [
      "     → Trying .new()\n"
     ]
    },
    {
     "name": "stderr",
     "output_type": "stream",
     "text": [
      "ValorantCompetitive [new]: 983it [00:21, 44.94it/s]\n"
     ]
    },
    {
     "name": "stdout",
     "output_type": "stream",
     "text": [
      "     → Trying .hot()\n"
     ]
    },
    {
     "name": "stderr",
     "output_type": "stream",
     "text": [
      "ValorantCompetitive [hot]: 500it [00:10, 46.00it/s]\n"
     ]
    },
    {
     "name": "stdout",
     "output_type": "stream",
     "text": [
      "     → Trying .rising()\n"
     ]
    },
    {
     "name": "stderr",
     "output_type": "stream",
     "text": [
      "ValorantCompetitive [rising]: 25it [00:00, 50.53it/s]\n"
     ]
    },
    {
     "name": "stdout",
     "output_type": "stream",
     "text": [
      "⚠️  [Valorant] Year 2023 only has 185 posts\n",
      "⚠️  [Valorant] Year 2024 only has 165 posts\n",
      "\n",
      "Scraping for 'Dota 2'...\n",
      "  ➤ Scanning r/DotA2\n",
      "     → Trying .top()\n"
     ]
    },
    {
     "name": "stderr",
     "output_type": "stream",
     "text": [
      "DotA2 [top]: 985it [00:18, 53.07it/s]\n"
     ]
    },
    {
     "name": "stdout",
     "output_type": "stream",
     "text": [
      "     → Trying .new()\n"
     ]
    },
    {
     "name": "stderr",
     "output_type": "stream",
     "text": [
      "DotA2 [new]: 950it [00:16, 58.21it/s]\n"
     ]
    },
    {
     "name": "stdout",
     "output_type": "stream",
     "text": [
      "     → Trying .hot()\n"
     ]
    },
    {
     "name": "stderr",
     "output_type": "stream",
     "text": [
      "DotA2 [hot]: 500it [00:08, 62.07it/s]\n"
     ]
    },
    {
     "name": "stdout",
     "output_type": "stream",
     "text": [
      "     → Trying .rising()\n"
     ]
    },
    {
     "name": "stderr",
     "output_type": "stream",
     "text": [
      "DotA2 [rising]: 25it [00:00, 56.20it/s]\n"
     ]
    },
    {
     "name": "stdout",
     "output_type": "stream",
     "text": [
      "  ➤ Scanning r/TrueDoTA2\n",
      "     → Trying .top()\n"
     ]
    },
    {
     "name": "stderr",
     "output_type": "stream",
     "text": [
      "TrueDoTA2 [top]: 1000it [00:17, 58.59it/s]\n"
     ]
    },
    {
     "name": "stdout",
     "output_type": "stream",
     "text": [
      "     → Trying .new()\n"
     ]
    },
    {
     "name": "stderr",
     "output_type": "stream",
     "text": [
      "TrueDoTA2 [new]: 924it [00:12, 71.45it/s]\n"
     ]
    },
    {
     "name": "stdout",
     "output_type": "stream",
     "text": [
      "     → Trying .hot()\n"
     ]
    },
    {
     "name": "stderr",
     "output_type": "stream",
     "text": [
      "TrueDoTA2 [hot]: 500it [00:08, 58.43it/s]\n"
     ]
    },
    {
     "name": "stdout",
     "output_type": "stream",
     "text": [
      "     → Trying .rising()\n"
     ]
    },
    {
     "name": "stderr",
     "output_type": "stream",
     "text": [
      "TrueDoTA2 [rising]: 25it [00:00, 53.79it/s]\n"
     ]
    },
    {
     "name": "stdout",
     "output_type": "stream",
     "text": [
      "⚠️  [Dota 2] Year 2022 only has 114 posts\n",
      "⚠️  [Dota 2] Year 2023 only has 64 posts\n",
      "\n",
      "Scraping for 'League of Legends'...\n",
      "  ➤ Scanning r/leagueoflegends\n",
      "     → Trying .top()\n"
     ]
    },
    {
     "name": "stderr",
     "output_type": "stream",
     "text": [
      "leagueoflegends [top]: 987it [00:20, 47.25it/s]\n"
     ]
    },
    {
     "name": "stdout",
     "output_type": "stream",
     "text": [
      "     → Trying .new()\n"
     ]
    },
    {
     "name": "stderr",
     "output_type": "stream",
     "text": [
      "leagueoflegends [new]: 955it [00:14, 64.75it/s]\n"
     ]
    },
    {
     "name": "stdout",
     "output_type": "stream",
     "text": [
      "     → Trying .hot()\n"
     ]
    },
    {
     "name": "stderr",
     "output_type": "stream",
     "text": [
      "leagueoflegends [hot]: 500it [00:09, 52.53it/s]\n"
     ]
    },
    {
     "name": "stdout",
     "output_type": "stream",
     "text": [
      "     → Trying .rising()\n"
     ]
    },
    {
     "name": "stderr",
     "output_type": "stream",
     "text": [
      "leagueoflegends [rising]: 25it [00:00, 30.23it/s]\n"
     ]
    },
    {
     "name": "stdout",
     "output_type": "stream",
     "text": [
      "  ➤ Scanning r/summonerschool\n",
      "     → Trying .top()\n"
     ]
    },
    {
     "name": "stderr",
     "output_type": "stream",
     "text": [
      "summonerschool [top]: 990it [00:20, 48.75it/s]\n"
     ]
    },
    {
     "name": "stdout",
     "output_type": "stream",
     "text": [
      "     → Trying .new()\n"
     ]
    },
    {
     "name": "stderr",
     "output_type": "stream",
     "text": [
      "summonerschool [new]: 965it [00:16, 58.65it/s]\n"
     ]
    },
    {
     "name": "stdout",
     "output_type": "stream",
     "text": [
      "     → Trying .hot()\n"
     ]
    },
    {
     "name": "stderr",
     "output_type": "stream",
     "text": [
      "summonerschool [hot]: 500it [00:07, 65.82it/s]\n"
     ]
    },
    {
     "name": "stdout",
     "output_type": "stream",
     "text": [
      "     → Trying .rising()\n"
     ]
    },
    {
     "name": "stderr",
     "output_type": "stream",
     "text": [
      "summonerschool [rising]: 25it [00:00, 52.00it/s]\n"
     ]
    },
    {
     "name": "stdout",
     "output_type": "stream",
     "text": [
      "⚠️  [League of Legends] Year 2022 only has 127 posts\n",
      "⚠️  [League of Legends] Year 2023 only has 23 posts\n",
      "⚠️  [League of Legends] Year 2024 only has 11 posts\n",
      "\n",
      "Scraping for 'Gaming'...\n",
      "  ➤ Scanning r/gaming\n",
      "     → Trying .top()\n"
     ]
    },
    {
     "name": "stderr",
     "output_type": "stream",
     "text": [
      "gaming [top]: 995it [00:18, 54.12it/s]\n"
     ]
    },
    {
     "name": "stdout",
     "output_type": "stream",
     "text": [
      "     → Trying .new()\n"
     ]
    },
    {
     "name": "stderr",
     "output_type": "stream",
     "text": [
      "gaming [new]: 898it [00:14, 61.31it/s]\n"
     ]
    },
    {
     "name": "stdout",
     "output_type": "stream",
     "text": [
      "     → Trying .hot()\n"
     ]
    },
    {
     "name": "stderr",
     "output_type": "stream",
     "text": [
      "gaming [hot]: 500it [00:10, 49.35it/s]\n"
     ]
    },
    {
     "name": "stdout",
     "output_type": "stream",
     "text": [
      "     → Trying .rising()\n"
     ]
    },
    {
     "name": "stderr",
     "output_type": "stream",
     "text": [
      "gaming [rising]: 26it [00:00, 56.75it/s]\n"
     ]
    },
    {
     "name": "stdout",
     "output_type": "stream",
     "text": [
      "  ➤ Scanning r/pcgaming\n",
      "     → Trying .top()\n"
     ]
    },
    {
     "name": "stderr",
     "output_type": "stream",
     "text": [
      "pcgaming [top]: 996it [00:19, 52.26it/s]\n"
     ]
    },
    {
     "name": "stdout",
     "output_type": "stream",
     "text": [
      "     → Trying .new()\n"
     ]
    },
    {
     "name": "stderr",
     "output_type": "stream",
     "text": [
      "pcgaming [new]: 927it [00:15, 60.92it/s]\n"
     ]
    },
    {
     "name": "stdout",
     "output_type": "stream",
     "text": [
      "     → Trying .hot()\n"
     ]
    },
    {
     "name": "stderr",
     "output_type": "stream",
     "text": [
      "pcgaming [hot]: 214it [00:06, 34.77it/s]\n"
     ]
    },
    {
     "name": "stdout",
     "output_type": "stream",
     "text": [
      "     → Trying .rising()\n"
     ]
    },
    {
     "name": "stderr",
     "output_type": "stream",
     "text": [
      "pcgaming [rising]: 25it [00:00, 38.47it/s]\n"
     ]
    },
    {
     "name": "stdout",
     "output_type": "stream",
     "text": [
      "  ➤ Scanning r/Games\n",
      "     → Trying .top()\n"
     ]
    },
    {
     "name": "stderr",
     "output_type": "stream",
     "text": [
      "Games [top]: 1000it [00:17, 55.56it/s]\n"
     ]
    },
    {
     "name": "stdout",
     "output_type": "stream",
     "text": [
      "     → Trying .new()\n"
     ]
    },
    {
     "name": "stderr",
     "output_type": "stream",
     "text": [
      "Games [new]: 825it [00:11, 70.49it/s]\n"
     ]
    },
    {
     "name": "stdout",
     "output_type": "stream",
     "text": [
      "     → Trying .hot()\n"
     ]
    },
    {
     "name": "stderr",
     "output_type": "stream",
     "text": [
      "Games [hot]: 367it [00:07, 50.43it/s]\n"
     ]
    },
    {
     "name": "stdout",
     "output_type": "stream",
     "text": [
      "     → Trying .rising()\n"
     ]
    },
    {
     "name": "stderr",
     "output_type": "stream",
     "text": [
      "Games [rising]: 26it [00:00, 67.47it/s]\n"
     ]
    },
    {
     "name": "stdout",
     "output_type": "stream",
     "text": [
      "⚠️  [Gaming] Year 2023 only has 138 posts\n",
      "⚠️  [Gaming] Year 2024 only has 64 posts\n",
      "\n",
      "Scraping for 'Call Of Duty'...\n",
      "  ➤ Scanning r/CallOfDuty\n",
      "     → Trying .top()\n"
     ]
    },
    {
     "name": "stderr",
     "output_type": "stream",
     "text": [
      "CallOfDuty [top]: 987it [00:19, 49.49it/s]\n"
     ]
    },
    {
     "name": "stdout",
     "output_type": "stream",
     "text": [
      "     → Trying .new()\n"
     ]
    },
    {
     "name": "stderr",
     "output_type": "stream",
     "text": [
      "CallOfDuty [new]: 973it [00:18, 52.51it/s]\n"
     ]
    },
    {
     "name": "stdout",
     "output_type": "stream",
     "text": [
      "     → Trying .hot()\n"
     ]
    },
    {
     "name": "stderr",
     "output_type": "stream",
     "text": [
      "CallOfDuty [hot]: 269it [00:08, 31.58it/s]\n"
     ]
    },
    {
     "name": "stdout",
     "output_type": "stream",
     "text": [
      "     → Trying .rising()\n"
     ]
    },
    {
     "name": "stderr",
     "output_type": "stream",
     "text": [
      "CallOfDuty [rising]: 25it [00:00, 50.15it/s]\n"
     ]
    },
    {
     "name": "stdout",
     "output_type": "stream",
     "text": [
      "  ➤ Scanning r/CODWarzone\n",
      "     → Trying .top()\n"
     ]
    },
    {
     "name": "stderr",
     "output_type": "stream",
     "text": [
      "CODWarzone [top]: 998it [00:19, 52.23it/s]\n"
     ]
    },
    {
     "name": "stdout",
     "output_type": "stream",
     "text": [
      "     → Trying .new()\n"
     ]
    },
    {
     "name": "stderr",
     "output_type": "stream",
     "text": [
      "CODWarzone [new]: 981it [00:17, 57.45it/s]\n"
     ]
    },
    {
     "name": "stdout",
     "output_type": "stream",
     "text": [
      "     → Trying .hot()\n"
     ]
    },
    {
     "name": "stderr",
     "output_type": "stream",
     "text": [
      "CODWarzone [hot]: 500it [00:08, 62.09it/s]\n"
     ]
    },
    {
     "name": "stdout",
     "output_type": "stream",
     "text": [
      "     → Trying .rising()\n"
     ]
    },
    {
     "name": "stderr",
     "output_type": "stream",
     "text": [
      "CODWarzone [rising]: 25it [00:00, 53.65it/s]\n"
     ]
    },
    {
     "name": "stdout",
     "output_type": "stream",
     "text": [
      "  ➤ Scanning r/CODMobile\n",
      "     → Trying .top()\n"
     ]
    },
    {
     "name": "stderr",
     "output_type": "stream",
     "text": [
      "CODMobile [top]: 996it [00:18, 53.74it/s]\n"
     ]
    },
    {
     "name": "stdout",
     "output_type": "stream",
     "text": [
      "     → Trying .new()\n"
     ]
    },
    {
     "name": "stderr",
     "output_type": "stream",
     "text": [
      "CODMobile [new]: 797it [00:13, 60.32it/s]\n"
     ]
    },
    {
     "name": "stdout",
     "output_type": "stream",
     "text": [
      "     → Trying .hot()\n"
     ]
    },
    {
     "name": "stderr",
     "output_type": "stream",
     "text": [
      "CODMobile [hot]: 500it [00:07, 64.62it/s]\n"
     ]
    },
    {
     "name": "stdout",
     "output_type": "stream",
     "text": [
      "     → Trying .rising()\n"
     ]
    },
    {
     "name": "stderr",
     "output_type": "stream",
     "text": [
      "CODMobile [rising]: 24it [00:00, 33.77it/s]\n"
     ]
    },
    {
     "name": "stdout",
     "output_type": "stream",
     "text": [
      "⚠️  [Call Of Duty] Year 2022 only has 156 posts\n",
      "⚠️  [Call Of Duty] Year 2023 only has 91 posts\n",
      "⚠️  [Call Of Duty] Year 2024 only has 99 posts\n",
      "\n",
      "Scraping for 'Minecraft'...\n",
      "  ➤ Scanning r/Minecraft\n",
      "     → Trying .top()\n"
     ]
    },
    {
     "name": "stderr",
     "output_type": "stream",
     "text": [
      "Minecraft [top]: 987it [00:19, 49.38it/s]\n"
     ]
    },
    {
     "name": "stdout",
     "output_type": "stream",
     "text": [
      "     → Trying .new()\n"
     ]
    },
    {
     "name": "stderr",
     "output_type": "stream",
     "text": [
      "Minecraft [new]: 950it [00:17, 53.02it/s]\n"
     ]
    },
    {
     "name": "stdout",
     "output_type": "stream",
     "text": [
      "     → Trying .hot()\n"
     ]
    },
    {
     "name": "stderr",
     "output_type": "stream",
     "text": [
      "Minecraft [hot]: 500it [00:09, 50.55it/s]\n"
     ]
    },
    {
     "name": "stdout",
     "output_type": "stream",
     "text": [
      "     → Trying .rising()\n"
     ]
    },
    {
     "name": "stderr",
     "output_type": "stream",
     "text": [
      "Minecraft [rising]: 25it [00:00, 40.62it/s]\n"
     ]
    },
    {
     "name": "stdout",
     "output_type": "stream",
     "text": [
      "  ➤ Scanning r/minecraftsuggestions\n",
      "     → Trying .top()\n"
     ]
    },
    {
     "name": "stderr",
     "output_type": "stream",
     "text": [
      "minecraftsuggestions [top]: 996it [00:19, 50.02it/s]\n"
     ]
    },
    {
     "name": "stdout",
     "output_type": "stream",
     "text": [
      "     → Trying .new()\n"
     ]
    },
    {
     "name": "stderr",
     "output_type": "stream",
     "text": [
      "minecraftsuggestions [new]: 955it [00:18, 50.91it/s]\n"
     ]
    },
    {
     "name": "stdout",
     "output_type": "stream",
     "text": [
      "     → Trying .hot()\n"
     ]
    },
    {
     "name": "stderr",
     "output_type": "stream",
     "text": [
      "minecraftsuggestions [hot]: 500it [00:10, 46.97it/s]\n"
     ]
    },
    {
     "name": "stdout",
     "output_type": "stream",
     "text": [
      "     → Trying .rising()\n"
     ]
    },
    {
     "name": "stderr",
     "output_type": "stream",
     "text": [
      "minecraftsuggestions [rising]: 24it [00:00, 41.39it/s]\n"
     ]
    },
    {
     "name": "stdout",
     "output_type": "stream",
     "text": [
      "  ➤ Scanning r/MinecraftDungeons\n",
      "     → Trying .top()\n"
     ]
    },
    {
     "name": "stderr",
     "output_type": "stream",
     "text": [
      "MinecraftDungeons [top]: 999it [00:18, 55.32it/s]\n"
     ]
    },
    {
     "name": "stdout",
     "output_type": "stream",
     "text": [
      "     → Trying .new()\n"
     ]
    },
    {
     "name": "stderr",
     "output_type": "stream",
     "text": [
      "MinecraftDungeons [new]: 990it [00:19, 49.81it/s]\n"
     ]
    },
    {
     "name": "stdout",
     "output_type": "stream",
     "text": [
      "     → Trying .hot()\n"
     ]
    },
    {
     "name": "stderr",
     "output_type": "stream",
     "text": [
      "MinecraftDungeons [hot]: 500it [00:10, 46.73it/s]\n"
     ]
    },
    {
     "name": "stdout",
     "output_type": "stream",
     "text": [
      "     → Trying .rising()\n"
     ]
    },
    {
     "name": "stderr",
     "output_type": "stream",
     "text": [
      "MinecraftDungeons [rising]: 25it [00:00, 39.28it/s]\n"
     ]
    },
    {
     "name": "stdout",
     "output_type": "stream",
     "text": [
      "  ➤ Scanning r/MinecraftServer\n",
      "     → Trying .top()\n"
     ]
    },
    {
     "name": "stderr",
     "output_type": "stream",
     "text": [
      "MinecraftServer [top]: 1000it [00:23, 42.25it/s]\n"
     ]
    },
    {
     "name": "stdout",
     "output_type": "stream",
     "text": [
      "     → Trying .new()\n"
     ]
    },
    {
     "name": "stderr",
     "output_type": "stream",
     "text": [
      "MinecraftServer [new]: 969it [00:17, 53.87it/s]\n"
     ]
    },
    {
     "name": "stdout",
     "output_type": "stream",
     "text": [
      "     → Trying .hot()\n"
     ]
    },
    {
     "name": "stderr",
     "output_type": "stream",
     "text": [
      "MinecraftServer [hot]: 500it [00:09, 51.47it/s]\n"
     ]
    },
    {
     "name": "stdout",
     "output_type": "stream",
     "text": [
      "     → Trying .rising()\n"
     ]
    },
    {
     "name": "stderr",
     "output_type": "stream",
     "text": [
      "MinecraftServer [rising]: 25it [00:00, 51.74it/s]\n"
     ]
    },
    {
     "name": "stdout",
     "output_type": "stream",
     "text": [
      "⚠️  [Minecraft] Year 2023 only has 65 posts\n",
      "⚠️  [Minecraft] Year 2024 only has 96 posts\n",
      "\n",
      "Scraping for 'The Sims'...\n",
      "  ➤ Scanning r/thesims\n",
      "     → Trying .top()\n"
     ]
    },
    {
     "name": "stderr",
     "output_type": "stream",
     "text": [
      "thesims [top]: 1000it [00:20, 47.85it/s]\n"
     ]
    },
    {
     "name": "stdout",
     "output_type": "stream",
     "text": [
      "     → Trying .new()\n"
     ]
    },
    {
     "name": "stderr",
     "output_type": "stream",
     "text": [
      "thesims [new]: 996it [00:24, 40.67it/s]\n"
     ]
    },
    {
     "name": "stdout",
     "output_type": "stream",
     "text": [
      "     → Trying .hot()\n"
     ]
    },
    {
     "name": "stderr",
     "output_type": "stream",
     "text": [
      "thesims [hot]: 500it [00:12, 40.38it/s]\n"
     ]
    },
    {
     "name": "stdout",
     "output_type": "stream",
     "text": [
      "     → Trying .rising()\n"
     ]
    },
    {
     "name": "stderr",
     "output_type": "stream",
     "text": [
      "thesims [rising]: 26it [00:00, 40.78it/s]\n"
     ]
    },
    {
     "name": "stdout",
     "output_type": "stream",
     "text": [
      "  ➤ Scanning r/Sims4\n",
      "     → Trying .top()\n"
     ]
    },
    {
     "name": "stderr",
     "output_type": "stream",
     "text": [
      "Sims4 [top]: 1000it [00:22, 43.70it/s]\n"
     ]
    },
    {
     "name": "stdout",
     "output_type": "stream",
     "text": [
      "     → Trying .new()\n"
     ]
    },
    {
     "name": "stderr",
     "output_type": "stream",
     "text": [
      "Sims4 [new]: 988it [00:27, 35.87it/s]\n"
     ]
    },
    {
     "name": "stdout",
     "output_type": "stream",
     "text": [
      "     → Trying .hot()\n"
     ]
    },
    {
     "name": "stderr",
     "output_type": "stream",
     "text": [
      "Sims4 [hot]: 427it [00:13, 31.40it/s]\n"
     ]
    },
    {
     "name": "stdout",
     "output_type": "stream",
     "text": [
      "     → Trying .rising()\n"
     ]
    },
    {
     "name": "stderr",
     "output_type": "stream",
     "text": [
      "Sims4 [rising]: 25it [00:00, 29.07it/s]\n"
     ]
    },
    {
     "name": "stdout",
     "output_type": "stream",
     "text": [
      "  ➤ Scanning r/TheSimsBuilding\n",
      "     → Trying .top()\n"
     ]
    },
    {
     "name": "stderr",
     "output_type": "stream",
     "text": [
      "TheSimsBuilding [top]: 482it [00:25, 19.05it/s]\n"
     ]
    },
    {
     "name": "stdout",
     "output_type": "stream",
     "text": [
      "  ➤ Scanning r/Sims3\n",
      "  ➤ Scanning r/thesims4\n",
      "\n",
      "Scraping for 'Overwatch'...\n",
      "  ➤ Scanning r/Overwatch\n",
      "     → Trying .top()\n"
     ]
    },
    {
     "name": "stderr",
     "output_type": "stream",
     "text": [
      "Overwatch [top]: 995it [00:18, 54.27it/s]\n"
     ]
    },
    {
     "name": "stdout",
     "output_type": "stream",
     "text": [
      "     → Trying .new()\n"
     ]
    },
    {
     "name": "stderr",
     "output_type": "stream",
     "text": [
      "Overwatch [new]: 992it [00:17, 56.18it/s]\n"
     ]
    },
    {
     "name": "stdout",
     "output_type": "stream",
     "text": [
      "     → Trying .hot()\n"
     ]
    },
    {
     "name": "stderr",
     "output_type": "stream",
     "text": [
      "Overwatch [hot]: 500it [00:10, 47.49it/s]\n"
     ]
    },
    {
     "name": "stdout",
     "output_type": "stream",
     "text": [
      "     → Trying .rising()\n"
     ]
    },
    {
     "name": "stderr",
     "output_type": "stream",
     "text": [
      "Overwatch [rising]: 25it [00:00, 32.60it/s]\n"
     ]
    },
    {
     "name": "stdout",
     "output_type": "stream",
     "text": [
      "  ➤ Scanning r/OverwatchLeague\n",
      "     → Trying .top()\n"
     ]
    },
    {
     "name": "stderr",
     "output_type": "stream",
     "text": [
      "OverwatchLeague [top]: 998it [00:19, 50.53it/s]\n"
     ]
    },
    {
     "name": "stdout",
     "output_type": "stream",
     "text": [
      "     → Trying .new()\n"
     ]
    },
    {
     "name": "stderr",
     "output_type": "stream",
     "text": [
      "OverwatchLeague [new]: 967it [00:19, 48.77it/s]\n"
     ]
    },
    {
     "name": "stdout",
     "output_type": "stream",
     "text": [
      "     → Trying .hot()\n"
     ]
    },
    {
     "name": "stderr",
     "output_type": "stream",
     "text": [
      "OverwatchLeague [hot]: 500it [00:09, 51.61it/s]\n"
     ]
    },
    {
     "name": "stdout",
     "output_type": "stream",
     "text": [
      "     → Trying .rising()\n"
     ]
    },
    {
     "name": "stderr",
     "output_type": "stream",
     "text": [
      "OverwatchLeague [rising]: 25it [00:00, 46.44it/s]\n"
     ]
    },
    {
     "name": "stdout",
     "output_type": "stream",
     "text": [
      "  ➤ Scanning r/Competitiveoverwatch\n",
      "     → Trying .top()\n"
     ]
    },
    {
     "name": "stderr",
     "output_type": "stream",
     "text": [
      "Competitiveoverwatch [top]: 999it [00:19, 51.14it/s]\n"
     ]
    },
    {
     "name": "stdout",
     "output_type": "stream",
     "text": [
      "     → Trying .new()\n"
     ]
    },
    {
     "name": "stderr",
     "output_type": "stream",
     "text": [
      "Competitiveoverwatch [new]: 991it [00:17, 55.57it/s]\n"
     ]
    },
    {
     "name": "stdout",
     "output_type": "stream",
     "text": [
      "     → Trying .hot()\n"
     ]
    },
    {
     "name": "stderr",
     "output_type": "stream",
     "text": [
      "Competitiveoverwatch [hot]: 500it [00:08, 57.19it/s]\n"
     ]
    },
    {
     "name": "stdout",
     "output_type": "stream",
     "text": [
      "     → Trying .rising()\n"
     ]
    },
    {
     "name": "stderr",
     "output_type": "stream",
     "text": [
      "Competitiveoverwatch [rising]: 25it [00:00, 50.76it/s]\n"
     ]
    },
    {
     "name": "stdout",
     "output_type": "stream",
     "text": [
      "  ➤ Scanning r/Competitiveoverwatch\n",
      "     → Trying .top()\n"
     ]
    },
    {
     "name": "stderr",
     "output_type": "stream",
     "text": [
      "Competitiveoverwatch [top]: 999it [00:19, 50.79it/s]\n"
     ]
    },
    {
     "name": "stdout",
     "output_type": "stream",
     "text": [
      "     → Trying .new()\n"
     ]
    },
    {
     "name": "stderr",
     "output_type": "stream",
     "text": [
      "Competitiveoverwatch [new]: 991it [00:18, 54.30it/s]\n"
     ]
    },
    {
     "name": "stdout",
     "output_type": "stream",
     "text": [
      "     → Trying .hot()\n"
     ]
    },
    {
     "name": "stderr",
     "output_type": "stream",
     "text": [
      "Competitiveoverwatch [hot]: 500it [00:09, 50.88it/s]\n"
     ]
    },
    {
     "name": "stdout",
     "output_type": "stream",
     "text": [
      "     → Trying .rising()\n"
     ]
    },
    {
     "name": "stderr",
     "output_type": "stream",
     "text": [
      "Competitiveoverwatch [rising]: 25it [00:00, 34.88it/s]\n"
     ]
    },
    {
     "name": "stdout",
     "output_type": "stream",
     "text": [
      "⚠️  [Overwatch] Year 2024 only has 87 posts\n",
      "\n",
      "Scraping for 'Skyrim'...\n",
      "  ➤ Scanning r/skyrim\n",
      "     → Trying .top()\n"
     ]
    },
    {
     "name": "stderr",
     "output_type": "stream",
     "text": [
      "skyrim [top]: 989it [00:20, 47.90it/s]\n"
     ]
    },
    {
     "name": "stdout",
     "output_type": "stream",
     "text": [
      "     → Trying .new()\n"
     ]
    },
    {
     "name": "stderr",
     "output_type": "stream",
     "text": [
      "skyrim [new]: 992it [00:18, 53.60it/s]\n"
     ]
    },
    {
     "name": "stdout",
     "output_type": "stream",
     "text": [
      "     → Trying .hot()\n"
     ]
    },
    {
     "name": "stderr",
     "output_type": "stream",
     "text": [
      "skyrim [hot]: 500it [00:08, 56.45it/s]\n"
     ]
    },
    {
     "name": "stdout",
     "output_type": "stream",
     "text": [
      "     → Trying .rising()\n"
     ]
    },
    {
     "name": "stderr",
     "output_type": "stream",
     "text": [
      "skyrim [rising]: 25it [00:00, 31.48it/s]\n"
     ]
    },
    {
     "name": "stdout",
     "output_type": "stream",
     "text": [
      "  ➤ Scanning r/skyrimmods\n",
      "     → Trying .top()\n"
     ]
    },
    {
     "name": "stderr",
     "output_type": "stream",
     "text": [
      "skyrimmods [top]: 995it [00:19, 50.91it/s]\n"
     ]
    },
    {
     "name": "stdout",
     "output_type": "stream",
     "text": [
      "     → Trying .new()\n"
     ]
    },
    {
     "name": "stderr",
     "output_type": "stream",
     "text": [
      "skyrimmods [new]: 991it [00:14, 70.21it/s]\n"
     ]
    },
    {
     "name": "stdout",
     "output_type": "stream",
     "text": [
      "     → Trying .hot()\n"
     ]
    },
    {
     "name": "stderr",
     "output_type": "stream",
     "text": [
      "skyrimmods [hot]: 500it [00:07, 65.09it/s]\n"
     ]
    },
    {
     "name": "stdout",
     "output_type": "stream",
     "text": [
      "     → Trying .rising()\n"
     ]
    },
    {
     "name": "stderr",
     "output_type": "stream",
     "text": [
      "skyrimmods [rising]: 25it [00:00, 50.03it/s]\n"
     ]
    },
    {
     "name": "stdout",
     "output_type": "stream",
     "text": [
      "  ➤ Scanning r/SkyrimModsXbox\n",
      "     → Trying .top()\n"
     ]
    },
    {
     "name": "stderr",
     "output_type": "stream",
     "text": [
      "SkyrimModsXbox [top]: 530it [00:29, 17.73it/s]"
     ]
    },
    {
     "name": "stdout",
     "output_type": "stream",
     "text": [
      "  ➤ Scanning r/kyrimTogether\n"
     ]
    },
    {
     "name": "stderr",
     "output_type": "stream",
     "text": [
      "\n"
     ]
    }
   ],
   "source": [
    "# === Run scraper across all games ===\n",
    "all_posts = []\n",
    "\n",
    "for game, subs in GAME_SUBREDDITS.items():\n",
    "    all_posts.extend(scrape_game_posts(game, subs, year_cap=200))\n",
    "\n",
    "# === Filter out bot-like users ===\n",
    "bot_users = is_suspected_bot(all_posts)\n",
    "filtered_posts = [p for p in all_posts if p['author'] not in bot_users]"
   ]
  },
  {
   "cell_type": "code",
   "execution_count": 61,
   "id": "c35244c1",
   "metadata": {},
   "outputs": [
    {
     "name": "stdout",
     "output_type": "stream",
     "text": [
      "\n",
      "Scraping for 'GTA'...\n",
      "  ➤ Scanning r/GTA\n",
      "     → Trying .top()\n"
     ]
    },
    {
     "name": "stderr",
     "output_type": "stream",
     "text": [
      "GTA [top]: 0it [00:00, ?it/s]C:\\Users\\Ghastly\\AppData\\Local\\Temp\\ipykernel_24096\\1315138358.py:10: DeprecationWarning: datetime.datetime.utcfromtimestamp() is deprecated and scheduled for removal in a future version. Use timezone-aware objects to represent datetimes in UTC: datetime.datetime.fromtimestamp(timestamp, datetime.UTC).\n",
      "  created = datetime.utcfromtimestamp(post.created_utc)\n",
      "GTA [top]: 983it [00:33, 29.29it/s]\n"
     ]
    },
    {
     "name": "stdout",
     "output_type": "stream",
     "text": [
      "     → Trying .new()\n"
     ]
    },
    {
     "name": "stderr",
     "output_type": "stream",
     "text": [
      "GTA [new]: 966it [00:15, 61.88it/s]\n"
     ]
    },
    {
     "name": "stdout",
     "output_type": "stream",
     "text": [
      "     → Trying .hot()\n"
     ]
    },
    {
     "name": "stderr",
     "output_type": "stream",
     "text": [
      "GTA [hot]: 500it [00:08, 59.41it/s]\n"
     ]
    },
    {
     "name": "stdout",
     "output_type": "stream",
     "text": [
      "     → Trying .rising()\n"
     ]
    },
    {
     "name": "stderr",
     "output_type": "stream",
     "text": [
      "GTA [rising]: 25it [00:00, 52.27it/s]\n"
     ]
    },
    {
     "name": "stdout",
     "output_type": "stream",
     "text": [
      "  ➤ Scanning r/GTAOnline\n",
      "     → Trying .top()\n"
     ]
    },
    {
     "name": "stderr",
     "output_type": "stream",
     "text": [
      "GTAOnline [top]: 998it [00:19, 50.67it/s]\n"
     ]
    },
    {
     "name": "stdout",
     "output_type": "stream",
     "text": [
      "     → Trying .new()\n"
     ]
    },
    {
     "name": "stderr",
     "output_type": "stream",
     "text": [
      "GTAOnline [new]: 985it [00:20, 47.81it/s]\n"
     ]
    },
    {
     "name": "stdout",
     "output_type": "stream",
     "text": [
      "     → Trying .hot()\n"
     ]
    },
    {
     "name": "stderr",
     "output_type": "stream",
     "text": [
      "GTAOnline [hot]: 500it [00:10, 45.77it/s]\n"
     ]
    },
    {
     "name": "stdout",
     "output_type": "stream",
     "text": [
      "     → Trying .rising()\n"
     ]
    },
    {
     "name": "stderr",
     "output_type": "stream",
     "text": [
      "GTAOnline [rising]: 25it [00:00, 41.16it/s]\n"
     ]
    },
    {
     "name": "stdout",
     "output_type": "stream",
     "text": [
      "  ➤ Scanning r/GTA6\n",
      "     → Trying .top()\n"
     ]
    },
    {
     "name": "stderr",
     "output_type": "stream",
     "text": [
      "GTA6 [top]: 983it [00:23, 42.57it/s]\n"
     ]
    },
    {
     "name": "stdout",
     "output_type": "stream",
     "text": [
      "     → Trying .new()\n"
     ]
    },
    {
     "name": "stderr",
     "output_type": "stream",
     "text": [
      "GTA6 [new]: 952it [00:22, 41.80it/s]\n"
     ]
    },
    {
     "name": "stdout",
     "output_type": "stream",
     "text": [
      "     → Trying .hot()\n"
     ]
    },
    {
     "name": "stderr",
     "output_type": "stream",
     "text": [
      "GTA6 [hot]: 484it [00:12, 37.36it/s]\n"
     ]
    },
    {
     "name": "stdout",
     "output_type": "stream",
     "text": [
      "     → Trying .rising()\n"
     ]
    },
    {
     "name": "stderr",
     "output_type": "stream",
     "text": [
      "GTA6 [rising]: 25it [00:00, 46.70it/s]\n"
     ]
    },
    {
     "name": "stdout",
     "output_type": "stream",
     "text": [
      "  ➤ Scanning r/GrandTheftAutoV\n",
      "     → Trying .top()\n"
     ]
    },
    {
     "name": "stderr",
     "output_type": "stream",
     "text": [
      "GrandTheftAutoV [top]: 998it [00:15, 64.23it/s]\n"
     ]
    },
    {
     "name": "stdout",
     "output_type": "stream",
     "text": [
      "     → Trying .new()\n"
     ]
    },
    {
     "name": "stderr",
     "output_type": "stream",
     "text": [
      "GrandTheftAutoV [new]: 971it [00:18, 53.19it/s]\n"
     ]
    },
    {
     "name": "stdout",
     "output_type": "stream",
     "text": [
      "     → Trying .hot()\n"
     ]
    },
    {
     "name": "stderr",
     "output_type": "stream",
     "text": [
      "GrandTheftAutoV [hot]: 500it [00:09, 54.70it/s]\n"
     ]
    },
    {
     "name": "stdout",
     "output_type": "stream",
     "text": [
      "     → Trying .rising()\n"
     ]
    },
    {
     "name": "stderr",
     "output_type": "stream",
     "text": [
      "GrandTheftAutoV [rising]: 25it [00:00, 39.93it/s]\n"
     ]
    },
    {
     "name": "stdout",
     "output_type": "stream",
     "text": [
      "  ➤ Scanning r/GTAV\n",
      "     → Trying .top()\n"
     ]
    },
    {
     "name": "stderr",
     "output_type": "stream",
     "text": [
      "GTAV [top]: 957it [00:19, 49.91it/s]"
     ]
    },
    {
     "name": "stdout",
     "output_type": "stream",
     "text": [
      "  ➤ Scanning r/GTAV_Mods\n"
     ]
    },
    {
     "name": "stderr",
     "output_type": "stream",
     "text": [
      "\n"
     ]
    }
   ],
   "source": [
    "gta_posts = scrape_game_posts(\"GTA\", GAME_SUBREDDITS[\"GTA\"],  year_cap=200)"
   ]
  },
  {
   "cell_type": "code",
   "execution_count": 1,
   "id": "f3ea8457",
   "metadata": {},
   "outputs": [
    {
     "ename": "NameError",
     "evalue": "name 'pd' is not defined",
     "output_type": "error",
     "traceback": [
      "\u001b[31m---------------------------------------------------------------------------\u001b[39m",
      "\u001b[31mNameError\u001b[39m                                 Traceback (most recent call last)",
      "\u001b[36mCell\u001b[39m\u001b[36m \u001b[39m\u001b[32mIn[1]\u001b[39m\u001b[32m, line 2\u001b[39m\n\u001b[32m      1\u001b[39m \u001b[38;5;66;03m# === Deduplicate and save ===\u001b[39;00m\n\u001b[32m----> \u001b[39m\u001b[32m2\u001b[39m df = \u001b[43mpd\u001b[49m.DataFrame(filtered_posts)\n\u001b[32m      3\u001b[39m df = df.drop_duplicates(subset=[\u001b[33m\"\u001b[39m\u001b[33mgame\u001b[39m\u001b[33m\"\u001b[39m, \u001b[33m\"\u001b[39m\u001b[33mauthor\u001b[39m\u001b[33m\"\u001b[39m, \u001b[33m\"\u001b[39m\u001b[33moriginal_title\u001b[39m\u001b[33m\"\u001b[39m])\n",
      "\u001b[31mNameError\u001b[39m: name 'pd' is not defined"
     ]
    }
   ],
   "source": [
    "# === Deduplicate and save ===\n",
    "df = pd.DataFrame(filtered_posts)\n",
    "df = df.drop_duplicates(subset=[\"game\", \"author\", \"original_title\"])\n",
    "\n"
   ]
  },
  {
   "cell_type": "code",
   "execution_count": null,
   "id": "db6eec0c",
   "metadata": {},
   "outputs": [],
   "source": []
  },
  {
   "cell_type": "code",
   "execution_count": 73,
   "id": "ddaa5324",
   "metadata": {},
   "outputs": [
    {
     "name": "stdout",
     "output_type": "stream",
     "text": [
      "\n",
      "✅ Saved 11437 posts across all games. Bots removed, titles cleaned, capped per year.\n"
     ]
    }
   ],
   "source": [
    "# === Save to CSV ===\n",
    "df.to_csv(\"reddit_game_titles_by_year1.csv\", index=False)\n",
    "print(f\"\\n✅ Saved {len(df)} posts across all games. Bots removed, titles cleaned, capped per year.\")"
   ]
  },
  {
   "cell_type": "code",
   "execution_count": 74,
   "id": "7fd09846",
   "metadata": {},
   "outputs": [],
   "source": [
    "# Load the saved CSV\n",
    "file_path = \"reddit_game_titles_by_year1.csv\"\n",
    "df = pd.read_csv(file_path)"
   ]
  },
  {
   "cell_type": "code",
   "execution_count": 75,
   "id": "8d7c7b00",
   "metadata": {},
   "outputs": [],
   "source": [
    "# Group by game and year\n",
    "game_year_counts = df.groupby([\"game\", \"year\"]).size().unstack(fill_value=0)"
   ]
  },
  {
   "cell_type": "code",
   "execution_count": 76,
   "id": "5ea270d6",
   "metadata": {},
   "outputs": [
    {
     "data": {
      "image/png": "[encoded data removed]",
      "text/plain": [
       "<Figure size 1200x600 with 1 Axes>"
      ]
     },
     "metadata": {},
     "output_type": "display_data"
    }
   ],
   "source": [
    "# Plot\n",
    "game_year_counts.T.plot(kind='bar', figsize=(12, 6), edgecolor='black')\n",
    "plt.title(\"Post Count per Game per Year\")\n",
    "plt.xlabel(\"Year\")\n",
    "plt.ylabel(\"Number of Posts\")\n",
    "plt.legend(title=\"Game\")\n",
    "plt.xticks(rotation=0)\n",
    "plt.grid(axis='y')\n",
    "plt.tight_layout()\n",
    "plt.show()"
   ]
  }
 ],
 "metadata": {
  "kernelspec": {
   "display_name": ".venv",
   "language": "python",
   "name": "python3"
  },
  "language_info": {
   "codemirror_mode": {
    "name": "ipython",
    "version": 3
   },
   "file_extension": ".py",
   "mimetype": "text/x-python",
   "name": "python",
   "nbconvert_exporter": "python",
   "pygments_lexer": "ipython3",
   "version": "3.13.3"
  }
 },
 "nbformat": 4,
 "nbformat_minor": 5
}
