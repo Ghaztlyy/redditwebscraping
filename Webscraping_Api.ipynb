{
 "cells": [
  {
   "cell_type": "code",
   "execution_count": 1,
   "id": "27b5ca24",
   "metadata": {},
   "outputs": [],
   "source": [
    "import praw\n",
    "import pandas as pd\n",
    "import re\n",
    "import emoji\n",
    "from datetime import datetime\n",
    "from collections import defaultdict\n",
    "from tqdm import tqdm\n",
    "import matplotlib.pyplot as plt"
   ]
  },
  {
   "cell_type": "code",
   "execution_count": 2,
   "id": "18eeec29",
   "metadata": {},
   "outputs": [],
   "source": [
    "# === Reddit API Setup ===\n",
    "reddit = praw.Reddit(\n",
    "    client_id='q_dYyqYYdNNInGsM-lC9Xg',\n",
    "    client_secret='pLigWA6vX6llH7NjWBhVWmg-gJjKvg',\n",
    "    user_agent='script:gaming_trend (by /u/HiGhastlyy)'\n",
    ")"
   ]
  },
  {
   "cell_type": "code",
   "execution_count": 3,
   "id": "55019e2c",
   "metadata": {},
   "outputs": [],
   "source": [
    "# === Base game to subreddit variants mapping ===\n",
    "GAME_SUBREDDITS = {\n",
    "    \"Genshin Impact\": [\"genshin_impact\", \"GenshinImpact\"],\n",
    "    \"Valorant\": [\"valorant\", \"ValorantCompetitive\"],\n",
    "    \"GTA\": [\"GTA\", \"GTAOnline\", \"GTA6\", \"GrandTheftAutoV\", \"GTAV\", \"GTAV_Mods\"],\n",
    "    \"League of Legends\": [\"leagueoflegends\", \"summonerschool\", \"LeagueConnect\", \"LeagueOfLegendsSFW\"],\n",
    "    \"Gaming\": [\"gaming\", \"pcgaming\", \"Games\", \"Gamers\",\"videogames\"],\n",
    "    \"Call Of Duty\": [\"CallOfDuty\", \"CODWarzone\",\"CodZombies\", \"CallOfDutyMobile\",\"CODMobile\",\"modernwarfare\"],\n",
    "    \"Minecraft\":  ['Minecraft','minecraftsuggestions','MinecraftDungeons','MinecraftServer'],\n",
    "    \"The Sims\" : ['thesims','Sims4','TheSimsBuilding','Sims3', 'thesims4'],\n",
    "    \"Overwatch\" : ['Overwatch', 'OverwatchLeague', 'Competitiveoverwatch', 'Competitiveoverwatch'],\n",
    "    \"Skyrim\": ['skyrim', 'skyrimmods', 'SkyrimModsXbox', 'SkyrimTogether'],\n",
    "    \"Roblox\": ['roblox', 'RobloxGame', 'GoCommitDie', 'RobloxDevelopers'],\n",
    "}"
   ]
  },
  {
   "cell_type": "code",
   "execution_count": 4,
   "id": "baeaf558",
   "metadata": {},
   "outputs": [],
   "source": [
    "# === Text cleaning ===\n",
    "def clean_text(text):\n",
    "    if not text:\n",
    "        return \"\"\n",
    "    text = text.encode(\"ascii\", errors=\"ignore\").decode()\n",
    "    text = emoji.replace_emoji(text, replace='')\n",
    "    text = re.sub(r'\\s+', ' ', text).strip()\n",
    "    return text\n",
    "\n",
    "# === Bot Detection ===\n",
    "def is_suspected_bot(posts, threshold=5):\n",
    "    duplicates = defaultdict(int)\n",
    "    for p in posts:\n",
    "        key = (p['author'], p['cleaned'])\n",
    "        duplicates[key] += 1\n",
    "    return {author for (author, _), count in duplicates.items() if count >= threshold}\n"
   ]
  },
  {
   "cell_type": "code",
   "execution_count": 5,
   "id": "e8fd9188",
   "metadata": {},
   "outputs": [],
   "source": [
    "def scrape_game_posts(game_name, subreddit_list, start_year=2020, end_year=2024, year_cap=200):\n",
    "    print(f\"\\nScraping for '{game_name}'...\")\n",
    "    year_counts = defaultdict(int)\n",
    "    collected = []\n",
    "\n",
    "    def try_add(post, sub):\n",
    "        if post.stickied or not post.title:\n",
    "            return False\n",
    "\n",
    "        created = datetime.utcfromtimestamp(post.created_utc)\n",
    "        year = created.year\n",
    "        if year < start_year or year > end_year:\n",
    "            return False\n",
    "\n",
    "        if year_counts[year] >= year_cap:\n",
    "            return False\n",
    "\n",
    "        cleaned_title = clean_text(post.title)\n",
    "        if len(cleaned_title) < 10:\n",
    "            return False\n",
    "\n",
    "        post_data = {\n",
    "            'game': game_name,\n",
    "            'subreddit': sub,\n",
    "            'author': str(post.author),\n",
    "            'created_utc': created.isoformat(),\n",
    "            'year': year,\n",
    "            'score': post.score,\n",
    "            'original_title': post.title,\n",
    "            'cleaned': cleaned_title\n",
    "        }\n",
    "\n",
    "        key = (post_data['author'], post_data['original_title'], year)\n",
    "        if key in seen:\n",
    "            return False\n",
    "\n",
    "        collected.append(post_data)\n",
    "        seen.add(key)\n",
    "        year_counts[year] += 1\n",
    "        return True\n",
    "\n",
    "    seen = set()\n",
    "\n",
    "    for sub in subreddit_list:\n",
    "        subreddit = reddit.subreddit(sub)\n",
    "        print(f\"  ➤ Scanning r/{sub}\")\n",
    "\n",
    "        MODES = [\n",
    "            (\"top\", subreddit.top(limit=1000, time_filter=\"all\")),\n",
    "            (\"new\", subreddit.new(limit=1000)),\n",
    "            (\"hot\", subreddit.hot(limit=1000)),\n",
    "            (\"rising\", subreddit.rising(limit=250)),\n",
    "        ]\n",
    "\n",
    "        for mode_name, post_iter in MODES:\n",
    "            if all(year_counts[y] >= year_cap for y in range(start_year, end_year + 1)):\n",
    "                break  # Exit if all years are filled\n",
    "\n",
    "            print(f\"     → Trying .{mode_name}()\")\n",
    "            for post in tqdm(post_iter, desc=f\"{sub} [{mode_name}]\"):\n",
    "                if all(year_counts[y] >= year_cap for y in range(start_year, end_year + 1)):\n",
    "                    break\n",
    "                try_add(post, sub)\n",
    "\n",
    "    # Log any underfilled years\n",
    "    for y in range(start_year, end_year + 1):\n",
    "        if year_counts[y] < year_cap:\n",
    "            print(f\"⚠️  [{game_name}] Year {y} only has {year_counts[y]} posts\")\n",
    "\n",
    "    return collected\n"
   ]
  },
  {
   "cell_type": "code",
   "execution_count": 6,
   "id": "59631d68",
   "metadata": {},
   "outputs": [
    {
     "name": "stdout",
     "output_type": "stream",
     "text": [
      "\n",
      "Scraping for 'Genshin Impact'...\n",
      "  ➤ Scanning r/genshin_impact\n",
      "     → Trying .top()\n"
     ]
    },
    {
     "name": "stderr",
     "output_type": "stream",
     "text": [
      "genshin_impact [top]: 0it [00:00, ?it/s]C:\\Users\\Ghastly\\AppData\\Local\\Temp\\ipykernel_31512\\4008696106.py:10: DeprecationWarning: datetime.datetime.utcfromtimestamp() is deprecated and scheduled for removal in a future version. Use timezone-aware objects to represent datetimes in UTC: datetime.datetime.fromtimestamp(timestamp, datetime.UTC).\n",
      "  created = datetime.utcfromtimestamp(post.created_utc)\n",
      "genshin_impact [top]: 999it [00:22, 45.34it/s]\n"
     ]
    },
    {
     "name": "stdout",
     "output_type": "stream",
     "text": [
      "     → Trying .new()\n"
     ]
    },
    {
     "name": "stderr",
     "output_type": "stream",
     "text": [
      "genshin_impact [new]: 991it [00:23, 41.85it/s]\n"
     ]
    },
    {
     "name": "stdout",
     "output_type": "stream",
     "text": [
      "     → Trying .hot()\n"
     ]
    },
    {
     "name": "stderr",
     "output_type": "stream",
     "text": [
      "genshin_impact [hot]: 710it [00:16, 44.21it/s]\n"
     ]
    },
    {
     "name": "stdout",
     "output_type": "stream",
     "text": [
      "     → Trying .rising()\n"
     ]
    },
    {
     "name": "stderr",
     "output_type": "stream",
     "text": [
      "genshin_impact [rising]: 25it [00:00, 31.18it/s]\n"
     ]
    },
    {
     "name": "stdout",
     "output_type": "stream",
     "text": [
      "  ➤ Scanning r/GenshinImpact\n",
      "     → Trying .top()\n"
     ]
    },
    {
     "name": "stderr",
     "output_type": "stream",
     "text": [
      "GenshinImpact [top]: 987it [00:16, 58.28it/s]\n"
     ]
    },
    {
     "name": "stdout",
     "output_type": "stream",
     "text": [
      "     → Trying .new()\n"
     ]
    },
    {
     "name": "stderr",
     "output_type": "stream",
     "text": [
      "GenshinImpact [new]: 990it [00:17, 58.06it/s]\n"
     ]
    },
    {
     "name": "stdout",
     "output_type": "stream",
     "text": [
      "     → Trying .hot()\n"
     ]
    },
    {
     "name": "stderr",
     "output_type": "stream",
     "text": [
      "GenshinImpact [hot]: 976it [00:16, 60.81it/s]\n"
     ]
    },
    {
     "name": "stdout",
     "output_type": "stream",
     "text": [
      "     → Trying .rising()\n"
     ]
    },
    {
     "name": "stderr",
     "output_type": "stream",
     "text": [
      "GenshinImpact [rising]: 25it [00:01, 20.78it/s]\n"
     ]
    },
    {
     "name": "stdout",
     "output_type": "stream",
     "text": [
      "⚠️  [Genshin Impact] Year 2020 only has 147 posts\n",
      "⚠️  [Genshin Impact] Year 2021 only has 652 posts\n",
      "⚠️  [Genshin Impact] Year 2022 only has 116 posts\n",
      "⚠️  [Genshin Impact] Year 2023 only has 83 posts\n",
      "⚠️  [Genshin Impact] Year 2024 only has 391 posts\n",
      "\n",
      "Scraping for 'Valorant'...\n",
      "  ➤ Scanning r/valorant\n",
      "     → Trying .top()\n"
     ]
    },
    {
     "name": "stderr",
     "output_type": "stream",
     "text": [
      "valorant [top]: 984it [00:21, 44.82it/s]\n"
     ]
    },
    {
     "name": "stdout",
     "output_type": "stream",
     "text": [
      "     → Trying .new()\n"
     ]
    },
    {
     "name": "stderr",
     "output_type": "stream",
     "text": [
      "valorant [new]: 964it [00:16, 58.84it/s]\n"
     ]
    },
    {
     "name": "stdout",
     "output_type": "stream",
     "text": [
      "     → Trying .hot()\n"
     ]
    },
    {
     "name": "stderr",
     "output_type": "stream",
     "text": [
      "valorant [hot]: 662it [00:11, 57.38it/s]\n"
     ]
    },
    {
     "name": "stdout",
     "output_type": "stream",
     "text": [
      "     → Trying .rising()\n"
     ]
    },
    {
     "name": "stderr",
     "output_type": "stream",
     "text": [
      "valorant [rising]: 25it [00:01, 23.75it/s]\n"
     ]
    },
    {
     "name": "stdout",
     "output_type": "stream",
     "text": [
      "  ➤ Scanning r/ValorantCompetitive\n",
      "     → Trying .top()\n"
     ]
    },
    {
     "name": "stderr",
     "output_type": "stream",
     "text": [
      "ValorantCompetitive [top]: 900it [00:25, 35.33it/s]\n"
     ]
    },
    {
     "name": "stdout",
     "output_type": "stream",
     "text": [
      "     → Trying .new()\n"
     ]
    },
    {
     "name": "stderr",
     "output_type": "stream",
     "text": [
      "ValorantCompetitive [new]: 975it [00:19, 49.77it/s]\n"
     ]
    },
    {
     "name": "stdout",
     "output_type": "stream",
     "text": [
      "     → Trying .hot()\n"
     ]
    },
    {
     "name": "stderr",
     "output_type": "stream",
     "text": [
      "ValorantCompetitive [hot]: 956it [00:21, 43.72it/s]\n"
     ]
    },
    {
     "name": "stdout",
     "output_type": "stream",
     "text": [
      "     → Trying .rising()\n"
     ]
    },
    {
     "name": "stderr",
     "output_type": "stream",
     "text": [
      "ValorantCompetitive [rising]: 25it [00:00, 48.03it/s]\n"
     ]
    },
    {
     "name": "stdout",
     "output_type": "stream",
     "text": [
      "⚠️  [Valorant] Year 2020 only has 389 posts\n",
      "⚠️  [Valorant] Year 2021 only has 571 posts\n",
      "⚠️  [Valorant] Year 2022 only has 397 posts\n",
      "⚠️  [Valorant] Year 2023 only has 184 posts\n",
      "⚠️  [Valorant] Year 2024 only has 163 posts\n",
      "\n",
      "Scraping for 'GTA'...\n",
      "  ➤ Scanning r/GTA\n",
      "     → Trying .top()\n"
     ]
    },
    {
     "name": "stderr",
     "output_type": "stream",
     "text": [
      "GTA [top]: 981it [00:17, 55.98it/s]\n"
     ]
    },
    {
     "name": "stdout",
     "output_type": "stream",
     "text": [
      "     → Trying .new()\n"
     ]
    },
    {
     "name": "stderr",
     "output_type": "stream",
     "text": [
      "GTA [new]: 985it [00:18, 54.66it/s]\n"
     ]
    },
    {
     "name": "stdout",
     "output_type": "stream",
     "text": [
      "     → Trying .hot()\n"
     ]
    },
    {
     "name": "stderr",
     "output_type": "stream",
     "text": [
      "GTA [hot]: 910it [00:19, 46.32it/s]\n"
     ]
    },
    {
     "name": "stdout",
     "output_type": "stream",
     "text": [
      "     → Trying .rising()\n"
     ]
    },
    {
     "name": "stderr",
     "output_type": "stream",
     "text": [
      "GTA [rising]: 25it [00:00, 47.99it/s]\n"
     ]
    },
    {
     "name": "stdout",
     "output_type": "stream",
     "text": [
      "  ➤ Scanning r/GTAOnline\n",
      "     → Trying .top()\n"
     ]
    },
    {
     "name": "stderr",
     "output_type": "stream",
     "text": [
      "GTAOnline [top]: 998it [00:20, 49.19it/s]\n"
     ]
    },
    {
     "name": "stdout",
     "output_type": "stream",
     "text": [
      "     → Trying .new()\n"
     ]
    },
    {
     "name": "stderr",
     "output_type": "stream",
     "text": [
      "GTAOnline [new]: 979it [00:21, 46.36it/s]\n"
     ]
    },
    {
     "name": "stdout",
     "output_type": "stream",
     "text": [
      "     → Trying .hot()\n"
     ]
    },
    {
     "name": "stderr",
     "output_type": "stream",
     "text": [
      "GTAOnline [hot]: 655it [00:14, 46.52it/s]\n"
     ]
    },
    {
     "name": "stdout",
     "output_type": "stream",
     "text": [
      "     → Trying .rising()\n"
     ]
    },
    {
     "name": "stderr",
     "output_type": "stream",
     "text": [
      "GTAOnline [rising]: 25it [00:00, 30.53it/s]\n"
     ]
    },
    {
     "name": "stdout",
     "output_type": "stream",
     "text": [
      "  ➤ Scanning r/GTA6\n",
      "     → Trying .top()\n"
     ]
    },
    {
     "name": "stderr",
     "output_type": "stream",
     "text": [
      "GTA6 [top]: 984it [00:21, 46.08it/s]\n"
     ]
    },
    {
     "name": "stdout",
     "output_type": "stream",
     "text": [
      "     → Trying .new()\n"
     ]
    },
    {
     "name": "stderr",
     "output_type": "stream",
     "text": [
      "GTA6 [new]: 945it [00:24, 38.42it/s]\n"
     ]
    },
    {
     "name": "stdout",
     "output_type": "stream",
     "text": [
      "     → Trying .hot()\n"
     ]
    },
    {
     "name": "stderr",
     "output_type": "stream",
     "text": [
      "GTA6 [hot]: 500it [00:12, 38.58it/s]\n"
     ]
    },
    {
     "name": "stdout",
     "output_type": "stream",
     "text": [
      "     → Trying .rising()\n"
     ]
    },
    {
     "name": "stderr",
     "output_type": "stream",
     "text": [
      "GTA6 [rising]: 25it [00:00, 32.07it/s]\n"
     ]
    },
    {
     "name": "stdout",
     "output_type": "stream",
     "text": [
      "  ➤ Scanning r/GrandTheftAutoV\n",
      "     → Trying .top()\n"
     ]
    },
    {
     "name": "stderr",
     "output_type": "stream",
     "text": [
      "GrandTheftAutoV [top]: 997it [00:14, 69.26it/s]\n"
     ]
    },
    {
     "name": "stdout",
     "output_type": "stream",
     "text": [
      "     → Trying .new()\n"
     ]
    },
    {
     "name": "stderr",
     "output_type": "stream",
     "text": [
      "GrandTheftAutoV [new]: 970it [00:18, 51.54it/s]\n"
     ]
    },
    {
     "name": "stdout",
     "output_type": "stream",
     "text": [
      "     → Trying .hot()\n"
     ]
    },
    {
     "name": "stderr",
     "output_type": "stream",
     "text": [
      "GrandTheftAutoV [hot]: 956it [00:19, 49.40it/s]\n"
     ]
    },
    {
     "name": "stdout",
     "output_type": "stream",
     "text": [
      "     → Trying .rising()\n"
     ]
    },
    {
     "name": "stderr",
     "output_type": "stream",
     "text": [
      "GrandTheftAutoV [rising]: 25it [00:00, 42.12it/s]\n"
     ]
    },
    {
     "name": "stdout",
     "output_type": "stream",
     "text": [
      "  ➤ Scanning r/GTAV\n",
      "     → Trying .top()\n"
     ]
    },
    {
     "name": "stderr",
     "output_type": "stream",
     "text": [
      "GTAV [top]: 995it [00:19, 51.80it/s]\n"
     ]
    },
    {
     "name": "stdout",
     "output_type": "stream",
     "text": [
      "     → Trying .new()\n"
     ]
    },
    {
     "name": "stderr",
     "output_type": "stream",
     "text": [
      "GTAV [new]: 979it [00:20, 47.09it/s]\n"
     ]
    },
    {
     "name": "stdout",
     "output_type": "stream",
     "text": [
      "     → Trying .hot()\n"
     ]
    },
    {
     "name": "stderr",
     "output_type": "stream",
     "text": [
      "GTAV [hot]: 977it [00:22, 42.50it/s]\n"
     ]
    },
    {
     "name": "stdout",
     "output_type": "stream",
     "text": [
      "     → Trying .rising()\n"
     ]
    },
    {
     "name": "stderr",
     "output_type": "stream",
     "text": [
      "GTAV [rising]: 25it [00:00, 33.13it/s]\n"
     ]
    },
    {
     "name": "stdout",
     "output_type": "stream",
     "text": [
      "  ➤ Scanning r/GTAV_Mods\n",
      "     → Trying .top()\n"
     ]
    },
    {
     "name": "stderr",
     "output_type": "stream",
     "text": [
      "GTAV_Mods [top]: 998it [00:20, 48.96it/s]\n"
     ]
    },
    {
     "name": "stdout",
     "output_type": "stream",
     "text": [
      "     → Trying .new()\n"
     ]
    },
    {
     "name": "stderr",
     "output_type": "stream",
     "text": [
      "GTAV_Mods [new]: 802it [00:13, 58.64it/s]\n"
     ]
    },
    {
     "name": "stdout",
     "output_type": "stream",
     "text": [
      "     → Trying .hot()\n"
     ]
    },
    {
     "name": "stderr",
     "output_type": "stream",
     "text": [
      "GTAV_Mods [hot]: 569it [00:11, 51.00it/s]\n"
     ]
    },
    {
     "name": "stdout",
     "output_type": "stream",
     "text": [
      "     → Trying .rising()\n"
     ]
    },
    {
     "name": "stderr",
     "output_type": "stream",
     "text": [
      "GTAV_Mods [rising]: 24it [00:00, 46.40it/s]\n"
     ]
    },
    {
     "name": "stdout",
     "output_type": "stream",
     "text": [
      "⚠️  [GTA] Year 2021 only has 962 posts\n",
      "⚠️  [GTA] Year 2022 only has 272 posts\n",
      "⚠️  [GTA] Year 2023 only has 333 posts\n",
      "⚠️  [GTA] Year 2024 only has 979 posts\n",
      "\n",
      "Scraping for 'League of Legends'...\n",
      "  ➤ Scanning r/leagueoflegends\n",
      "     → Trying .top()\n"
     ]
    },
    {
     "name": "stderr",
     "output_type": "stream",
     "text": [
      "leagueoflegends [top]: 986it [00:21, 46.94it/s]\n"
     ]
    },
    {
     "name": "stdout",
     "output_type": "stream",
     "text": [
      "     → Trying .new()\n"
     ]
    },
    {
     "name": "stderr",
     "output_type": "stream",
     "text": [
      "leagueoflegends [new]: 978it [00:16, 59.34it/s]\n"
     ]
    },
    {
     "name": "stdout",
     "output_type": "stream",
     "text": [
      "     → Trying .hot()\n"
     ]
    },
    {
     "name": "stderr",
     "output_type": "stream",
     "text": [
      "leagueoflegends [hot]: 666it [00:13, 50.19it/s]\n"
     ]
    },
    {
     "name": "stdout",
     "output_type": "stream",
     "text": [
      "     → Trying .rising()\n"
     ]
    },
    {
     "name": "stderr",
     "output_type": "stream",
     "text": [
      "leagueoflegends [rising]: 25it [00:00, 33.03it/s]\n"
     ]
    },
    {
     "name": "stdout",
     "output_type": "stream",
     "text": [
      "  ➤ Scanning r/summonerschool\n",
      "     → Trying .top()\n"
     ]
    },
    {
     "name": "stderr",
     "output_type": "stream",
     "text": [
      "summonerschool [top]: 990it [00:19, 51.24it/s]\n"
     ]
    },
    {
     "name": "stdout",
     "output_type": "stream",
     "text": [
      "     → Trying .new()\n"
     ]
    },
    {
     "name": "stderr",
     "output_type": "stream",
     "text": [
      "summonerschool [new]: 972it [00:15, 63.37it/s]\n"
     ]
    },
    {
     "name": "stdout",
     "output_type": "stream",
     "text": [
      "     → Trying .hot()\n"
     ]
    },
    {
     "name": "stderr",
     "output_type": "stream",
     "text": [
      "summonerschool [hot]: 834it [00:16, 51.08it/s]\n"
     ]
    },
    {
     "name": "stdout",
     "output_type": "stream",
     "text": [
      "     → Trying .rising()\n"
     ]
    },
    {
     "name": "stderr",
     "output_type": "stream",
     "text": [
      "summonerschool [rising]: 25it [00:00, 50.94it/s]\n"
     ]
    },
    {
     "name": "stdout",
     "output_type": "stream",
     "text": [
      "  ➤ Scanning r/LeagueConnect\n",
      "     → Trying .top()\n"
     ]
    },
    {
     "name": "stderr",
     "output_type": "stream",
     "text": [
      "LeagueConnect [top]: 997it [00:17, 56.85it/s]\n"
     ]
    },
    {
     "name": "stdout",
     "output_type": "stream",
     "text": [
      "     → Trying .new()\n"
     ]
    },
    {
     "name": "stderr",
     "output_type": "stream",
     "text": [
      "LeagueConnect [new]: 987it [00:12, 79.19it/s]\n"
     ]
    },
    {
     "name": "stdout",
     "output_type": "stream",
     "text": [
      "     → Trying .hot()\n"
     ]
    },
    {
     "name": "stderr",
     "output_type": "stream",
     "text": [
      "LeagueConnect [hot]: 969it [00:13, 73.00it/s]\n"
     ]
    },
    {
     "name": "stdout",
     "output_type": "stream",
     "text": [
      "     → Trying .rising()\n"
     ]
    },
    {
     "name": "stderr",
     "output_type": "stream",
     "text": [
      "LeagueConnect [rising]: 25it [00:00, 58.15it/s]\n"
     ]
    },
    {
     "name": "stdout",
     "output_type": "stream",
     "text": [
      "  ➤ Scanning r/LeagueOfLegendsSFW\n",
      "     → Trying .top()\n"
     ]
    },
    {
     "name": "stderr",
     "output_type": "stream",
     "text": [
      "LeagueOfLegendsSFW [top]: 1000it [00:27, 36.87it/s]\n"
     ]
    },
    {
     "name": "stdout",
     "output_type": "stream",
     "text": [
      "     → Trying .new()\n"
     ]
    },
    {
     "name": "stderr",
     "output_type": "stream",
     "text": [
      "LeagueOfLegendsSFW [new]: 984it [00:23, 42.24it/s]\n"
     ]
    },
    {
     "name": "stdout",
     "output_type": "stream",
     "text": [
      "     → Trying .hot()\n"
     ]
    },
    {
     "name": "stderr",
     "output_type": "stream",
     "text": [
      "LeagueOfLegendsSFW [hot]: 999it [00:23, 43.30it/s]\n"
     ]
    },
    {
     "name": "stdout",
     "output_type": "stream",
     "text": [
      "     → Trying .rising()\n"
     ]
    },
    {
     "name": "stderr",
     "output_type": "stream",
     "text": [
      "LeagueOfLegendsSFW [rising]: 25it [00:00, 38.44it/s]\n"
     ]
    },
    {
     "name": "stdout",
     "output_type": "stream",
     "text": [
      "⚠️  [League of Legends] Year 2021 only has 720 posts\n",
      "⚠️  [League of Legends] Year 2022 only has 209 posts\n",
      "⚠️  [League of Legends] Year 2023 only has 953 posts\n",
      "⚠️  [League of Legends] Year 2024 only has 323 posts\n",
      "\n",
      "Scraping for 'Gaming'...\n",
      "  ➤ Scanning r/gaming\n",
      "     → Trying .top()\n"
     ]
    },
    {
     "name": "stderr",
     "output_type": "stream",
     "text": [
      "gaming [top]: 996it [00:18, 53.21it/s]\n"
     ]
    },
    {
     "name": "stdout",
     "output_type": "stream",
     "text": [
      "     → Trying .new()\n"
     ]
    },
    {
     "name": "stderr",
     "output_type": "stream",
     "text": [
      "gaming [new]: 834it [00:14, 56.74it/s]\n"
     ]
    },
    {
     "name": "stdout",
     "output_type": "stream",
     "text": [
      "     → Trying .hot()\n"
     ]
    },
    {
     "name": "stderr",
     "output_type": "stream",
     "text": [
      "gaming [hot]: 463it [00:10, 44.78it/s]\n"
     ]
    },
    {
     "name": "stdout",
     "output_type": "stream",
     "text": [
      "     → Trying .rising()\n"
     ]
    },
    {
     "name": "stderr",
     "output_type": "stream",
     "text": [
      "gaming [rising]: 26it [00:00, 36.98it/s]\n"
     ]
    },
    {
     "name": "stdout",
     "output_type": "stream",
     "text": [
      "  ➤ Scanning r/pcgaming\n",
      "     → Trying .top()\n"
     ]
    },
    {
     "name": "stderr",
     "output_type": "stream",
     "text": [
      "pcgaming [top]: 996it [00:21, 46.38it/s]\n"
     ]
    },
    {
     "name": "stdout",
     "output_type": "stream",
     "text": [
      "     → Trying .new()\n"
     ]
    },
    {
     "name": "stderr",
     "output_type": "stream",
     "text": [
      "pcgaming [new]: 898it [00:18, 48.83it/s]\n"
     ]
    },
    {
     "name": "stdout",
     "output_type": "stream",
     "text": [
      "     → Trying .hot()\n"
     ]
    },
    {
     "name": "stderr",
     "output_type": "stream",
     "text": [
      "pcgaming [hot]: 242it [00:06, 34.59it/s]\n"
     ]
    },
    {
     "name": "stdout",
     "output_type": "stream",
     "text": [
      "     → Trying .rising()\n"
     ]
    },
    {
     "name": "stderr",
     "output_type": "stream",
     "text": [
      "pcgaming [rising]: 25it [00:00, 30.03it/s]\n"
     ]
    },
    {
     "name": "stdout",
     "output_type": "stream",
     "text": [
      "  ➤ Scanning r/Games\n",
      "     → Trying .top()\n"
     ]
    },
    {
     "name": "stderr",
     "output_type": "stream",
     "text": [
      "Games [top]: 1000it [00:16, 59.55it/s]\n"
     ]
    },
    {
     "name": "stdout",
     "output_type": "stream",
     "text": [
      "     → Trying .new()\n"
     ]
    },
    {
     "name": "stderr",
     "output_type": "stream",
     "text": [
      "Games [new]: 789it [00:12, 62.44it/s]\n"
     ]
    },
    {
     "name": "stdout",
     "output_type": "stream",
     "text": [
      "     → Trying .hot()\n"
     ]
    },
    {
     "name": "stderr",
     "output_type": "stream",
     "text": [
      "Games [hot]: 435it [00:08, 52.13it/s]\n"
     ]
    },
    {
     "name": "stdout",
     "output_type": "stream",
     "text": [
      "     → Trying .rising()\n"
     ]
    },
    {
     "name": "stderr",
     "output_type": "stream",
     "text": [
      "Games [rising]: 25it [00:00, 56.11it/s]\n"
     ]
    },
    {
     "name": "stdout",
     "output_type": "stream",
     "text": [
      "  ➤ Scanning r/Gamers\n",
      "     → Trying .top()\n"
     ]
    },
    {
     "name": "stderr",
     "output_type": "stream",
     "text": [
      "Gamers [top]: 996it [00:23, 42.90it/s]\n"
     ]
    },
    {
     "name": "stdout",
     "output_type": "stream",
     "text": [
      "     → Trying .new()\n"
     ]
    },
    {
     "name": "stderr",
     "output_type": "stream",
     "text": [
      "Gamers [new]: 936it [00:18, 50.98it/s]\n"
     ]
    },
    {
     "name": "stdout",
     "output_type": "stream",
     "text": [
      "     → Trying .hot()\n"
     ]
    },
    {
     "name": "stderr",
     "output_type": "stream",
     "text": [
      "Gamers [hot]: 840it [00:19, 43.10it/s]\n"
     ]
    },
    {
     "name": "stdout",
     "output_type": "stream",
     "text": [
      "     → Trying .rising()\n"
     ]
    },
    {
     "name": "stderr",
     "output_type": "stream",
     "text": [
      "Gamers [rising]: 25it [00:00, 31.56it/s]\n"
     ]
    },
    {
     "name": "stdout",
     "output_type": "stream",
     "text": [
      "  ➤ Scanning r/videogames\n",
      "     → Trying .top()\n"
     ]
    },
    {
     "name": "stderr",
     "output_type": "stream",
     "text": [
      "videogames [top]: 910it [00:17, 52.64it/s]\n"
     ]
    },
    {
     "name": "stdout",
     "output_type": "stream",
     "text": [
      "     → Trying .new()\n"
     ]
    },
    {
     "name": "stderr",
     "output_type": "stream",
     "text": [
      "videogames [new]: 968it [00:17, 56.18it/s]\n"
     ]
    },
    {
     "name": "stdout",
     "output_type": "stream",
     "text": [
      "     → Trying .hot()\n"
     ]
    },
    {
     "name": "stderr",
     "output_type": "stream",
     "text": [
      "videogames [hot]: 912it [00:15, 57.75it/s]\n"
     ]
    },
    {
     "name": "stdout",
     "output_type": "stream",
     "text": [
      "     → Trying .rising()\n"
     ]
    },
    {
     "name": "stderr",
     "output_type": "stream",
     "text": [
      "videogames [rising]: 25it [00:00, 46.85it/s]\n"
     ]
    },
    {
     "name": "stdout",
     "output_type": "stream",
     "text": [
      "⚠️  [Gaming] Year 2020 only has 874 posts\n",
      "⚠️  [Gaming] Year 2021 only has 706 posts\n",
      "⚠️  [Gaming] Year 2022 only has 302 posts\n",
      "⚠️  [Gaming] Year 2023 only has 213 posts\n",
      "⚠️  [Gaming] Year 2024 only has 488 posts\n",
      "\n",
      "Scraping for 'Call Of Duty'...\n",
      "  ➤ Scanning r/CallOfDuty\n",
      "     → Trying .top()\n"
     ]
    },
    {
     "name": "stderr",
     "output_type": "stream",
     "text": [
      "CallOfDuty [top]: 987it [00:19, 50.61it/s]\n"
     ]
    },
    {
     "name": "stdout",
     "output_type": "stream",
     "text": [
      "     → Trying .new()\n"
     ]
    },
    {
     "name": "stderr",
     "output_type": "stream",
     "text": [
      "CallOfDuty [new]: 972it [00:19, 50.50it/s]\n"
     ]
    },
    {
     "name": "stdout",
     "output_type": "stream",
     "text": [
      "     → Trying .hot()\n"
     ]
    },
    {
     "name": "stderr",
     "output_type": "stream",
     "text": [
      "CallOfDuty [hot]: 252it [00:09, 26.41it/s]\n"
     ]
    },
    {
     "name": "stdout",
     "output_type": "stream",
     "text": [
      "     → Trying .rising()\n"
     ]
    },
    {
     "name": "stderr",
     "output_type": "stream",
     "text": [
      "CallOfDuty [rising]: 25it [00:00, 43.61it/s]\n"
     ]
    },
    {
     "name": "stdout",
     "output_type": "stream",
     "text": [
      "  ➤ Scanning r/CODWarzone\n",
      "     → Trying .top()\n"
     ]
    },
    {
     "name": "stderr",
     "output_type": "stream",
     "text": [
      "CODWarzone [top]: 998it [00:20, 49.21it/s]\n"
     ]
    },
    {
     "name": "stdout",
     "output_type": "stream",
     "text": [
      "     → Trying .new()\n"
     ]
    },
    {
     "name": "stderr",
     "output_type": "stream",
     "text": [
      "CODWarzone [new]: 982it [00:19, 51.30it/s]\n"
     ]
    },
    {
     "name": "stdout",
     "output_type": "stream",
     "text": [
      "     → Trying .hot()\n"
     ]
    },
    {
     "name": "stderr",
     "output_type": "stream",
     "text": [
      "CODWarzone [hot]: 772it [00:14, 53.36it/s]\n"
     ]
    },
    {
     "name": "stdout",
     "output_type": "stream",
     "text": [
      "     → Trying .rising()\n"
     ]
    },
    {
     "name": "stderr",
     "output_type": "stream",
     "text": [
      "CODWarzone [rising]: 25it [00:00, 48.03it/s]\n"
     ]
    },
    {
     "name": "stdout",
     "output_type": "stream",
     "text": [
      "  ➤ Scanning r/CodZombies\n",
      "     → Trying .top()\n"
     ]
    },
    {
     "name": "stderr",
     "output_type": "stream",
     "text": [
      "CodZombies [top]: 997it [00:19, 51.92it/s]\n"
     ]
    },
    {
     "name": "stdout",
     "output_type": "stream",
     "text": [
      "     → Trying .new()\n"
     ]
    },
    {
     "name": "stderr",
     "output_type": "stream",
     "text": [
      "CodZombies [new]: 984it [00:19, 50.51it/s]\n"
     ]
    },
    {
     "name": "stdout",
     "output_type": "stream",
     "text": [
      "     → Trying .hot()\n"
     ]
    },
    {
     "name": "stderr",
     "output_type": "stream",
     "text": [
      "CodZombies [hot]: 850it [00:16, 50.85it/s]\n"
     ]
    },
    {
     "name": "stdout",
     "output_type": "stream",
     "text": [
      "     → Trying .rising()\n"
     ]
    },
    {
     "name": "stderr",
     "output_type": "stream",
     "text": [
      "CodZombies [rising]: 25it [00:00, 33.33it/s]\n"
     ]
    },
    {
     "name": "stdout",
     "output_type": "stream",
     "text": [
      "  ➤ Scanning r/CallOfDutyMobile\n",
      "     → Trying .top()\n"
     ]
    },
    {
     "name": "stderr",
     "output_type": "stream",
     "text": [
      "CallOfDutyMobile [top]: 996it [00:20, 48.66it/s]\n"
     ]
    },
    {
     "name": "stdout",
     "output_type": "stream",
     "text": [
      "     → Trying .new()\n"
     ]
    },
    {
     "name": "stderr",
     "output_type": "stream",
     "text": [
      "CallOfDutyMobile [new]: 929it [00:19, 46.92it/s]\n"
     ]
    },
    {
     "name": "stdout",
     "output_type": "stream",
     "text": [
      "     → Trying .hot()\n"
     ]
    },
    {
     "name": "stderr",
     "output_type": "stream",
     "text": [
      "CallOfDutyMobile [hot]: 830it [00:16, 50.95it/s]\n"
     ]
    },
    {
     "name": "stdout",
     "output_type": "stream",
     "text": [
      "     → Trying .rising()\n"
     ]
    },
    {
     "name": "stderr",
     "output_type": "stream",
     "text": [
      "CallOfDutyMobile [rising]: 25it [00:00, 47.94it/s]\n"
     ]
    },
    {
     "name": "stdout",
     "output_type": "stream",
     "text": [
      "  ➤ Scanning r/CODMobile\n",
      "     → Trying .top()\n"
     ]
    },
    {
     "name": "stderr",
     "output_type": "stream",
     "text": [
      "CODMobile [top]: 995it [00:18, 53.52it/s]\n"
     ]
    },
    {
     "name": "stdout",
     "output_type": "stream",
     "text": [
      "     → Trying .new()\n"
     ]
    },
    {
     "name": "stderr",
     "output_type": "stream",
     "text": [
      "CODMobile [new]: 821it [00:15, 53.14it/s]\n"
     ]
    },
    {
     "name": "stdout",
     "output_type": "stream",
     "text": [
      "     → Trying .hot()\n"
     ]
    },
    {
     "name": "stderr",
     "output_type": "stream",
     "text": [
      "CODMobile [hot]: 801it [00:14, 56.30it/s]\n"
     ]
    },
    {
     "name": "stdout",
     "output_type": "stream",
     "text": [
      "     → Trying .rising()\n"
     ]
    },
    {
     "name": "stderr",
     "output_type": "stream",
     "text": [
      "CODMobile [rising]: 25it [00:00, 40.79it/s]\n"
     ]
    },
    {
     "name": "stdout",
     "output_type": "stream",
     "text": [
      "  ➤ Scanning r/modernwarfare\n",
      "     → Trying .top()\n"
     ]
    },
    {
     "name": "stderr",
     "output_type": "stream",
     "text": [
      "modernwarfare [top]: 992it [00:20, 49.37it/s]\n"
     ]
    },
    {
     "name": "stdout",
     "output_type": "stream",
     "text": [
      "     → Trying .new()\n"
     ]
    },
    {
     "name": "stderr",
     "output_type": "stream",
     "text": [
      "modernwarfare [new]: 966it [00:19, 50.53it/s]\n"
     ]
    },
    {
     "name": "stdout",
     "output_type": "stream",
     "text": [
      "     → Trying .hot()\n"
     ]
    },
    {
     "name": "stderr",
     "output_type": "stream",
     "text": [
      "modernwarfare [hot]: 824it [00:17, 47.86it/s]\n"
     ]
    },
    {
     "name": "stdout",
     "output_type": "stream",
     "text": [
      "     → Trying .rising()\n"
     ]
    },
    {
     "name": "stderr",
     "output_type": "stream",
     "text": [
      "modernwarfare [rising]: 25it [00:00, 27.16it/s]\n"
     ]
    },
    {
     "name": "stdout",
     "output_type": "stream",
     "text": [
      "⚠️  [Call Of Duty] Year 2022 only has 184 posts\n",
      "⚠️  [Call Of Duty] Year 2023 only has 97 posts\n",
      "⚠️  [Call Of Duty] Year 2024 only has 210 posts\n",
      "\n",
      "Scraping for 'Minecraft'...\n",
      "  ➤ Scanning r/Minecraft\n",
      "     → Trying .top()\n"
     ]
    },
    {
     "name": "stderr",
     "output_type": "stream",
     "text": [
      "Minecraft [top]: 987it [00:21, 46.89it/s]\n"
     ]
    },
    {
     "name": "stdout",
     "output_type": "stream",
     "text": [
      "     → Trying .new()\n"
     ]
    },
    {
     "name": "stderr",
     "output_type": "stream",
     "text": [
      "Minecraft [new]: 967it [00:24, 39.20it/s]\n"
     ]
    },
    {
     "name": "stdout",
     "output_type": "stream",
     "text": [
      "     → Trying .hot()\n"
     ]
    },
    {
     "name": "stderr",
     "output_type": "stream",
     "text": [
      "Minecraft [hot]: 925it [00:20, 45.08it/s]\n"
     ]
    },
    {
     "name": "stdout",
     "output_type": "stream",
     "text": [
      "     → Trying .rising()\n"
     ]
    },
    {
     "name": "stderr",
     "output_type": "stream",
     "text": [
      "Minecraft [rising]: 25it [00:00, 30.93it/s]\n"
     ]
    },
    {
     "name": "stdout",
     "output_type": "stream",
     "text": [
      "  ➤ Scanning r/minecraftsuggestions\n",
      "     → Trying .top()\n"
     ]
    },
    {
     "name": "stderr",
     "output_type": "stream",
     "text": [
      "minecraftsuggestions [top]: 996it [00:23, 42.25it/s]\n"
     ]
    },
    {
     "name": "stdout",
     "output_type": "stream",
     "text": [
      "     → Trying .new()\n"
     ]
    },
    {
     "name": "stderr",
     "output_type": "stream",
     "text": [
      "minecraftsuggestions [new]: 955it [00:21, 43.80it/s]\n"
     ]
    },
    {
     "name": "stdout",
     "output_type": "stream",
     "text": [
      "     → Trying .hot()\n"
     ]
    },
    {
     "name": "stderr",
     "output_type": "stream",
     "text": [
      "minecraftsuggestions [hot]: 659it [00:15, 42.94it/s]\n"
     ]
    },
    {
     "name": "stdout",
     "output_type": "stream",
     "text": [
      "     → Trying .rising()\n"
     ]
    },
    {
     "name": "stderr",
     "output_type": "stream",
     "text": [
      "minecraftsuggestions [rising]: 25it [00:00, 38.54it/s]\n"
     ]
    },
    {
     "name": "stdout",
     "output_type": "stream",
     "text": [
      "  ➤ Scanning r/MinecraftDungeons\n",
      "     → Trying .top()\n"
     ]
    },
    {
     "name": "stderr",
     "output_type": "stream",
     "text": [
      "MinecraftDungeons [top]: 998it [00:19, 51.69it/s]\n"
     ]
    },
    {
     "name": "stdout",
     "output_type": "stream",
     "text": [
      "     → Trying .new()\n"
     ]
    },
    {
     "name": "stderr",
     "output_type": "stream",
     "text": [
      "MinecraftDungeons [new]: 995it [00:18, 52.38it/s]\n"
     ]
    },
    {
     "name": "stdout",
     "output_type": "stream",
     "text": [
      "     → Trying .hot()\n"
     ]
    },
    {
     "name": "stderr",
     "output_type": "stream",
     "text": [
      "MinecraftDungeons [hot]: 991it [00:22, 43.22it/s]\n"
     ]
    },
    {
     "name": "stdout",
     "output_type": "stream",
     "text": [
      "     → Trying .rising()\n"
     ]
    },
    {
     "name": "stderr",
     "output_type": "stream",
     "text": [
      "MinecraftDungeons [rising]: 25it [00:00, 31.90it/s]\n"
     ]
    },
    {
     "name": "stdout",
     "output_type": "stream",
     "text": [
      "  ➤ Scanning r/MinecraftServer\n",
      "     → Trying .top()\n"
     ]
    },
    {
     "name": "stderr",
     "output_type": "stream",
     "text": [
      "MinecraftServer [top]: 1000it [00:23, 42.74it/s]\n"
     ]
    },
    {
     "name": "stdout",
     "output_type": "stream",
     "text": [
      "     → Trying .new()\n"
     ]
    },
    {
     "name": "stderr",
     "output_type": "stream",
     "text": [
      "MinecraftServer [new]: 957it [00:17, 55.28it/s]\n"
     ]
    },
    {
     "name": "stdout",
     "output_type": "stream",
     "text": [
      "     → Trying .hot()\n"
     ]
    },
    {
     "name": "stderr",
     "output_type": "stream",
     "text": [
      "MinecraftServer [hot]: 948it [00:18, 52.49it/s]\n"
     ]
    },
    {
     "name": "stdout",
     "output_type": "stream",
     "text": [
      "     → Trying .rising()\n"
     ]
    },
    {
     "name": "stderr",
     "output_type": "stream",
     "text": [
      "MinecraftServer [rising]: 25it [00:00, 50.66it/s]\n"
     ]
    },
    {
     "name": "stdout",
     "output_type": "stream",
     "text": [
      "⚠️  [Minecraft] Year 2022 only has 194 posts\n",
      "⚠️  [Minecraft] Year 2023 only has 62 posts\n",
      "⚠️  [Minecraft] Year 2024 only has 94 posts\n",
      "\n",
      "Scraping for 'The Sims'...\n",
      "  ➤ Scanning r/thesims\n",
      "     → Trying .top()\n"
     ]
    },
    {
     "name": "stderr",
     "output_type": "stream",
     "text": [
      "thesims [top]: 1000it [00:20, 47.74it/s]\n"
     ]
    },
    {
     "name": "stdout",
     "output_type": "stream",
     "text": [
      "     → Trying .new()\n"
     ]
    },
    {
     "name": "stderr",
     "output_type": "stream",
     "text": [
      "thesims [new]: 994it [00:23, 42.76it/s]\n"
     ]
    },
    {
     "name": "stdout",
     "output_type": "stream",
     "text": [
      "     → Trying .hot()\n"
     ]
    },
    {
     "name": "stderr",
     "output_type": "stream",
     "text": [
      "thesims [hot]: 960it [00:25, 37.34it/s]\n"
     ]
    },
    {
     "name": "stdout",
     "output_type": "stream",
     "text": [
      "     → Trying .rising()\n"
     ]
    },
    {
     "name": "stderr",
     "output_type": "stream",
     "text": [
      "thesims [rising]: 25it [00:00, 29.61it/s]\n"
     ]
    },
    {
     "name": "stdout",
     "output_type": "stream",
     "text": [
      "  ➤ Scanning r/Sims4\n",
      "     → Trying .top()\n"
     ]
    },
    {
     "name": "stderr",
     "output_type": "stream",
     "text": [
      "Sims4 [top]: 1000it [00:24, 41.59it/s]\n"
     ]
    },
    {
     "name": "stdout",
     "output_type": "stream",
     "text": [
      "     → Trying .new()\n"
     ]
    },
    {
     "name": "stderr",
     "output_type": "stream",
     "text": [
      "Sims4 [new]: 991it [00:30, 32.29it/s]\n"
     ]
    },
    {
     "name": "stdout",
     "output_type": "stream",
     "text": [
      "     → Trying .hot()\n"
     ]
    },
    {
     "name": "stderr",
     "output_type": "stream",
     "text": [
      "Sims4 [hot]: 465it [00:15, 29.62it/s]\n"
     ]
    },
    {
     "name": "stdout",
     "output_type": "stream",
     "text": [
      "     → Trying .rising()\n"
     ]
    },
    {
     "name": "stderr",
     "output_type": "stream",
     "text": [
      "Sims4 [rising]: 25it [00:00, 30.79it/s]\n"
     ]
    },
    {
     "name": "stdout",
     "output_type": "stream",
     "text": [
      "  ➤ Scanning r/TheSimsBuilding\n",
      "     → Trying .top()\n"
     ]
    },
    {
     "name": "stderr",
     "output_type": "stream",
     "text": [
      "TheSimsBuilding [top]: 1000it [00:48, 20.62it/s]\n"
     ]
    },
    {
     "name": "stdout",
     "output_type": "stream",
     "text": [
      "     → Trying .new()\n"
     ]
    },
    {
     "name": "stderr",
     "output_type": "stream",
     "text": [
      "TheSimsBuilding [new]: 995it [00:59, 16.76it/s]\n"
     ]
    },
    {
     "name": "stdout",
     "output_type": "stream",
     "text": [
      "     → Trying .hot()\n"
     ]
    },
    {
     "name": "stderr",
     "output_type": "stream",
     "text": [
      "TheSimsBuilding [hot]: 993it [00:55, 17.94it/s]\n"
     ]
    },
    {
     "name": "stdout",
     "output_type": "stream",
     "text": [
      "     → Trying .rising()\n"
     ]
    },
    {
     "name": "stderr",
     "output_type": "stream",
     "text": [
      "TheSimsBuilding [rising]: 25it [00:01, 19.06it/s]\n"
     ]
    },
    {
     "name": "stdout",
     "output_type": "stream",
     "text": [
      "  ➤ Scanning r/Sims3\n",
      "     → Trying .top()\n"
     ]
    },
    {
     "name": "stderr",
     "output_type": "stream",
     "text": [
      "Sims3 [top]: 1000it [00:25, 39.55it/s]\n"
     ]
    },
    {
     "name": "stdout",
     "output_type": "stream",
     "text": [
      "     → Trying .new()\n"
     ]
    },
    {
     "name": "stderr",
     "output_type": "stream",
     "text": [
      "Sims3 [new]: 994it [00:24, 40.67it/s]\n"
     ]
    },
    {
     "name": "stdout",
     "output_type": "stream",
     "text": [
      "     → Trying .hot()\n"
     ]
    },
    {
     "name": "stderr",
     "output_type": "stream",
     "text": [
      "Sims3 [hot]: 985it [00:23, 41.51it/s]\n"
     ]
    },
    {
     "name": "stdout",
     "output_type": "stream",
     "text": [
      "     → Trying .rising()\n"
     ]
    },
    {
     "name": "stderr",
     "output_type": "stream",
     "text": [
      "Sims3 [rising]: 25it [00:01, 20.73it/s]\n"
     ]
    },
    {
     "name": "stdout",
     "output_type": "stream",
     "text": [
      "  ➤ Scanning r/thesims4\n",
      "     → Trying .top()\n"
     ]
    },
    {
     "name": "stderr",
     "output_type": "stream",
     "text": [
      "thesims4 [top]: 999it [00:29, 33.71it/s]\n"
     ]
    },
    {
     "name": "stdout",
     "output_type": "stream",
     "text": [
      "     → Trying .new()\n"
     ]
    },
    {
     "name": "stderr",
     "output_type": "stream",
     "text": [
      "thesims4 [new]: 978it [00:33, 29.59it/s]\n"
     ]
    },
    {
     "name": "stdout",
     "output_type": "stream",
     "text": [
      "     → Trying .hot()\n"
     ]
    },
    {
     "name": "stderr",
     "output_type": "stream",
     "text": [
      "thesims4 [hot]: 239it [00:10, 23.54it/s]\n"
     ]
    },
    {
     "name": "stdout",
     "output_type": "stream",
     "text": [
      "     → Trying .rising()\n"
     ]
    },
    {
     "name": "stderr",
     "output_type": "stream",
     "text": [
      "thesims4 [rising]: 25it [00:01, 24.74it/s]\n"
     ]
    },
    {
     "name": "stdout",
     "output_type": "stream",
     "text": [
      "⚠️  [The Sims] Year 2020 only has 761 posts\n",
      "⚠️  [The Sims] Year 2021 only has 692 posts\n",
      "⚠️  [The Sims] Year 2022 only has 638 posts\n",
      "⚠️  [The Sims] Year 2023 only has 638 posts\n",
      "\n",
      "Scraping for 'Overwatch'...\n",
      "  ➤ Scanning r/Overwatch\n",
      "     → Trying .top()\n"
     ]
    },
    {
     "name": "stderr",
     "output_type": "stream",
     "text": [
      "Overwatch [top]: 995it [00:19, 52.13it/s]\n"
     ]
    },
    {
     "name": "stdout",
     "output_type": "stream",
     "text": [
      "     → Trying .new()\n"
     ]
    },
    {
     "name": "stderr",
     "output_type": "stream",
     "text": [
      "Overwatch [new]: 991it [00:18, 54.28it/s]\n"
     ]
    },
    {
     "name": "stdout",
     "output_type": "stream",
     "text": [
      "     → Trying .hot()\n"
     ]
    },
    {
     "name": "stderr",
     "output_type": "stream",
     "text": [
      "Overwatch [hot]: 838it [00:15, 53.40it/s]\n"
     ]
    },
    {
     "name": "stdout",
     "output_type": "stream",
     "text": [
      "     → Trying .rising()\n"
     ]
    },
    {
     "name": "stderr",
     "output_type": "stream",
     "text": [
      "Overwatch [rising]: 25it [00:00, 43.12it/s]\n"
     ]
    },
    {
     "name": "stdout",
     "output_type": "stream",
     "text": [
      "  ➤ Scanning r/OverwatchLeague\n",
      "     → Trying .top()\n"
     ]
    },
    {
     "name": "stderr",
     "output_type": "stream",
     "text": [
      "OverwatchLeague [top]: 998it [00:19, 51.02it/s]\n"
     ]
    },
    {
     "name": "stdout",
     "output_type": "stream",
     "text": [
      "     → Trying .new()\n"
     ]
    },
    {
     "name": "stderr",
     "output_type": "stream",
     "text": [
      "OverwatchLeague [new]: 968it [00:20, 48.37it/s]\n"
     ]
    },
    {
     "name": "stdout",
     "output_type": "stream",
     "text": [
      "     → Trying .hot()\n"
     ]
    },
    {
     "name": "stderr",
     "output_type": "stream",
     "text": [
      "OverwatchLeague [hot]: 912it [00:18, 48.91it/s]\n"
     ]
    },
    {
     "name": "stdout",
     "output_type": "stream",
     "text": [
      "     → Trying .rising()\n"
     ]
    },
    {
     "name": "stderr",
     "output_type": "stream",
     "text": [
      "OverwatchLeague [rising]: 25it [00:00, 33.36it/s]\n"
     ]
    },
    {
     "name": "stdout",
     "output_type": "stream",
     "text": [
      "  ➤ Scanning r/Competitiveoverwatch\n",
      "     → Trying .top()\n"
     ]
    },
    {
     "name": "stderr",
     "output_type": "stream",
     "text": [
      "Competitiveoverwatch [top]: 999it [00:20, 49.10it/s]\n"
     ]
    },
    {
     "name": "stdout",
     "output_type": "stream",
     "text": [
      "     → Trying .new()\n"
     ]
    },
    {
     "name": "stderr",
     "output_type": "stream",
     "text": [
      "Competitiveoverwatch [new]: 993it [00:18, 53.16it/s]\n"
     ]
    },
    {
     "name": "stdout",
     "output_type": "stream",
     "text": [
      "     → Trying .hot()\n"
     ]
    },
    {
     "name": "stderr",
     "output_type": "stream",
     "text": [
      "Competitiveoverwatch [hot]: 989it [00:18, 54.52it/s]\n"
     ]
    },
    {
     "name": "stdout",
     "output_type": "stream",
     "text": [
      "     → Trying .rising()\n"
     ]
    },
    {
     "name": "stderr",
     "output_type": "stream",
     "text": [
      "Competitiveoverwatch [rising]: 25it [00:00, 44.39it/s]\n"
     ]
    },
    {
     "name": "stdout",
     "output_type": "stream",
     "text": [
      "  ➤ Scanning r/Competitiveoverwatch\n",
      "     → Trying .top()\n"
     ]
    },
    {
     "name": "stderr",
     "output_type": "stream",
     "text": [
      "Competitiveoverwatch [top]: 999it [00:19, 51.03it/s]\n"
     ]
    },
    {
     "name": "stdout",
     "output_type": "stream",
     "text": [
      "     → Trying .new()\n"
     ]
    },
    {
     "name": "stderr",
     "output_type": "stream",
     "text": [
      "Competitiveoverwatch [new]: 993it [00:19, 51.44it/s]\n"
     ]
    },
    {
     "name": "stdout",
     "output_type": "stream",
     "text": [
      "     → Trying .hot()\n"
     ]
    },
    {
     "name": "stderr",
     "output_type": "stream",
     "text": [
      "Competitiveoverwatch [hot]: 989it [00:19, 51.16it/s]\n"
     ]
    },
    {
     "name": "stdout",
     "output_type": "stream",
     "text": [
      "     → Trying .rising()\n"
     ]
    },
    {
     "name": "stderr",
     "output_type": "stream",
     "text": [
      "Competitiveoverwatch [rising]: 25it [00:00, 42.36it/s]\n"
     ]
    },
    {
     "name": "stdout",
     "output_type": "stream",
     "text": [
      "⚠️  [Overwatch] Year 2020 only has 821 posts\n",
      "⚠️  [Overwatch] Year 2021 only has 393 posts\n",
      "⚠️  [Overwatch] Year 2022 only has 229 posts\n",
      "⚠️  [Overwatch] Year 2023 only has 692 posts\n",
      "⚠️  [Overwatch] Year 2024 only has 87 posts\n",
      "\n",
      "Scraping for 'Skyrim'...\n",
      "  ➤ Scanning r/skyrim\n",
      "     → Trying .top()\n"
     ]
    },
    {
     "name": "stderr",
     "output_type": "stream",
     "text": [
      "skyrim [top]: 989it [00:20, 47.84it/s]\n"
     ]
    },
    {
     "name": "stdout",
     "output_type": "stream",
     "text": [
      "     → Trying .new()\n"
     ]
    },
    {
     "name": "stderr",
     "output_type": "stream",
     "text": [
      "skyrim [new]: 994it [00:18, 54.24it/s]\n"
     ]
    },
    {
     "name": "stdout",
     "output_type": "stream",
     "text": [
      "     → Trying .hot()\n"
     ]
    },
    {
     "name": "stderr",
     "output_type": "stream",
     "text": [
      "skyrim [hot]: 964it [00:18, 52.09it/s]\n"
     ]
    },
    {
     "name": "stdout",
     "output_type": "stream",
     "text": [
      "     → Trying .rising()\n"
     ]
    },
    {
     "name": "stderr",
     "output_type": "stream",
     "text": [
      "skyrim [rising]: 25it [00:00, 45.77it/s]\n"
     ]
    },
    {
     "name": "stdout",
     "output_type": "stream",
     "text": [
      "  ➤ Scanning r/skyrimmods\n",
      "     → Trying .top()\n"
     ]
    },
    {
     "name": "stderr",
     "output_type": "stream",
     "text": [
      "skyrimmods [top]: 996it [00:22, 44.05it/s]\n"
     ]
    },
    {
     "name": "stdout",
     "output_type": "stream",
     "text": [
      "     → Trying .new()\n"
     ]
    },
    {
     "name": "stderr",
     "output_type": "stream",
     "text": [
      "skyrimmods [new]: 985it [00:15, 64.86it/s]\n"
     ]
    },
    {
     "name": "stdout",
     "output_type": "stream",
     "text": [
      "     → Trying .hot()\n"
     ]
    },
    {
     "name": "stderr",
     "output_type": "stream",
     "text": [
      "skyrimmods [hot]: 997it [00:15, 65.89it/s]\n"
     ]
    },
    {
     "name": "stdout",
     "output_type": "stream",
     "text": [
      "     → Trying .rising()\n"
     ]
    },
    {
     "name": "stderr",
     "output_type": "stream",
     "text": [
      "skyrimmods [rising]: 25it [00:00, 50.46it/s]\n"
     ]
    },
    {
     "name": "stdout",
     "output_type": "stream",
     "text": [
      "  ➤ Scanning r/SkyrimModsXbox\n",
      "     → Trying .top()\n"
     ]
    },
    {
     "name": "stderr",
     "output_type": "stream",
     "text": [
      "SkyrimModsXbox [top]: 1000it [00:50, 19.79it/s]\n"
     ]
    },
    {
     "name": "stdout",
     "output_type": "stream",
     "text": [
      "     → Trying .new()\n"
     ]
    },
    {
     "name": "stderr",
     "output_type": "stream",
     "text": [
      "SkyrimModsXbox [new]: 990it [00:19, 49.78it/s]\n"
     ]
    },
    {
     "name": "stdout",
     "output_type": "stream",
     "text": [
      "     → Trying .hot()\n"
     ]
    },
    {
     "name": "stderr",
     "output_type": "stream",
     "text": [
      "SkyrimModsXbox [hot]: 999it [00:19, 51.38it/s]\n"
     ]
    },
    {
     "name": "stdout",
     "output_type": "stream",
     "text": [
      "     → Trying .rising()\n"
     ]
    },
    {
     "name": "stderr",
     "output_type": "stream",
     "text": [
      "SkyrimModsXbox [rising]: 25it [00:00, 50.70it/s]\n"
     ]
    },
    {
     "name": "stdout",
     "output_type": "stream",
     "text": [
      "  ➤ Scanning r/SkyrimTogether\n",
      "     → Trying .top()\n"
     ]
    },
    {
     "name": "stderr",
     "output_type": "stream",
     "text": [
      "SkyrimTogether [top]: 995it [00:18, 53.54it/s]\n"
     ]
    },
    {
     "name": "stdout",
     "output_type": "stream",
     "text": [
      "     → Trying .new()\n"
     ]
    },
    {
     "name": "stderr",
     "output_type": "stream",
     "text": [
      "SkyrimTogether [new]: 988it [00:17, 57.53it/s]\n"
     ]
    },
    {
     "name": "stdout",
     "output_type": "stream",
     "text": [
      "     → Trying .hot()\n"
     ]
    },
    {
     "name": "stderr",
     "output_type": "stream",
     "text": [
      "SkyrimTogether [hot]: 922it [00:16, 56.44it/s]\n"
     ]
    },
    {
     "name": "stdout",
     "output_type": "stream",
     "text": [
      "     → Trying .rising()\n"
     ]
    },
    {
     "name": "stderr",
     "output_type": "stream",
     "text": [
      "SkyrimTogether [rising]: 25it [00:00, 51.31it/s]\n"
     ]
    },
    {
     "name": "stdout",
     "output_type": "stream",
     "text": [
      "⚠️  [Skyrim] Year 2020 only has 702 posts\n",
      "⚠️  [Skyrim] Year 2021 only has 744 posts\n",
      "⚠️  [Skyrim] Year 2022 only has 651 posts\n",
      "⚠️  [Skyrim] Year 2023 only has 732 posts\n",
      "⚠️  [Skyrim] Year 2024 only has 611 posts\n",
      "\n",
      "Scraping for 'Roblox'...\n",
      "  ➤ Scanning r/roblox\n",
      "     → Trying .top()\n"
     ]
    },
    {
     "name": "stderr",
     "output_type": "stream",
     "text": [
      "roblox [top]: 992it [00:21, 45.66it/s]\n"
     ]
    },
    {
     "name": "stdout",
     "output_type": "stream",
     "text": [
      "     → Trying .new()\n"
     ]
    },
    {
     "name": "stderr",
     "output_type": "stream",
     "text": [
      "roblox [new]: 930it [00:19, 48.18it/s]\n"
     ]
    },
    {
     "name": "stdout",
     "output_type": "stream",
     "text": [
      "     → Trying .hot()\n"
     ]
    },
    {
     "name": "stderr",
     "output_type": "stream",
     "text": [
      "roblox [hot]: 497it [00:13, 37.47it/s]\n"
     ]
    },
    {
     "name": "stdout",
     "output_type": "stream",
     "text": [
      "     → Trying .rising()\n"
     ]
    },
    {
     "name": "stderr",
     "output_type": "stream",
     "text": [
      "roblox [rising]: 25it [00:00, 43.68it/s]\n"
     ]
    },
    {
     "name": "stdout",
     "output_type": "stream",
     "text": [
      "  ➤ Scanning r/RobloxGame\n",
      "     → Trying .top()\n"
     ]
    },
    {
     "name": "stderr",
     "output_type": "stream",
     "text": [
      "RobloxGame [top]: 8it [00:00, 21.19it/s]\n"
     ]
    },
    {
     "name": "stdout",
     "output_type": "stream",
     "text": [
      "     → Trying .new()\n"
     ]
    },
    {
     "name": "stderr",
     "output_type": "stream",
     "text": [
      "RobloxGame [new]: 8it [00:00, 20.53it/s]\n"
     ]
    },
    {
     "name": "stdout",
     "output_type": "stream",
     "text": [
      "     → Trying .hot()\n"
     ]
    },
    {
     "name": "stderr",
     "output_type": "stream",
     "text": [
      "RobloxGame [hot]: 8it [00:00, 21.21it/s]\n"
     ]
    },
    {
     "name": "stdout",
     "output_type": "stream",
     "text": [
      "     → Trying .rising()\n"
     ]
    },
    {
     "name": "stderr",
     "output_type": "stream",
     "text": [
      "RobloxGame [rising]: 8it [00:00, 21.24it/s]\n"
     ]
    },
    {
     "name": "stdout",
     "output_type": "stream",
     "text": [
      "  ➤ Scanning r/GoCommitDie\n",
      "     → Trying .top()\n"
     ]
    },
    {
     "name": "stderr",
     "output_type": "stream",
     "text": [
      "GoCommitDie [top]: 997it [00:18, 54.48it/s]\n"
     ]
    },
    {
     "name": "stdout",
     "output_type": "stream",
     "text": [
      "     → Trying .new()\n"
     ]
    },
    {
     "name": "stderr",
     "output_type": "stream",
     "text": [
      "GoCommitDie [new]: 997it [00:19, 52.40it/s]\n"
     ]
    },
    {
     "name": "stdout",
     "output_type": "stream",
     "text": [
      "     → Trying .hot()\n"
     ]
    },
    {
     "name": "stderr",
     "output_type": "stream",
     "text": [
      "GoCommitDie [hot]: 948it [00:18, 50.29it/s]\n"
     ]
    },
    {
     "name": "stdout",
     "output_type": "stream",
     "text": [
      "     → Trying .rising()\n"
     ]
    },
    {
     "name": "stderr",
     "output_type": "stream",
     "text": [
      "GoCommitDie [rising]: 25it [00:00, 48.77it/s]\n"
     ]
    },
    {
     "name": "stdout",
     "output_type": "stream",
     "text": [
      "  ➤ Scanning r/RobloxDevelopers\n",
      "     → Trying .top()\n"
     ]
    },
    {
     "name": "stderr",
     "output_type": "stream",
     "text": [
      "RobloxDevelopers [top]: 1000it [00:24, 41.29it/s]\n"
     ]
    },
    {
     "name": "stdout",
     "output_type": "stream",
     "text": [
      "     → Trying .new()\n"
     ]
    },
    {
     "name": "stderr",
     "output_type": "stream",
     "text": [
      "RobloxDevelopers [new]: 935it [00:19, 47.96it/s]\n"
     ]
    },
    {
     "name": "stdout",
     "output_type": "stream",
     "text": [
      "     → Trying .hot()\n"
     ]
    },
    {
     "name": "stderr",
     "output_type": "stream",
     "text": [
      "RobloxDevelopers [hot]: 800it [00:15, 51.56it/s]\n"
     ]
    },
    {
     "name": "stdout",
     "output_type": "stream",
     "text": [
      "     → Trying .rising()\n"
     ]
    },
    {
     "name": "stderr",
     "output_type": "stream",
     "text": [
      "RobloxDevelopers [rising]: 24it [00:00, 42.67it/s]"
     ]
    },
    {
     "name": "stdout",
     "output_type": "stream",
     "text": [
      "⚠️  [Roblox] Year 2020 only has 925 posts\n",
      "⚠️  [Roblox] Year 2021 only has 602 posts\n",
      "⚠️  [Roblox] Year 2022 only has 257 posts\n",
      "⚠️  [Roblox] Year 2023 only has 146 posts\n",
      "⚠️  [Roblox] Year 2024 only has 291 posts\n"
     ]
    },
    {
     "name": "stderr",
     "output_type": "stream",
     "text": [
      "\n"
     ]
    }
   ],
   "source": [
    "# === Run scraper across all games ===\n",
    "all_posts = []\n",
    "\n",
    "for game, subs in GAME_SUBREDDITS.items():\n",
    "    all_posts.extend(scrape_game_posts(game, subs, year_cap=1000))\n",
    "\n",
    "# === Filter out bot-like users ===\n",
    "bot_users = is_suspected_bot(all_posts)\n",
    "filtered_posts = [p for p in all_posts if p['author'] not in bot_users]"
   ]
  },
  {
   "cell_type": "code",
   "execution_count": 7,
   "id": "f3ea8457",
   "metadata": {},
   "outputs": [],
   "source": [
    "# === Deduplicate and save ===\n",
    "df = pd.DataFrame(filtered_posts)\n",
    "df = df.drop_duplicates(subset=[\"game\", \"author\", \"original_title\"])"
   ]
  },
  {
   "cell_type": "code",
   "execution_count": 8,
   "id": "ddaa5324",
   "metadata": {},
   "outputs": [
    {
     "name": "stdout",
     "output_type": "stream",
     "text": [
      "\n",
      "✅ Saved 27762 posts across all games. Bots removed, titles cleaned, capped per year.\n"
     ]
    }
   ],
   "source": [
    "# === Save to CSV ===\n",
    "df.to_csv(\"reddit_2020_2025.csv\", index=False)\n",
    "print(f\"\\n✅ Saved {len(df)} posts across all games. Bots removed, titles cleaned, capped per year.\")"
   ]
  },
  {
   "cell_type": "code",
   "execution_count": null,
   "id": "7fd09846",
   "metadata": {},
   "outputs": [],
   "source": [
    "# Load the saved CSV\n",
    "file_path = \"reddit_2020_2025.csv\"\n",
    "\n",
    "\n",
    "df = pd.read_csv(file_path)"
   ]
  },
  {
   "cell_type": "code",
   "execution_count": null,
   "id": "8d7c7b00",
   "metadata": {},
   "outputs": [],
   "source": [
    "# Group by game and year\n",
    "game_year_counts = df.groupby([\"game\", \"year\"]).size().unstack(fill_value=0)\n",
    "\n"
   ]
  },
  {
   "cell_type": "code",
   "execution_count": null,
   "id": "5ea270d6",
   "metadata": {},
   "outputs": [],
   "source": [
    "# Plot\n",
    "game_year_counts.T.plot(kind='bar', figsize=(12, 6), edgecolor='black')\n",
    "plt.title(\"Post Count per Game per Year\")\n",
    "plt.xlabel(\"Year\")\n",
    "plt.ylabel(\"Number of Posts\")\n",
    "plt.legend(title=\"Game\")\n",
    "plt.xticks(rotation=0)\n",
    "plt.grid(axis='y')\n",
    "plt.tight_layout()\n",
    "plt.show()"
   ]
  }
 ],
 "metadata": {
  "kernelspec": {
   "display_name": ".venv",
   "language": "python",
   "name": "python3"
  },
  "language_info": {
   "codemirror_mode": {
    "name": "ipython",
    "version": 3
   },
   "file_extension": ".py",
   "mimetype": "text/x-python",
   "name": "python",
   "nbconvert_exporter": "python",
   "pygments_lexer": "ipython3",
   "version": "3.12.10"
  }
 },
 "nbformat": 4,
 "nbformat_minor": 5
}
