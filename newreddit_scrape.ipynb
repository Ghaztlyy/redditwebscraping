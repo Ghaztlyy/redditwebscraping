{
 "cells": [
  {
   "cell_type": "code",
   "execution_count": 2,
   "id": "2c2d1863",
   "metadata": {},
   "outputs": [],
   "source": [
    "import time\n",
    "import pandas as pd\n",
    "from selenium import webdriver\n",
    "from selenium.webdriver.chrome.service import Service\n",
    "from selenium.webdriver.chrome.options import Options\n",
    "from selenium.webdriver.common.by import By\n",
    "from datetime import datetime\n",
    "import os\n",
    "import glob"
   ]
  },
  {
   "cell_type": "code",
   "execution_count": 29,
   "id": "948060cf",
   "metadata": {},
   "outputs": [],
   "source": [
    "#subreddits = ['Minecraft','minecraftsuggestions','MinecraftDungeons','MinecraftServer']\n",
    "#subreddits = ['thesims','Sims4','TheSimsBuilding','Sims3', 'thesims4']\n",
    "#subreddits = ['Overwatch', 'OverwatchLeague', 'Competitiveoverwatch', 'Competitiveoverwatch']\n",
    "#subreddits = ['skyrim', 'skyrimmods', 'SkyrimModsXbox', 'kyrimTogether']\n",
    "subreddits = ['roblox','RobloxDevelopers', 'RobloxAvatars', 'RobloxHelp']\n",
    "#subreddits = [\"GTA\", \"GTAOnline\", \"GTA6\", \"GrandTheftAutoV\", \"GTAV\", \"GTAV_Mods\"]\n",
    "#subreddits = ['leagueoflegends',  'summonerschool', 'LeagueConnect']\n",
    "#subreddits = ['gaming']\n",
    "#subreddits = ['CallOfDuty']\n",
    "#subreddits = ['Valorant']\n",
    "\n",
    "name = \"roblox\""
   ]
  },
  {
   "cell_type": "code",
   "execution_count": null,
   "id": "87ca6d8d",
   "metadata": {},
   "outputs": [
    {
     "name": "stdout",
     "output_type": "stream",
     "text": [
      "\n",
      "Scraping r/roblox for 2025 posts...\n",
      "Scroll 1 — Found 0 new 2025 posts — Total: 0\n",
      "No new 2025 posts found or max reached. Stopping scroll.\n",
      "\n",
      "Scraping r/RobloxDevelopers for 2025 posts...\n"
     ]
    },
    {
     "ename": "NoSuchWindowException",
     "evalue": "Message: no such window: target window already closed\nfrom unknown error: web view not found\n  (Session info: chrome=138.0.7204.101)\nStacktrace:\n\tGetHandleVerifier [0x0x7ff7557acda5+78885]\n\tGetHandleVerifier [0x0x7ff7557ace00+78976]\n\t(No symbol) [0x0x7ff755569bca]\n\t(No symbol) [0x0x7ff755541e71]\n\t(No symbol) [0x0x7ff7555f039e]\n\t(No symbol) [0x0x7ff755610b42]\n\t(No symbol) [0x0x7ff7555e8963]\n\t(No symbol) [0x0x7ff7555b16b1]\n\t(No symbol) [0x0x7ff7555b2443]\n\tGetHandleVerifier [0x0x7ff755a84eed+3061101]\n\tGetHandleVerifier [0x0x7ff755a7f33d+3037629]\n\tGetHandleVerifier [0x0x7ff755a9e592+3165202]\n\tGetHandleVerifier [0x0x7ff7557c730e+186766]\n\tGetHandleVerifier [0x0x7ff7557ceb3f+217535]\n\tGetHandleVerifier [0x0x7ff7557b59b4+114740]\n\tGetHandleVerifier [0x0x7ff7557b5b69+115177]\n\tGetHandleVerifier [0x0x7ff75579c368+10728]\n\tBaseThreadInitThunk [0x0x7ffd946d259d+29]\n\tRtlUserThreadStart [0x0x7ffd9636af78+40]\n",
     "output_type": "error",
     "traceback": [
      "\u001b[31m---------------------------------------------------------------------------\u001b[39m",
      "\u001b[31mNoSuchWindowException\u001b[39m                     Traceback (most recent call last)",
      "\u001b[36mCell\u001b[39m\u001b[36m \u001b[39m\u001b[32mIn[30]\u001b[39m\u001b[32m, line 31\u001b[39m\n\u001b[32m     29\u001b[39m \u001b[38;5;28;01mwhile\u001b[39;00m scroll_count < max_scrolls \u001b[38;5;129;01mand\u001b[39;00m found_2025 < max_posts:\n\u001b[32m     30\u001b[39m     new_2025_posts = \u001b[32m0\u001b[39m\n\u001b[32m---> \u001b[39m\u001b[32m31\u001b[39m     posts = \u001b[43mdriver\u001b[49m\u001b[43m.\u001b[49m\u001b[43mfind_elements\u001b[49m\u001b[43m(\u001b[49m\u001b[43mBy\u001b[49m\u001b[43m.\u001b[49m\u001b[43mTAG_NAME\u001b[49m\u001b[43m,\u001b[49m\u001b[43m \u001b[49m\u001b[33;43m\"\u001b[39;49m\u001b[33;43mshreddit-post\u001b[39;49m\u001b[33;43m\"\u001b[39;49m\u001b[43m)\u001b[49m\n\u001b[32m     33\u001b[39m     \u001b[38;5;28;01mfor\u001b[39;00m post \u001b[38;5;129;01min\u001b[39;00m posts:\n\u001b[32m     34\u001b[39m         \u001b[38;5;28;01mif\u001b[39;00m found_2025 >= max_posts:\n",
      "\u001b[36mFile \u001b[39m\u001b[32mc:\\Users\\Balong\\Desktop\\projects\\redditwebscraping\\venv\\Lib\\site-packages\\selenium\\webdriver\\remote\\webdriver.py:963\u001b[39m, in \u001b[36mWebDriver.find_elements\u001b[39m\u001b[34m(self, by, value)\u001b[39m\n\u001b[32m    959\u001b[39m     \u001b[38;5;28;01mreturn\u001b[39;00m \u001b[38;5;28mself\u001b[39m.execute_script(find_element_js, by.to_dict())\n\u001b[32m    961\u001b[39m \u001b[38;5;66;03m# Return empty list if driver returns null\u001b[39;00m\n\u001b[32m    962\u001b[39m \u001b[38;5;66;03m# See https://github.com/SeleniumHQ/selenium/issues/4555\u001b[39;00m\n\u001b[32m--> \u001b[39m\u001b[32m963\u001b[39m \u001b[38;5;28;01mreturn\u001b[39;00m \u001b[38;5;28;43mself\u001b[39;49m\u001b[43m.\u001b[49m\u001b[43mexecute\u001b[49m\u001b[43m(\u001b[49m\u001b[43mCommand\u001b[49m\u001b[43m.\u001b[49m\u001b[43mFIND_ELEMENTS\u001b[49m\u001b[43m,\u001b[49m\u001b[43m \u001b[49m\u001b[43m{\u001b[49m\u001b[33;43m\"\u001b[39;49m\u001b[33;43musing\u001b[39;49m\u001b[33;43m\"\u001b[39;49m\u001b[43m:\u001b[49m\u001b[43m \u001b[49m\u001b[43mby\u001b[49m\u001b[43m,\u001b[49m\u001b[43m \u001b[49m\u001b[33;43m\"\u001b[39;49m\u001b[33;43mvalue\u001b[39;49m\u001b[33;43m\"\u001b[39;49m\u001b[43m:\u001b[49m\u001b[43m \u001b[49m\u001b[43mvalue\u001b[49m\u001b[43m}\u001b[49m\u001b[43m)\u001b[49m[\u001b[33m\"\u001b[39m\u001b[33mvalue\u001b[39m\u001b[33m\"\u001b[39m] \u001b[38;5;129;01mor\u001b[39;00m []\n",
      "\u001b[36mFile \u001b[39m\u001b[32mc:\\Users\\Balong\\Desktop\\projects\\redditwebscraping\\venv\\Lib\\site-packages\\selenium\\webdriver\\remote\\webdriver.py:454\u001b[39m, in \u001b[36mWebDriver.execute\u001b[39m\u001b[34m(self, driver_command, params)\u001b[39m\n\u001b[32m    451\u001b[39m response = cast(RemoteConnection, \u001b[38;5;28mself\u001b[39m.command_executor).execute(driver_command, params)\n\u001b[32m    453\u001b[39m \u001b[38;5;28;01mif\u001b[39;00m response:\n\u001b[32m--> \u001b[39m\u001b[32m454\u001b[39m     \u001b[38;5;28;43mself\u001b[39;49m\u001b[43m.\u001b[49m\u001b[43merror_handler\u001b[49m\u001b[43m.\u001b[49m\u001b[43mcheck_response\u001b[49m\u001b[43m(\u001b[49m\u001b[43mresponse\u001b[49m\u001b[43m)\u001b[49m\n\u001b[32m    455\u001b[39m     response[\u001b[33m\"\u001b[39m\u001b[33mvalue\u001b[39m\u001b[33m\"\u001b[39m] = \u001b[38;5;28mself\u001b[39m._unwrap_value(response.get(\u001b[33m\"\u001b[39m\u001b[33mvalue\u001b[39m\u001b[33m\"\u001b[39m, \u001b[38;5;28;01mNone\u001b[39;00m))\n\u001b[32m    456\u001b[39m     \u001b[38;5;28;01mreturn\u001b[39;00m response\n",
      "\u001b[36mFile \u001b[39m\u001b[32mc:\\Users\\Balong\\Desktop\\projects\\redditwebscraping\\venv\\Lib\\site-packages\\selenium\\webdriver\\remote\\errorhandler.py:232\u001b[39m, in \u001b[36mErrorHandler.check_response\u001b[39m\u001b[34m(self, response)\u001b[39m\n\u001b[32m    230\u001b[39m         alert_text = value[\u001b[33m\"\u001b[39m\u001b[33malert\u001b[39m\u001b[33m\"\u001b[39m].get(\u001b[33m\"\u001b[39m\u001b[33mtext\u001b[39m\u001b[33m\"\u001b[39m)\n\u001b[32m    231\u001b[39m     \u001b[38;5;28;01mraise\u001b[39;00m exception_class(message, screen, stacktrace, alert_text)  \u001b[38;5;66;03m# type: ignore[call-arg]  # mypy is not smart enough here\u001b[39;00m\n\u001b[32m--> \u001b[39m\u001b[32m232\u001b[39m \u001b[38;5;28;01mraise\u001b[39;00m exception_class(message, screen, stacktrace)\n",
      "\u001b[31mNoSuchWindowException\u001b[39m: Message: no such window: target window already closed\nfrom unknown error: web view not found\n  (Session info: chrome=138.0.7204.101)\nStacktrace:\n\tGetHandleVerifier [0x0x7ff7557acda5+78885]\n\tGetHandleVerifier [0x0x7ff7557ace00+78976]\n\t(No symbol) [0x0x7ff755569bca]\n\t(No symbol) [0x0x7ff755541e71]\n\t(No symbol) [0x0x7ff7555f039e]\n\t(No symbol) [0x0x7ff755610b42]\n\t(No symbol) [0x0x7ff7555e8963]\n\t(No symbol) [0x0x7ff7555b16b1]\n\t(No symbol) [0x0x7ff7555b2443]\n\tGetHandleVerifier [0x0x7ff755a84eed+3061101]\n\tGetHandleVerifier [0x0x7ff755a7f33d+3037629]\n\tGetHandleVerifier [0x0x7ff755a9e592+3165202]\n\tGetHandleVerifier [0x0x7ff7557c730e+186766]\n\tGetHandleVerifier [0x0x7ff7557ceb3f+217535]\n\tGetHandleVerifier [0x0x7ff7557b59b4+114740]\n\tGetHandleVerifier [0x0x7ff7557b5b69+115177]\n\tGetHandleVerifier [0x0x7ff75579c368+10728]\n\tBaseThreadInitThunk [0x0x7ffd946d259d+29]\n\tRtlUserThreadStart [0x0x7ffd9636af78+40]\n"
     ]
    }
   ],
   "source": [
    "# Setup ChromeDriver\n",
    "service = Service(executable_path=\"C:/Windows/chromedriver.exe\")\n",
    "options = Options()\n",
    "options.add_argument('--disable-gpu')\n",
    "options.add_argument('--window-size=1920,1080')\n",
    "options.add_argument(\"--no-sandbox\")\n",
    "options.add_argument(\"--disable-dev-shm-usage\")\n",
    "options.add_argument(\"--disable-blink-features=AutomationControlled\")\n",
    "options.add_argument(\"user-agent=Mozilla/5.0 (Windows NT 10.0; Win64; x64) AppleWebKit/537.36 (KHTML, like Gecko) Chrome/114.0.5735.110 Safari/537.36\")\n",
    "driver = webdriver.Chrome(service=service, options=options)\n",
    "\n",
    "# Store all posts here\n",
    "all_posts = []\n",
    "found_2025 = 0\n",
    "max_posts = 1000\n",
    "\n",
    "\n",
    "for subreddit in subreddits:\n",
    "    if found_2025 >= max_posts:\n",
    "        break\n",
    "\n",
    "    print(f\"\\nScraping r/{subreddit} for 2025 posts...\")\n",
    "\n",
    "    driver.get(f\"https://www.reddit.com/r/{subreddit}/new/\")\n",
    "    time.sleep(8)\n",
    "\n",
    "    scroll_count = 0\n",
    "\n",
    "    while scroll_count < max_scrolls and found_2025 < max_posts:\n",
    "        new_2025_posts = 0\n",
    "        posts = driver.find_elements(By.TAG_NAME, \"shreddit-post\")\n",
    "\n",
    "        for post in posts:\n",
    "            if found_2025 >= max_posts:\n",
    "                break\n",
    "\n",
    "            post_id = post.get_attribute(\"id\")\n",
    "            if not post_id or post_id in seen_ids:\n",
    "                continue\n",
    "            seen_ids.add(post_id)\n",
    "\n",
    "            title = post.get_attribute(\"post-title\") or \"No title\"\n",
    "            timestamp = post.get_attribute(\"created-timestamp\")\n",
    "            if not timestamp:\n",
    "                continue\n",
    "\n",
    "            try:\n",
    "                dt = datetime.strptime(timestamp, \"%Y-%m-%dT%H:%M:%S.%f%z\")\n",
    "                if dt.year != 2025:\n",
    "                    continue\n",
    "\n",
    "                created_utc = dt.strftime('%Y-%m-%d %H:%M:%S')\n",
    "                all_posts.append({\n",
    "                    \"subreddit\": subreddit,\n",
    "                    \"year\": dt.year,\n",
    "                    \"month\": dt.month,\n",
    "                    \"text\": title,\n",
    "                    \"created_utc\": created_utc,\n",
    "                })\n",
    "                found_2025 += 1\n",
    "                new_2025_posts += 1\n",
    "                print(f\"{title[:60]}\")\n",
    "\n",
    "            except Exception as e:\n",
    "                print(f\"Error parsing timestamp: {e}\")\n",
    "\n",
    "        scroll_count += 1\n",
    "        print(f\"Scroll {scroll_count} — Found {new_2025_posts} new 2025 posts — Total: {found_2025}\")\n",
    "\n",
    "        if new_2025_posts == 0 or found_2025 >= max_posts:\n",
    "            print(\"No new 2025 posts found or max reached. Stopping scroll.\")\n",
    "            break\n",
    "\n",
    "        driver.execute_script(\"window.scrollTo(0, document.body.scrollHeight);\")\n",
    "        time.sleep(3)\n",
    "\n",
    "# Save to single CSV\n",
    "df = pd.DataFrame(all_posts)\n",
    "filename = f\"{name}-2025.csv\"\n",
    "df.to_csv(filename, index=False, encoding='utf-8')\n",
    "print(f\"\\nSaved {len(df)} posts to {filename}\")\n",
    "\n",
    "# Close browser\n",
    "driver.quit()"
   ]
  },
  {
   "cell_type": "code",
   "execution_count": null,
   "id": "79069167",
   "metadata": {},
   "outputs": [
    {
     "name": "stdout",
     "output_type": "stream",
     "text": [
      "Merged 10 files into 2025data.csv with 2000 total rows (max 200 from each).\n"
     ]
    }
   ],
   "source": [
    "folder_path = \"2025 data\" \n",
    "output_file = \"merged_2025data.csv\"\n",
    "\n",
    "csv_files = glob.glob(os.path.join(folder_path, \"*.csv\"))\n",
    "dfs = []\n",
    "\n",
    "for file in csv_files:\n",
    "    df = pd.read_csv(file)\n",
    "    if 'year' in df.columns:\n",
    "        df = df[df['year'] == 2025]\n",
    "    df = df.head(200)\n",
    "    if not df.empty:\n",
    "        dfs.append(df)\n",
    "\n",
    "merged_df = pd.concat(dfs, ignore_index=True)\n",
    "merged_df.to_csv(output_file, index=False, encoding='utf-8')\n",
    "print(f\"Merged {len(csv_files)} files into {output_file} with {len(merged_df)} total rows (max 200 from each).\")"
   ]
  },
  {
   "cell_type": "code",
   "execution_count": null,
   "id": "3edc4e77",
   "metadata": {},
   "outputs": [],
   "source": []
  }
 ],
 "metadata": {
  "kernelspec": {
   "display_name": "venv",
   "language": "python",
   "name": "python3"
  },
  "language_info": {
   "codemirror_mode": {
    "name": "ipython",
    "version": 3
   },
   "file_extension": ".py",
   "mimetype": "text/x-python",
   "name": "python",
   "nbconvert_exporter": "python",
   "pygments_lexer": "ipython3",
   "version": "3.12.9"
  }
 },
 "nbformat": 4,
 "nbformat_minor": 5
}
