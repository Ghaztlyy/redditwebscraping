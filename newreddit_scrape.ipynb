{
 "cells": [
  {
   "cell_type": "code",
   "execution_count": 2,
   "id": "2c2d1863",
   "metadata": {},
   "outputs": [],
   "source": [
    "import time\n",
    "import pandas as pd\n",
    "from selenium import webdriver\n",
    "from selenium.webdriver.chrome.service import Service\n",
    "from selenium.webdriver.chrome.options import Options\n",
    "from selenium.webdriver.common.by import By\n",
    "from datetime import datetime\n",
    "import os\n",
    "import glob"
   ]
  },
  {
   "cell_type": "code",
   "execution_count": null,
   "id": "948060cf",
   "metadata": {},
   "outputs": [],
   "source": [
    "#subreddits = ['Minecraft','minecraftsuggestions','MinecraftDungeons','MinecraftServer']\n",
    "#subreddits = ['thesims','Sims4','TheSimsBuilding','Sims3', 'thesims4']\n",
    "#subreddits = ['Overwatch', 'OverwatchLeague', 'Competitiveoverwatch', 'Competitiveoverwatch']\n",
    "#subreddits = ['skyrim', 'skyrimmods', 'SkyrimModsXbox', 'kyrimTogether']\n",
    "#subreddits = ['roblox','RobloxDevelopers', 'RobloxAvatars', 'RobloxHelp']\n",
    "#subreddits = [\"GTA\", \"GTAOnline\", \"GTA6\", \"GrandTheftAutoV\", \"GTAV\", \"GTAV_Mods\"]\n",
    "#subreddits = ['leagueoflegends',  'summonerschool', 'LeagueConnect']\n",
    "#subreddits = ['gaming', 'pcgaming', 'Games']\n",
    "#subreddits     = ['CallOfDuty', 'CODWarzone', 'CodZombies', 'CallOfDutyMobile']\n",
    "#subreddits = ['Valorant', 'ValorantCompetitive']\n",
    "subreddits = ['genshin_impact', 'GenshinImpact']\n",
    "\n",
    "name = \"genshinimpact\""
   ]
  },
  {
   "cell_type": "code",
   "execution_count": 5,
   "id": "87ca6d8d",
   "metadata": {},
   "outputs": [
    {
     "ename": "NameError",
     "evalue": "name 'subreddits' is not defined",
     "output_type": "error",
     "traceback": [
      "\u001b[31m---------------------------------------------------------------------------\u001b[39m",
      "\u001b[31mNameError\u001b[39m                                 Traceback (most recent call last)",
      "\u001b[36mCell\u001b[39m\u001b[36m \u001b[39m\u001b[32mIn[5]\u001b[39m\u001b[32m, line 21\u001b[39m\n\u001b[32m     18\u001b[39m seen_ids = \u001b[38;5;28mset\u001b[39m()\n\u001b[32m     20\u001b[39m \u001b[38;5;66;03m# Scrape each subreddit\u001b[39;00m\n\u001b[32m---> \u001b[39m\u001b[32m21\u001b[39m \u001b[38;5;28;01mfor\u001b[39;00m subreddit \u001b[38;5;129;01min\u001b[39;00m \u001b[43msubreddits\u001b[49m:\n\u001b[32m     22\u001b[39m     \u001b[38;5;28;01mif\u001b[39;00m found_2025 >= max_posts:\n\u001b[32m     23\u001b[39m         \u001b[38;5;28;01mbreak\u001b[39;00m\n",
      "\u001b[31mNameError\u001b[39m: name 'subreddits' is not defined"
     ]
    }
   ],
   "source": [
    "max_posts = 1000\n",
    "max_scrolls = 100\n",
    "\n",
    "# Setup ChromeDriver\n",
    "service = Service(executable_path=\"C:/Windows/chromedriver.exe\")\n",
    "options = Options()\n",
    "options.add_argument('--disable-gpu')\n",
    "options.add_argument('--window-size=1920,1080')\n",
    "options.add_argument(\"--no-sandbox\")\n",
    "options.add_argument(\"--disable-dev-shm-usage\")\n",
    "options.add_argument(\"--disable-blink-features=AutomationControlled\")\n",
    "options.add_argument(\"user-agent=Mozilla/5.0 (Windows NT 10.0; Win64; x64)\")\n",
    "driver = webdriver.Chrome(service=service, options=options)\n",
    "\n",
    "# Storage\n",
    "all_posts = []\n",
    "found_2025 = 0\n",
    "seen_ids = set()\n",
    "\n",
    "# Scrape each subreddit\n",
    "for subreddit in subreddits:\n",
    "    if found_2025 >= max_posts:\n",
    "        break\n",
    "\n",
    "    print(f\"\\nScraping r/{subreddit} for 2025 posts...\")\n",
    "    driver.get(f\"https://www.reddit.com/r/{subreddit}/new/\")\n",
    "    time.sleep(10)  # Give time to load\n",
    "\n",
    "    scroll_count = 0\n",
    "    consecutive_empty_scrolls = 0\n",
    "    max_empty_scrolls = 3\n",
    "\n",
    "    while scroll_count < max_scrolls and found_2025 < max_posts:\n",
    "        new_2025_posts = 0\n",
    "        posts = driver.find_elements(By.TAG_NAME, \"shreddit-post\")\n",
    "\n",
    "        for post in posts:\n",
    "            if found_2025 >= max_posts:\n",
    "                break\n",
    "\n",
    "            post_id = post.get_attribute(\"id\")\n",
    "            if not post_id or post_id in seen_ids:\n",
    "                continue\n",
    "            seen_ids.add(post_id)\n",
    "\n",
    "            title = post.get_attribute(\"post-title\") or \"No title\"\n",
    "            timestamp = post.get_attribute(\"created-timestamp\")\n",
    "            if not timestamp:\n",
    "                continue\n",
    "\n",
    "            try:\n",
    "                dt = datetime.strptime(timestamp, \"%Y-%m-%dT%H:%M:%S.%f%z\")\n",
    "                if dt.year != 2025:\n",
    "                    continue\n",
    "\n",
    "                created_utc = dt.strftime('%Y-%m-%d %H:%M:%S')\n",
    "                all_posts.append({\n",
    "                    \"subreddit\": subreddit,\n",
    "                    \"year\": dt.year,\n",
    "                    \"month\": dt.month,\n",
    "                    \"text\": title,\n",
    "                    \"created_utc\": created_utc,\n",
    "                })\n",
    "\n",
    "                found_2025 += 1\n",
    "                new_2025_posts += 1\n",
    "                print(f\"{title[:60]}\")\n",
    "\n",
    "            except Exception as e:\n",
    "                print(f\"Error parsing timestamp: {e}\")\n",
    "\n",
    "        scroll_count += 1\n",
    "        print(f\"Scroll {scroll_count} — Found {new_2025_posts} new 2025 posts — Total: {found_2025}\")\n",
    "\n",
    "        if new_2025_posts == 0:\n",
    "            consecutive_empty_scrolls += 1\n",
    "            print(f\"No new posts found. ({consecutive_empty_scrolls} empty scrolls)\")\n",
    "            if consecutive_empty_scrolls >= max_empty_scrolls:\n",
    "                print(\"Max empty scrolls reached. Moving to next subreddit.\")\n",
    "                break\n",
    "        else:\n",
    "            consecutive_empty_scrolls = 0  # reset if progress is made\n",
    "\n",
    "        driver.execute_script(\"window.scrollTo(0, document.body.scrollHeight);\")\n",
    "        time.sleep(4)\n",
    "\n",
    "# Save combined posts\n",
    "df = pd.DataFrame(all_posts)\n",
    "filename = f\"{name}-2025.csv\"\n",
    "df.to_csv(filename, index=False, encoding='utf-8')\n",
    "print(f\"\\nSaved {len(df)} posts to {filename}\")\n",
    "\n",
    "driver.quit()\n"
   ]
  },
  {
   "cell_type": "code",
   "execution_count": null,
   "id": "79069167",
   "metadata": {},
   "outputs": [
    {
     "name": "stdout",
     "output_type": "stream",
     "text": [
      "Merged 2 files into 2020-2025-data.csv with 65900 rows.\n"
     ]
    }
   ],
   "source": [
    "folder_path = \"cleaned\"\n",
    "output_file = \"2020-2025-data.csv\"\n",
    "\n",
    "csv_files = glob.glob(os.path.join(folder_path, \"*.csv\"))\n",
    "dfs = []\n",
    "for file in csv_files:\n",
    "    df = pd.read_csv(file)\n",
    "    if not df.empty:\n",
    "        dfs.append(df)\n",
    "if dfs:\n",
    "    merged_df = pd.concat(dfs, ignore_index=True)\n",
    "    merged_df.to_csv(output_file, index=False, encoding='utf-8')\n",
    "    print(f\"Merged {len(csv_files)} files into {output_file} with {len(merged_df)} rows.\")\n",
    "else:\n",
    "    print(\"No files or all files are empty. Nothing was merged.\")\n"
   ]
  },
  {
   "cell_type": "code",
   "execution_count": null,
   "id": "3edc4e77",
   "metadata": {},
   "outputs": [],
   "source": []
  }
 ],
 "metadata": {
  "kernelspec": {
   "display_name": "venv",
   "language": "python",
   "name": "python3"
  },
  "language_info": {
   "codemirror_mode": {
    "name": "ipython",
    "version": 3
   },
   "file_extension": ".py",
   "mimetype": "text/x-python",
   "name": "python",
   "nbconvert_exporter": "python",
   "pygments_lexer": "ipython3",
   "version": "3.12.9"
  }
 },
 "nbformat": 4,
 "nbformat_minor": 5
}
