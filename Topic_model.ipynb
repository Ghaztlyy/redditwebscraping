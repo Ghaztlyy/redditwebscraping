{
 "cells": [
  {
   "cell_type": "code",
   "execution_count": 9,
   "id": "d287bf9c",
   "metadata": {},
   "outputs": [],
   "source": [
    "import pandas as pd\n",
    "from bertopic import BERTopic"
   ]
  },
  {
   "cell_type": "code",
   "execution_count": 10,
   "id": "d6e56d1d",
   "metadata": {},
   "outputs": [],
   "source": [
    "# 1. Load the dataset\n",
    "df = pd.read_csv(\"preprocessed_redditData-removedtopic.csv\")"
   ]
  },
  {
   "cell_type": "code",
   "execution_count": 11,
   "id": "dfc43de9",
   "metadata": {},
   "outputs": [],
   "source": [
    "# 2. Prepare inputs for BERTopic\n",
    "texts = df['text'].astype(str).tolist()\n",
    "timestamps = df['year'].astype(str).tolist()  # Treat year as string labels"
   ]
  },
  {
   "cell_type": "code",
   "execution_count": 12,
   "id": "292bfec6",
   "metadata": {},
   "outputs": [
    {
     "name": "stderr",
     "output_type": "stream",
     "text": [
      "2025-07-15 15:28:34,191 - BERTopic - Embedding - Transforming documents to embeddings.\n",
      "Batches: 100%|██████████| 2000/2000 [03:04<00:00, 10.82it/s]\n",
      "2025-07-15 15:31:43,866 - BERTopic - Embedding - Completed ✓\n",
      "2025-07-15 15:31:43,867 - BERTopic - Dimensionality - Fitting the dimensionality reduction algorithm\n",
      "2025-07-15 15:32:04,600 - BERTopic - Dimensionality - Completed ✓\n",
      "2025-07-15 15:32:04,607 - BERTopic - Cluster - Start clustering the reduced embeddings\n",
      "2025-07-15 15:32:13,198 - BERTopic - Cluster - Completed ✓\n",
      "2025-07-15 15:32:13,226 - BERTopic - Representation - Fine-tuning topics using representation models.\n",
      "2025-07-15 15:32:14,918 - BERTopic - Representation - Completed ✓\n"
     ]
    }
   ],
   "source": [
    "# 4. Fit BERTopic model\n",
    "topic_model = BERTopic(verbose=True)\n",
    "topics, probs = topic_model.fit_transform(texts)"
   ]
  },
  {
   "cell_type": "code",
   "execution_count": 13,
   "id": "ab6dc90f",
   "metadata": {},
   "outputs": [
    {
     "name": "stderr",
     "output_type": "stream",
     "text": [
      "6it [00:03,  1.54it/s]\n"
     ]
    }
   ],
   "source": [
    "# 5. Get topics per year (class)\n",
    "topics_by_year = topic_model.topics_per_class(\n",
    "    docs=texts,\n",
    "    classes=timestamps,\n",
    "    global_tuning=True\n",
    ")"
   ]
  },
  {
   "cell_type": "code",
   "execution_count": 14,
   "id": "3fecf1fd",
   "metadata": {},
   "outputs": [],
   "source": [
    "# 6. Extract top 20 topics per year\n",
    "top20_by_year = {}\n",
    "for yr in sorted(df['year'].unique()):\n",
    "    df_year = topics_by_year[topics_by_year['Class'] == str(yr)]\n",
    "    top20 = df_year.sort_values('Frequency', ascending=False).head(20)\n",
    "    top20_by_year[yr] = top20"
   ]
  },
  {
   "cell_type": "code",
   "execution_count": 15,
   "id": "35a10674",
   "metadata": {},
   "outputs": [
    {
     "name": "stdout",
     "output_type": "stream",
     "text": [
      "Index(['Topic', 'Words', 'Frequency', 'Class'], dtype='object')\n"
     ]
    }
   ],
   "source": [
    "print(topics_by_year.columns)"
   ]
  },
  {
   "cell_type": "code",
   "execution_count": 16,
   "id": "28d36fcc",
   "metadata": {},
   "outputs": [
    {
     "name": "stdout",
     "output_type": "stream",
     "text": [
      "\n",
      "Top 20 topics for 2020\n",
      "      Topic                                              Words  Frequency\n",
      "1004     -1            csgo, gacha, overwatch, gameplay, would       3757\n",
      "1006      1                         fps, ram, laptop, gpu, cpu         91\n",
      "1064     59              beta, close, closed, register, access         79\n",
      "1008      3  map, geoculuses, pixelsmash, interactable, bac...         65\n",
      "1013      8          dragon, dragonborn, ender, defeat, fossil         60\n",
      "1005      0              modding, mod, modders, modder, author         57\n",
      "1019     14                          euw, na, norm, lf, friend         56\n",
      "1037     32              meme, effort, meepcity, editnote, sfs         54\n",
      "1007      2              skin, prestige, trading, mvp, phanton         49\n",
      "1084     79              cyberpunk, projekt, cd, witcher, cdpr         48\n",
      "1009      4                   ps5, playstation, ps4, sony, ps3         40\n",
      "1023     18           house, apartment, creek, willow, mansion         39\n",
      "1129    124     wallpaper, background, v200609, desktop, phone         38\n",
      "1014      9            animation, animate, zetuzt, motion, gif         37\n",
      "1016     11        warzone, circulate, warchild, dropshot, m19         36\n",
      "1033     28              zombie, treyarch, 2x, wdyt, postpatch         36\n",
      "1012      7    trailer, teaser, glitchpop, reveal, celebration         36\n",
      "1100     95         nether, portal, overworld, netherite, wart         35\n",
      "1040     35             jungler, jungle, junglers, gank, leash         34\n",
      "1038     33              owl, fatherson, titan, haksal, boston         34\n",
      "\n",
      "👑 Top 20 topics for 2021\n",
      "      Topic                                          Words  Frequency\n",
      "4963     -1       hextech, albedo, epic, gtgtgt, legendary       3761\n",
      "4964      0        mod, modding, modders, author, 20202021         98\n",
      "4978     14                       euw, na, lf, norm, chill         69\n",
      "4966      2      skin, prestige, roze, vandal, singularity         64\n",
      "4973      9     animation, animate, jupiiit, ferb, phineas         53\n",
      "4967      3        map, printed, layout, western, betterer         51\n",
      "4965      1                 fps, monitor, laptop, gpu, ram         51\n",
      "4992     28             zombie, cold, cw, milo, infectious         51\n",
      "4993     29              happy, year, puyo, new, celebrate         50\n",
      "4996     32   meme, relatable, effort, bobux, bigboidorito         46\n",
      "4972      8  dragon, dragonborn, dragonspine, ender, mound         44\n",
      "5001     37          damage, enemy, ability, item, passive         42\n",
      "4975     11        warzone, streamer, bugfree, baw, wargen         38\n",
      "4985     21           armor, armour, wear, plate, smithing         36\n",
      "4980     16      glitch, weird, flicker, glitching, sphere         35\n",
      "5017     53                     clutch, 1v5, 1v3, 1v4, ace         34\n",
      "4971      7       trailer, teaser, netflix, reveal, arcane         33\n",
      "4982     18             house, tiny, apartment, loft, home         32\n",
      "5003     39  cosplay, eula, cosplays, canaria, chrisdianto         31\n",
      "4994     30  postmatch, tour, discussion, stage, reykjavik         30\n",
      "\n",
      "👑 Top 20 topics for 2022\n",
      "     Topic                                              Words  Frequency\n",
      "0       -1         12232, external0, voicechat, external, nrm       3897\n",
      "2        1                     fps, monitor, gpu, laptop, ram         88\n",
      "1        0                 mod, modding, modders, author, dar         85\n",
      "30      29                   happy, year, new, eve, celebrate         74\n",
      "38      37            damage, target, ability, silco, passive         70\n",
      "3        2         skin, prestige, token, skinlines, thematic         63\n",
      "4        3                    map, iraq, king, realworld, row         53\n",
      "5        4                    ps5, ps4, ps3, playstation, ps2         51\n",
      "9        8  dragon, dragonborn, alduin, dragonspine, monst...         44\n",
      "10       9          animation, animate, animator, emmy, limbs         43\n",
      "15      14                 euw, lf, na, gameshangout, genuine         40\n",
      "17      16           glitch, glitchy, glitched, lectern, zang         39\n",
      "16      15                  build, gorou, blaze, cannon, itto         34\n",
      "12      11            warzone, mp40, 247, disrespect, cashapp         34\n",
      "11      10             ban, unbanned, deathban, club, offence         33\n",
      "13      12       bedrock, java, etypeitemnameweb, chunk, farm         33\n",
      "134    133                       gt, hr, pity, banner, takuya         33\n",
      "33      32                meme, hon, phut, funy, happenspiggy         33\n",
      "55      54           ace, tap, baitres, datrs, 2022silvergold         32\n",
      "27      26                  xbox, data, 360, transfer, series         32\n",
      "\n",
      "Top 20 topics for 2025\n",
      "      Topic                                              Words  Frequency\n",
      "2978     -1                   2023, account, lcs, game, server       3393\n",
      "2979      0              mod, modding, modded, modlist, author        108\n",
      "2980      1                     fps, monitor, gpu, laptop, cpu         97\n",
      "2981      2                skin, drx, prestige, magepunk, shop         83\n",
      "3028     50                       abyss, 37, floor, 36, spiral         82\n",
      "2989     10        ban, appeal, perma, unshadowbanned, falsely         69\n",
      "3012     33            owl, owwc, pickem, snapbacks, trackball         63\n",
      "2983      4                    ps5, playstation, ps4, ps3, psa         56\n",
      "2996     17                crash, crashing, keep, d3d, crashes         56\n",
      "2991     12              bedrock, java, tnt, chunkbase, render         55\n",
      "2986      7                 trailer, vi, teaser, theft, reveal         54\n",
      "3005     26              xbox, series, 360, atonomizers, discs         52\n",
      "2992     13         team, comp, armymilitary, citybased, tldrs         51\n",
      "2985      6        rank, rankup, ascendant, ranked, playreward         46\n",
      "2982      3                map, italy, minimap, skull, codjust         46\n",
      "3022     43                 duty, call, shipment, kanye, hour1         44\n",
      "3021     42                warfare, modern, infinite, duty, iw         43\n",
      "3195    218               pride, poland, month, romania, event         42\n",
      "3089    111             league, brazilian, brazil, otps, cbolo         42\n",
      "2984      5  character, protagonist, evil, villain, hiddenb...         41\n",
      "\n",
      "👑 Top 20 topics for 2024\n",
      "      Topic                                              Words  Frequency\n",
      "3970     -1                 game, account, server, screen, sim       3315\n",
      "3994     23  imaginarium, theater, theatre, restrictive, th...        165\n",
      "3971      0               mod, modding, modpack, modlist, menu        123\n",
      "3973      2    skin, transformer, bundle, skinline, ultrawatch         76\n",
      "3981     10               ban, unbanned, falsely, got, account         70\n",
      "3988     17           crash, crashing, crasher, crashout, 2k24         68\n",
      "3972      1                   fps, laptop, monitor, rtx, 1080p         64\n",
      "3977      6          rank, ranked, placement, console, ranking         61\n",
      "3974      3       map, mapping, interactive, project, variaety         60\n",
      "3983     12                     bedrock, farm, xp, realm, java         60\n",
      "3976      5  character, villain, protagonist, antagonist, b...         49\n",
      "4008     38                  robux, price, hat, 105, accessory         48\n",
      "4018     48               console, pc, platform, activsion, km         45\n",
      "3975      4                   ps5, playstation, ps4, ps3, sony         44\n",
      "3991     20       friend, friendship, meetup, carolina, chapel         43\n",
      "3978      7              trailer, vi, cinematic, miami, reveal         42\n",
      "3998     27       rockstar, rockstars, placeholder, vi, editor         42\n",
      "3990     19             sim, catfished, lottery, teen, mortify         37\n",
      "4032     62            ops, black, blackcell, cold, contraband         37\n",
      "3993     22  bug, aeps5, buglorant, corssprogression, bugsm...         37\n",
      "\n",
      "👑 Top 20 topics for 2025\n",
      "      Topic                                              Words  Frequency\n",
      "1984     -1                     2025, july, steam, game, stage       3271\n",
      "2030     46               copper, golem, golems, tool, oxidize        102\n",
      "1986      1                     fps, cpu, geforce, rtx, laptop         81\n",
      "1991      6         rank, resurgence, ranked, ranking, rebirth         75\n",
      "2076     92      stadium, matchmaking, leaver, zenyatta, depot         72\n",
      "1990      5    character, evil, villain, protagonist, vercetti         66\n",
      "1988      3         map, flashpoint, wc3tft, bloxia, blindside         65\n",
      "1987      2             skin, chroma, variant, kitsune, mythic         65\n",
      "1998     13   team, comp, theorybanner, communicator, williams         64\n",
      "2106    123               fairy, enchanted, nature, antler, ca         61\n",
      "1985      0              mod, modding, modders, modpack, nraas         55\n",
      "1996     11  warzone, gray, 01072025, autobridger, colorssa...         51\n",
      "1992      7        trailer, teaser, announcement, official, vi         51\n",
      "2015     30         postmatch, stage, thread, challenger, 2025         48\n",
      "2000     15   build, builder, agoi, buildscene, buildstylename         47\n",
      "2069     85      paimon, asmoday, asmodays, theory, primordial         47\n",
      "1989      4                 ps5, playstation, ps3, ps4, ps4ps5         44\n",
      "2006     21        armor, armour, crusader, enchantment, plate         43\n",
      "2004     19       sim, mortify, mermanfairy, kaenriah, juniper         43\n",
      "2273    293           ronova, ronovas, pierro, capitano, ruler         40\n"
     ]
    }
   ],
   "source": [
    "# 7. Print results \n",
    "for yr, df_topics in top20_by_year.items():\n",
    "    print(f\"\\nTop 20 topics for {yr}\")\n",
    "    print(df_topics[['Topic', 'Words', 'Frequency']])"
   ]
  },
  {
   "cell_type": "code",
   "execution_count": null,
   "id": "19944e99",
   "metadata": {},
   "outputs": [],
   "source": [
    "#lda\n",
    "from gensim import corpora\n",
    "from gensim.models import LdaModel\n",
    "from gensim.utils import simple_preprocess"
   ]
  },
  {
   "cell_type": "code",
   "execution_count": null,
   "id": "e27ba8fe",
   "metadata": {},
   "outputs": [],
   "source": []
  }
 ],
 "metadata": {
  "kernelspec": {
   "display_name": ".venv",
   "language": "python",
   "name": "python3"
  },
  "language_info": {
   "codemirror_mode": {
    "name": "ipython",
    "version": 3
   },
   "file_extension": ".py",
   "mimetype": "text/x-python",
   "name": "python",
   "nbconvert_exporter": "python",
   "pygments_lexer": "ipython3",
   "version": "3.12.10"
  }
 },
 "nbformat": 4,
 "nbformat_minor": 5
}
