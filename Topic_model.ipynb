{
 "cells": [
  {
   "cell_type": "code",
   "execution_count": 1,
   "id": "d287bf9c",
   "metadata": {},
   "outputs": [
    {
     "name": "stderr",
     "output_type": "stream",
     "text": [
      "d:\\School Files\\ITS132L\\redditwebscraping\\.venv\\Lib\\site-packages\\tqdm\\auto.py:21: TqdmWarning: IProgress not found. Please update jupyter and ipywidgets. See https://ipywidgets.readthedocs.io/en/stable/user_install.html\n",
      "  from .autonotebook import tqdm as notebook_tqdm\n"
     ]
    }
   ],
   "source": [
    "import pandas as pd\n",
    "from bertopic import BERTopic"
   ]
  },
  {
   "cell_type": "code",
   "execution_count": 3,
   "id": "d6e56d1d",
   "metadata": {},
   "outputs": [],
   "source": [
    "# 1. Load the dataset\n",
    "df = pd.read_csv(\"preprocessed_redditData-removedtopic.csv\")"
   ]
  },
  {
   "cell_type": "code",
   "execution_count": 4,
   "id": "dfc43de9",
   "metadata": {},
   "outputs": [],
   "source": [
    "# 2. Prepare inputs for BERTopic\n",
    "texts = df['text'].astype(str).tolist()\n",
    "timestamps = df['year'].astype(str).tolist()  # Treat year as string labels"
   ]
  },
  {
   "cell_type": "code",
   "execution_count": 5,
   "id": "292bfec6",
   "metadata": {},
   "outputs": [
    {
     "name": "stderr",
     "output_type": "stream",
     "text": [
      "2025-07-17 09:43:57,858 - BERTopic - Embedding - Transforming documents to embeddings.\n",
      "Batches: 100%|██████████| 2000/2000 [00:17<00:00, 116.50it/s]\n",
      "2025-07-17 09:44:23,002 - BERTopic - Embedding - Completed ✓\n",
      "2025-07-17 09:44:23,002 - BERTopic - Dimensionality - Fitting the dimensionality reduction algorithm\n",
      "2025-07-17 09:45:06,281 - BERTopic - Dimensionality - Completed ✓\n",
      "2025-07-17 09:45:06,283 - BERTopic - Cluster - Start clustering the reduced embeddings\n",
      "2025-07-17 09:45:11,468 - BERTopic - Cluster - Completed ✓\n",
      "2025-07-17 09:45:11,557 - BERTopic - Representation - Fine-tuning topics using representation models.\n",
      "2025-07-17 09:45:12,739 - BERTopic - Representation - Completed ✓\n"
     ]
    }
   ],
   "source": [
    "# 4. Fit BERTopic model\n",
    "topic_model = BERTopic(verbose=True)\n",
    "topics, probs = topic_model.fit_transform(texts)"
   ]
  },
  {
   "cell_type": "code",
   "execution_count": 6,
   "id": "ab6dc90f",
   "metadata": {},
   "outputs": [
    {
     "name": "stderr",
     "output_type": "stream",
     "text": [
      "6it [00:02,  2.03it/s]\n"
     ]
    }
   ],
   "source": [
    "# 5. Get topics per year (class)\n",
    "topics_by_year = topic_model.topics_per_class(\n",
    "    docs=texts,\n",
    "    classes=timestamps,\n",
    "    global_tuning=True\n",
    ")"
   ]
  },
  {
   "cell_type": "code",
   "execution_count": 7,
   "id": "3fecf1fd",
   "metadata": {},
   "outputs": [],
   "source": [
    "# 6. Extract top 20 topics per year\n",
    "top20_by_year = {}\n",
    "for yr in sorted(df['year'].unique()):\n",
    "    df_year = topics_by_year[topics_by_year['Class'] == str(yr)]\n",
    "    top20 = df_year.sort_values('Frequency', ascending=False).head(20)\n",
    "    top20_by_year[yr] = top20"
   ]
  },
  {
   "cell_type": "code",
   "execution_count": 8,
   "id": "35a10674",
   "metadata": {},
   "outputs": [
    {
     "name": "stdout",
     "output_type": "stream",
     "text": [
      "Index(['Topic', 'Words', 'Frequency', 'Class'], dtype='object')\n"
     ]
    }
   ],
   "source": [
    "print(topics_by_year.columns)"
   ]
  },
  {
   "cell_type": "code",
   "execution_count": 9,
   "id": "28d36fcc",
   "metadata": {},
   "outputs": [
    {
     "name": "stdout",
     "output_type": "stream",
     "text": [
      "\n",
      "Top 20 topics for 2020\n",
      "      Topic                                              Words  Frequency\n",
      "4034     -1                         csgo, would, im, run, game       3926\n",
      "4083     48                 beta, close, closed, access, email         82\n",
      "4041      6                           euw, na, chill, lf, norm         71\n",
      "4045     10    dragon, dragonborn, ender, defeat, dragonsreach         62\n",
      "4037      2  map, geoculuses, pixelsmash, interactable, bac...         59\n",
      "4064     29                meme, effort, meepcity, sfs, kahoot         57\n",
      "4036      1               skin, prestige, trading, mvp, league         53\n",
      "4035      0              mod, modding, loverslab, idle, modder         49\n",
      "4112     77             cyberpunk, projekt, cd, witcher, delay         48\n",
      "4039      4                   ps5, playstation, ps4, sony, ps3         45\n",
      "4046     11     warzone, missile, warchild, 60274513, dropshot         39\n",
      "4154    119     wallpaper, background, v200609, desktop, phone         39\n",
      "4042      7       trailer, teaser, reveal, glitchpop, official         39\n",
      "4040      5           music, song, playlist, piano, soundtrack         37\n",
      "4038      3                  sim, sims, simmer, simself, sims4         36\n",
      "4067     32              owl, fatherson, titan, haksal, boston         35\n",
      "4057     22              zombie, treyarch, 2x, postpatch, wdyt         35\n",
      "4049     14               animation, animate, zetuzt, gif, rig         32\n",
      "4142    107          nether, portal, overworld, netherite, 116         32\n",
      "4075     40           memory, remember, remembers, uzi, recall         31\n",
      "\n",
      "Top 20 topics for 2021\n",
      "      Topic                                          Words  Frequency\n",
      "2005     -1            hextech, albedo, gtgtgt, epic, skin       3827\n",
      "2006      0         mod, modding, author, modders, install        100\n",
      "2012      6                       euw, chill, na, lf, norm         75\n",
      "2007      1         skin, prestige, roze, unequip, collabs         62\n",
      "2028     22             zombie, 255, nacht, treyarch, cold         53\n",
      "2020     14    animation, animate, jupiiit, idle, replacer         53\n",
      "2008      2          map, printed, layout, western, pablor         47\n",
      "2009      3          sim, sims4, crushed, burglar, simself         46\n",
      "2035     29         meme, effort, bobux, memedroid, innout         44\n",
      "2016     10  dragon, dragonborn, dragonspine, ender, mound         41\n",
      "2017     11        warzone, streamer, baw, wargen, natured         39\n",
      "2080     74             happy, year, puyo, new, reasonlike         35\n",
      "2011      5         music, song, radio, soundtrack, guitar         34\n",
      "2060     54           damage, enemy, item, ability, charge         34\n",
      "2056     50                     clutch, 1v5, 1v3, 1v4, ace         33\n",
      "2013      7       trailer, teaser, arcane, netflix, reveal         33\n",
      "2093     87                    slender, mvp, plat, elo, 2a         31\n",
      "2029     23  postmatch, tour, discussion, stage, reykjavik         31\n",
      "2036     30                death, rip, dramatic, dead, die         31\n",
      "2032     26      rockstar, whenn, beastie, gta250k, keypad         28\n",
      "\n",
      "Top 20 topics for 2022\n",
      "      Topic                                              Words  Frequency\n",
      "3021     -1         12232, external0, voicechat, external, nrm       3980\n",
      "3022      0                mod, modding, author, substill, dar         71\n",
      "3023      1        skin, prestige, ruination, token, skinlines         66\n",
      "3076     54        damage, target, ability, silco, shadowflame         62\n",
      "3026      4                   ps5, ps4, ps3, playstation, sony         55\n",
      "3024      2                map, iraq, realworld, reworks, king         52\n",
      "3028      6                   euw, chill, lf, na, gameshangout         49\n",
      "3096     74                       happy, year, new, eve, heres         44\n",
      "3032     10  dragon, dragonborn, alduin, dragonspine, monst...         43\n",
      "3036     14     animation, animate, animated, wippreview, emmy         41\n",
      "3109     87                     mmr, smurfs, plat, jj, 1tricks         41\n",
      "3057     35           launcher, load, reinstall, file, restart         40\n",
      "3027      5              music, soundtrack, song, radio, piano         36\n",
      "3046     24         glitch, glitchy, glitched, lectern, gaiter         36\n",
      "3030      8                 ban, meg, unbanned, deathban, club         35\n",
      "3039     17            build, gorou, builderman, builder, itto         35\n",
      "3051     29    meme, recycled, memememememe, explicitly, funne         33\n",
      "3033     11              warzone, mp40, 247, disrespect, mutex         33\n",
      "3041     19                 car, vehicle, s2, cabrio, nitrogen         33\n",
      "3133    111                       hr, gt, pity, banner, takuya         33\n",
      "\n",
      "Top 20 topics for 2023\n",
      "    Topic                                              Words  Frequency\n",
      "0      -1                    2023, account, lcs, house, game       3466\n",
      "14     13                       abyss, spiral, 37, floor, 12        133\n",
      "1       0             mod, modding, modded, modpack, modlist         99\n",
      "2       1                skin, drx, magepunk, prestige, shop         84\n",
      "9       8        ban, appeal, perma, unshadowbanned, falsely         77\n",
      "17     16                crash, crashing, keep, crashes, d3d         60\n",
      "6       5            music, song, radio, soundtrack, station         58\n",
      "33     32           owl, owwc, pickem, snapbacks, coachspilo         57\n",
      "13     12               team, comp, aniyun, citybased, tldrs         56\n",
      "5       4                   ps5, playstation, ps3, ps4, sony         56\n",
      "8       7                 trailer, vi, teaser, theft, reveal         55\n",
      "4       3                 sim, simp, simmer, claude, lottery         50\n",
      "10      9   rank, leaderboard, ascendant, ranked, mitigation         49\n",
      "38     37            server, private, host, hosting, connect         46\n",
      "34     33                   duty, call, shipment, matte, ode         46\n",
      "3       2             map, minimap, skull, resets14, gamemap         45\n",
      "19     18                 bedrock, java, edition, realm, 119         45\n",
      "37     36            xbox, series, 360, ideapad, atonomizers         43\n",
      "39     38              warfare, modern, infinite, duty, 2019         42\n",
      "22     21  bug, insurance, weird, sasp, fixesmodsworkarounds         40\n",
      "\n",
      "Top 20 topics for 2024\n",
      "      Topic                                              Words  Frequency\n",
      "5014     -1                 sophie, game, screen, house, build       3483\n",
      "5035     20  imaginarium, theater, theatre, restrictive, th...        164\n",
      "5015      0                 mod, modding, modpack, fahdon, str        121\n",
      "5016      1      skin, transformer, bundle, victorious, collab         76\n",
      "5031     16          crash, crashing, crasher, fault, crashout         72\n",
      "5023      8               ban, unbanned, falsely, got, account         71\n",
      "5024      9        rank, ranked, placement, miserable, ranking         61\n",
      "5018      3              sim, sims4, lottery, catfished, sims3         59\n",
      "5017      2        map, mapping, interactive, project, goldsrc         57\n",
      "5033     18                     bedrock, farm, xp, realm, java         57\n",
      "5019      4                   ps5, playstation, ps4, womp, ps3         45\n",
      "5041     26       rockstar, rockstars, placeholder, vi, editor         43\n",
      "5020      5            music, song, soundtrack, radio, spotify         42\n",
      "5052     37            server, private, host, connect, hosting         41\n",
      "5030     15  character, protagonist, villain, chronically, ...         41\n",
      "5022      7                 trailer, vi, miami, reveal, teaser         40\n",
      "5042     27     friend, friendship, chapel, carolina, efriends         40\n",
      "5048     33      duty, call, helpremove, fanposter, questionis         38\n",
      "5067     52            ops, black, cold, blackcell, contraband         38\n",
      "5036     21      bug, heelies, experiencing, 60minutes, sallow         36\n",
      "\n",
      "Top 20 topics for 2025\n",
      "      Topic                                              Words  Frequency\n",
      "1005     -1                 2025, faceit, steam, toronto, game       3338\n",
      "1048     42               copper, golem, golems, tool, oxidize        103\n",
      "1007      1           skin, cosmetic, chroma, variant, kitsune         72\n",
      "1098     95  stadium, matchmaking, leaver, zenyatta, endors...         68\n",
      "1009      3                     sim, sims, sims4, shady, chief         68\n",
      "1018     12     team, comp, williams, communicator, helsingash         67\n",
      "1101     98             fairy, enchanted, mermaid, nature, sim         66\n",
      "1008      2  map, flashpoint, adjusments, afterall, generat...         66\n",
      "1015      9              rank, ranked, t500, verdansk, ranking         65\n",
      "1006      0              mod, modding, modders, modpack, nraas         57\n",
      "1011      5              music, song, soundtrack, radio, piano         55\n",
      "1029     23         postmatch, stage, thread, 2025, challenger         54\n",
      "1013      7        trailer, teaser, announcement, official, vi         51\n",
      "1017     11  warzone, gray, unplayable, 01072025, upscaling...         51\n",
      "1021     15  character, protagonist, vercetti, backstory, t...         48\n",
      "1023     17             build, builder, builderman, apoc, agoi         47\n",
      "1010      4                 ps5, playstation, ps4, ps3, ps4ps5         45\n",
      "1068     63               paimon, asmoday, asmodays, krai, nod         45\n",
      "1071     66              lane, toplane, roam, laners, toplaner         43\n",
      "1254    254           ronova, ronovas, pierro, capitano, ruler         41\n"
     ]
    }
   ],
   "source": [
    "# 7. Print results \n",
    "for yr, df_topics in top20_by_year.items():\n",
    "    print(f\"\\nTop 20 topics for {yr}\")\n",
    "    print(df_topics[['Topic', 'Words', 'Frequency']])"
   ]
  },
  {
   "cell_type": "code",
   "execution_count": null,
   "id": "19944e99",
   "metadata": {},
   "outputs": [],
   "source": [
    "#lda\n",
    "from gensim import corpora\n",
    "from gensim.models import LdaModel\n",
    "from gensim.utils import simple_preprocess"
   ]
  },
  {
   "cell_type": "code",
   "execution_count": null,
   "id": "e27ba8fe",
   "metadata": {},
   "outputs": [],
   "source": []
  }
 ],
 "metadata": {
  "kernelspec": {
   "display_name": ".venv",
   "language": "python",
   "name": "python3"
  },
  "language_info": {
   "codemirror_mode": {
    "name": "ipython",
    "version": 3
   },
   "file_extension": ".py",
   "mimetype": "text/x-python",
   "name": "python",
   "nbconvert_exporter": "python",
   "pygments_lexer": "ipython3",
   "version": "3.13.3"
  }
 },
 "nbformat": 4,
 "nbformat_minor": 5
}
