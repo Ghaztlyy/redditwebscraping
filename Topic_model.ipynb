{
 "cells": [
  {
   "cell_type": "code",
   "execution_count": 1,
   "id": "d287bf9c",
   "metadata": {},
   "outputs": [
    {
     "name": "stderr",
     "output_type": "stream",
     "text": [
      "d:\\School Files\\ITS132L\\redditwebscraping\\.venv\\Lib\\site-packages\\tqdm\\auto.py:21: TqdmWarning: IProgress not found. Please update jupyter and ipywidgets. See https://ipywidgets.readthedocs.io/en/stable/user_install.html\n",
      "  from .autonotebook import tqdm as notebook_tqdm\n"
     ]
    }
   ],
   "source": [
    "import pandas as pd\n",
    "from bertopic import BERTopic"
   ]
  },
  {
   "cell_type": "code",
   "execution_count": 2,
   "id": "d6e56d1d",
   "metadata": {},
   "outputs": [],
   "source": [
    "# 1. Load the dataset\n",
    "df = pd.read_csv(\"./reddit_2020_2024.csv\")"
   ]
  },
  {
   "cell_type": "code",
   "execution_count": 3,
   "id": "63711858",
   "metadata": {},
   "outputs": [],
   "source": [
    "# 2. Data cleaning: remove missing and duplicate cleaned texts\n",
    "df = df.dropna(subset=['cleaned'])\n",
    "df = df.drop_duplicates(subset=['cleaned'])"
   ]
  },
  {
   "cell_type": "code",
   "execution_count": 4,
   "id": "dfc43de9",
   "metadata": {},
   "outputs": [],
   "source": [
    "# 3. Prepare inputs for BERTopic\n",
    "texts = df['cleaned'].tolist()\n",
    "timestamps = df['year'].astype(str).tolist()  # Treat year as string labels\n"
   ]
  },
  {
   "cell_type": "code",
   "execution_count": 5,
   "id": "292bfec6",
   "metadata": {},
   "outputs": [
    {
     "name": "stderr",
     "output_type": "stream",
     "text": [
      "2025-07-13 13:16:39,184 - BERTopic - Embedding - Transforming documents to embeddings.\n",
      "Batches: 100%|██████████| 871/871 [00:07<00:00, 113.45it/s]\n",
      "2025-07-13 13:16:54,082 - BERTopic - Embedding - Completed ✓\n",
      "2025-07-13 13:16:54,082 - BERTopic - Dimensionality - Fitting the dimensionality reduction algorithm\n",
      "2025-07-13 13:17:30,577 - BERTopic - Dimensionality - Completed ✓\n",
      "2025-07-13 13:17:30,579 - BERTopic - Cluster - Start clustering the reduced embeddings\n",
      "2025-07-13 13:17:33,851 - BERTopic - Cluster - Completed ✓\n",
      "2025-07-13 13:17:33,857 - BERTopic - Representation - Fine-tuning topics using representation models.\n",
      "2025-07-13 13:17:34,325 - BERTopic - Representation - Completed ✓\n"
     ]
    }
   ],
   "source": [
    "# 4. Fit BERTopic model\n",
    "topic_model = BERTopic(verbose=True)\n",
    "topics, probs = topic_model.fit_transform(texts)"
   ]
  },
  {
   "cell_type": "code",
   "execution_count": 6,
   "id": "ab6dc90f",
   "metadata": {},
   "outputs": [
    {
     "name": "stderr",
     "output_type": "stream",
     "text": [
      "5it [00:01,  4.89it/s]\n"
     ]
    }
   ],
   "source": [
    "# 5. Get topics per year (class)\n",
    "topics_by_year = topic_model.topics_per_class(\n",
    "    docs=texts,\n",
    "    classes=timestamps,\n",
    "    global_tuning=True\n",
    ")"
   ]
  },
  {
   "cell_type": "code",
   "execution_count": null,
   "id": "3fecf1fd",
   "metadata": {},
   "outputs": [],
   "source": [
    "# 6. Extract top 20 topics per year\n",
    "top20_by_year = {}\n",
    "for yr in sorted(df['year'].unique()):\n",
    "    df_year = topics_by_year[topics_by_year['Class'] == str(yr)]\n",
    "    top20 = df_year.sort_values('Frequency', ascending=False).head(20)\n",
    "    top20_by_year[yr] = top20"
   ]
  },
  {
   "cell_type": "code",
   "execution_count": 9,
   "id": "35a10674",
   "metadata": {},
   "outputs": [
    {
     "name": "stdout",
     "output_type": "stream",
     "text": [
      "Index(['Topic', 'Words', 'Frequency', 'Class'], dtype='object')\n"
     ]
    }
   ],
   "source": [
    "print(topics_by_year.columns)"
   ]
  },
  {
   "cell_type": "code",
   "execution_count": 10,
   "id": "28d36fcc",
   "metadata": {},
   "outputs": [
    {
     "name": "stdout",
     "output_type": "stream",
     "text": [
      "\n",
      "👑 Top 20 topics for 2020\n",
      "     Topic                                          Words  Frequency\n",
      "772     -1                            to, and, on, it, of       3427\n",
      "773      0                    sims, sim, her, my, husband        147\n",
      "775      2               cod, duty, warfare, call, modern        126\n",
      "774      1             cc, house, built, apartment, build        123\n",
      "782      9               na, looking, friends, duo, norms        110\n",
      "776      3         roblox, studio, robux, account, filter         98\n",
      "786     13                        mw2, mw3, mw, soap, cqb         77\n",
      "781      8   skyrim, together, morrowind, enderal, beyond         74\n",
      "784     11   valorant, knife, valorants, glitchpop, notes         66\n",
      "780      7              her, she, baby, toddler, children         62\n",
      "794     21          minecraft, worlds, mojang, made, maze         59\n",
      "810     37            cyberpunk, 2077, cd, projekt, 2077s         55\n",
      "778      5             gta, online, andreas, vi, nutshell         55\n",
      "789     16                   bo2, bo, bo3, kobe, tomahawk         53\n",
      "797     24              jump, stunt, fall, flying, bounce         52\n",
      "819     46  nether, portal, netherite, overworld, portals         49\n",
      "790     17     dragon, dragonborn, dragons, priest, ender         46\n",
      "777      4           mods, mod, modding, modders, authors         46\n",
      "791     18           gaming, gamer, gamers, oxford, video         45\n",
      "795     22        boat, yacht, underwater, dive, dolphins         45\n",
      "\n",
      "👑 Top 20 topics for 2021\n",
      "    Topic                                              Words  Frequency\n",
      "0      -1                               of, and, the, on, to       3124\n",
      "2       1               cc, built, house, apartment, cottage        151\n",
      "1       0                            sims, sim, her, she, my        145\n",
      "3       2                   cod, duty, call, warfare, modern        143\n",
      "4       3              roblox, robux, studio, robloxs, linux         99\n",
      "7       6                 join, server, java, smp, whitelist         89\n",
      "10      9                      na, looking, friends, duo, lf         86\n",
      "5       4               mods, mod, modding, modders, install         83\n",
      "8       7                     she, baby, her, toddler, child         74\n",
      "6       5                      gta, andreas, online, san, iv         74\n",
      "12     11       valorant, knife, agents, viewers, mythbuster         65\n",
      "9       8  skyrim, enderal, together, morrowind, transfor...         58\n",
      "15     14               zombies, zombie, cold, vanguard, war         57\n",
      "14     13                           mw2, mw3, mw, soap, 2010         48\n",
      "32     31                 warzone, cold, war, warzones, guns         47\n",
      "16     15  animation, animations, animated, animate, butt...         44\n",
      "17     16                          bo2, bo, bo3, reznov, bo1         42\n",
      "37     36                caves, cave, generate, basalt, lava         40\n",
      "29     28       cheat, hacker, activision, hackers, cheating         40\n",
      "23     22                   boat, water, depths, dive, canal         40\n",
      "\n",
      "👑 Top 20 topics for 2022\n",
      "      Topic                                            Words  Frequency\n",
      "1193     -1                            to, and, of, the, for       1242\n",
      "1195      1                cc, built, house, apartment, home        118\n",
      "1194      0                         sims, sim, her, died, my        112\n",
      "1200      6            smp, server, whitelist, vanilla, java         85\n",
      "1196      2                 cod, warfare, duty, call, modern         68\n",
      "1197      3            roblox, robux, studio, added, robloxs         63\n",
      "1198      4         mods, mod, modding, install, description         62\n",
      "1203      9                    na, looking, duo, friends, lf         45\n",
      "1202      8        skyrim, together, lo, function, morrowind         44\n",
      "1201      7                    she, baby, toddler, kids, her         31\n",
      "1205     11        valorant, ue5, history, lineup, valorants         31\n",
      "1214     20           postmatch, thread, champions, 2022, vs         30\n",
      "1199      5                    gta, iv, vi, nutshell, europe         27\n",
      "1223     29           sims, lavahcake, build, house, gallery         27\n",
      "1213     19               skyrim, modding, mods, modded, aka         24\n",
      "1211     17  dragon, dragons, dragonborn, monstrrous, legacy         23\n",
      "1354    164              elden, ring, rings, miyazaki, souls         22\n",
      "1207     13                       mw2, mw, mw3, mw2just, 753         21\n",
      "1233     39    blizzard, diablo, activision, union, immortal         21\n",
      "1209     15    animation, animations, animate, limbs, somone         18\n",
      "\n",
      "👑 Top 20 topics for 2023\n",
      "     Topic                                              Words  Frequency\n",
      "434     -1                       2023, anyone, time, is, have       1191\n",
      "435      0                          sim, sims, her, aged, she        129\n",
      "436      1                         cc, built, house, id, nocc         77\n",
      "447     12                  owl, teams, rewards, finals, owwc         76\n",
      "442      7                      she, baby, infant, child, her         60\n",
      "441      6                vanilla, smp, server, true, bedrock         50\n",
      "443      8           skyrim, together, coop, vibrant, enderal         50\n",
      "439      4                 mod, mods, modding, modlist, space         49\n",
      "440      5                        gta, vi, andreas, gta6, san         48\n",
      "437      2                     cod, duty, codm, call, warfare         48\n",
      "509     76  overwatch, league, heartwrenching, finalstoron...         28\n",
      "475     41  together, skyrim, reborn, skyrimtogetherexe, l...         27\n",
      "505     72                     trailer, vi, gta, views, theft         26\n",
      "445     10               which, game, describes, video, whats         25\n",
      "438      3          roblox, ykyk, 20092010, overdid, 20192023         24\n",
      "504     71               quest, sync, quests, syncing, synced         23\n",
      "495     62   teams, team, teamsplayers, reaaaaally, citybased         22\n",
      "455     20       postmatch, thread, champions, tour, playoffs         22\n",
      "477     43       crashing, crashes, crash, loading, installed         22\n",
      "454     19            skyrim, modding, mods, modded, together         21\n",
      "\n",
      "👑 Top 20 topics for 2024\n",
      "      Topic                                              Words  Frequency\n",
      "1578     -1                          game, this, is, what, gta       1624\n",
      "1579      0                      sim, sims, her, she, pregnant        199\n",
      "1580      1                    cc, built, house, apartment, id        142\n",
      "1589     10                    which, game, video, what, whats        122\n",
      "1584      5                         gta, vi, andreas, gta6, iv        102\n",
      "1583      4                   mod, mods, modding, modder, help         86\n",
      "1586      7                   she, her, infant, pregnant, baby         72\n",
      "1585      6      smp, whitelist, survival, shaded, javabedrock         62\n",
      "1582      3        roblox, robux, happiest, studio, robloxians         58\n",
      "1581      2                   cod, duty, warfare, call, modern         52\n",
      "1587      8          skyrim, together, beauty, reborn, skyrims         51\n",
      "1606     27       rockstar, rockstars, 27th, instagram, exists         28\n",
      "1671    103            quantv, nve, presets, nbvisual, reshade         27\n",
      "1620     43               crashing, crashes, keeps, min, crash         27\n",
      "1631     55       gta, vegetation, online, maxed, singleplayer         27\n",
      "1625     49  connect, disconnected, server, playtogethergg,...         26\n",
      "1618     41  together, skyrim, reborn, skyrimtogetherexe, e...         25\n",
      "1609     30       trailer, arcane, cinematic, reveal, location         24\n",
      "1669    101     character, antagonist, hates, name, characters         24\n",
      "1597     18                 gaming, gamers, gamer, video, wise         24\n"
     ]
    }
   ],
   "source": [
    "# 7. Print results \n",
    "for yr, df_topics in top20_by_year.items():\n",
    "    print(f\"\\n👑 Top 20 topics for {yr}\")\n",
    "    print(df_topics[['Topic', 'Words', 'Frequency']])"
   ]
  }
 ],
 "metadata": {
  "kernelspec": {
   "display_name": ".venv",
   "language": "python",
   "name": "python3"
  },
  "language_info": {
   "codemirror_mode": {
    "name": "ipython",
    "version": 3
   },
   "file_extension": ".py",
   "mimetype": "text/x-python",
   "name": "python",
   "nbconvert_exporter": "python",
   "pygments_lexer": "ipython3",
   "version": "3.13.3"
  }
 },
 "nbformat": 4,
 "nbformat_minor": 5
}
