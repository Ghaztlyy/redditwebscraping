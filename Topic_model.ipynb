{
 "cells": [
  {
   "cell_type": "code",
   "execution_count": 1,
   "id": "d287bf9c",
   "metadata": {},
   "outputs": [
    {
     "name": "stderr",
     "output_type": "stream",
     "text": [
      "d:\\School Files\\ITS132L\\redditwebscraping\\.venv\\Lib\\site-packages\\tqdm\\auto.py:21: TqdmWarning: IProgress not found. Please update jupyter and ipywidgets. See https://ipywidgets.readthedocs.io/en/stable/user_install.html\n",
      "  from .autonotebook import tqdm as notebook_tqdm\n"
     ]
    }
   ],
   "source": [
    "import pandas as pd\n",
    "from bertopic import BERTopic"
   ]
  },
  {
   "cell_type": "code",
   "execution_count": 5,
   "id": "d6e56d1d",
   "metadata": {},
   "outputs": [],
   "source": [
    "# 1. Load the dataset\n",
    "df = pd.read_csv(\"preprocessed_redditData.csv\")"
   ]
  },
  {
   "cell_type": "code",
   "execution_count": 8,
   "id": "dfc43de9",
   "metadata": {},
   "outputs": [],
   "source": [
    "# 2. Prepare inputs for BERTopic\n",
    "texts = df['text'].astype(str).tolist()\n",
    "timestamps = df['year'].astype(str).tolist()  # Treat year as string labels"
   ]
  },
  {
   "cell_type": "code",
   "execution_count": 9,
   "id": "292bfec6",
   "metadata": {},
   "outputs": [
    {
     "name": "stderr",
     "output_type": "stream",
     "text": [
      "2025-07-15 04:13:25,190 - BERTopic - Embedding - Transforming documents to embeddings.\n",
      "Batches: 100%|██████████| 2007/2007 [00:17<00:00, 116.38it/s]\n",
      "2025-07-15 04:13:46,215 - BERTopic - Embedding - Completed ✓\n",
      "2025-07-15 04:13:46,216 - BERTopic - Dimensionality - Fitting the dimensionality reduction algorithm\n",
      "2025-07-15 04:14:03,038 - BERTopic - Dimensionality - Completed ✓\n",
      "2025-07-15 04:14:03,040 - BERTopic - Cluster - Start clustering the reduced embeddings\n",
      "2025-07-15 04:14:06,317 - BERTopic - Cluster - Completed ✓\n",
      "2025-07-15 04:14:06,329 - BERTopic - Representation - Fine-tuning topics using representation models.\n",
      "2025-07-15 04:14:07,381 - BERTopic - Representation - Completed ✓\n"
     ]
    }
   ],
   "source": [
    "# 4. Fit BERTopic model\n",
    "topic_model = BERTopic(verbose=True)\n",
    "topics, probs = topic_model.fit_transform(texts)"
   ]
  },
  {
   "cell_type": "code",
   "execution_count": 10,
   "id": "ab6dc90f",
   "metadata": {},
   "outputs": [
    {
     "name": "stderr",
     "output_type": "stream",
     "text": [
      "6it [00:02,  2.00it/s]\n"
     ]
    }
   ],
   "source": [
    "# 5. Get topics per year (class)\n",
    "topics_by_year = topic_model.topics_per_class(\n",
    "    docs=texts,\n",
    "    classes=timestamps,\n",
    "    global_tuning=True\n",
    ")"
   ]
  },
  {
   "cell_type": "code",
   "execution_count": 11,
   "id": "3fecf1fd",
   "metadata": {},
   "outputs": [],
   "source": [
    "# 6. Extract top 20 topics per year\n",
    "top20_by_year = {}\n",
    "for yr in sorted(df['year'].unique()):\n",
    "    df_year = topics_by_year[topics_by_year['Class'] == str(yr)]\n",
    "    top20 = df_year.sort_values('Frequency', ascending=False).head(20)\n",
    "    top20_by_year[yr] = top20"
   ]
  },
  {
   "cell_type": "code",
   "execution_count": 12,
   "id": "35a10674",
   "metadata": {},
   "outputs": [
    {
     "name": "stdout",
     "output_type": "stream",
     "text": [
      "Index(['Topic', 'Words', 'Frequency', 'Class'], dtype='object')\n"
     ]
    }
   ],
   "source": [
    "print(topics_by_year.columns)"
   ]
  },
  {
   "cell_type": "code",
   "execution_count": 13,
   "id": "28d36fcc",
   "metadata": {},
   "outputs": [
    {
     "name": "stdout",
     "output_type": "stream",
     "text": [
      "\n",
      "👑 Top 20 topics for 2020\n",
      "      Topic                                              Words  Frequency\n",
      "2692     -1             csgo, valorant, character, would, like       3906\n",
      "2693      0                    sims, sim, marley, family, teen        249\n",
      "2699      6            genshin, impact, cbt2, walkthrough, cbt        124\n",
      "2695      2  skyrim, together, morrowind, skyrimtogether, r...        121\n",
      "2694      1             roblox, studio, robux, robloxs, filter        101\n",
      "2701      8                       mw2, mw3, mw, shepherd, soap         78\n",
      "2696      3                  cod, cod2, crop, harrier, trigram         67\n",
      "2779     86                 beta, close, email, access, closed         62\n",
      "2709     16     dragon, dragonborn, ender, fossil, dragonspine         58\n",
      "2754     61                cyberpunk, 2077, projekt, 2077s, cd         53\n",
      "2702      9                             bo2, bo, boi, bo3, bos         52\n",
      "2708     15  valorant, runeterra, valorants, janky, uthetru...         51\n",
      "2698      5                  skin, prestige, trading, mvp, kda         47\n",
      "2749     56            meme, effort, meepcity, sfs, unoahbogue         47\n",
      "2703     10  map, geoculuses, pixelsmash, interactable, bac...         44\n",
      "2697      4              mod, modders, modder, modding, author         44\n",
      "2710     17          warzone, warzones, missile, warchild, m19         41\n",
      "2718     25           skyrim, modding, wabbajack, mod, modlist         40\n",
      "2717     24      zombie, 2x, cold, eastereggs, actionadventure         37\n",
      "2728     35             jungler, jungle, junglers, gank, leash         37\n",
      "\n",
      "👑 Top 20 topics for 2021\n",
      "      Topic                                              Words  Frequency\n",
      "3577     -1                hextech, albedo, epic, gtgtgt, skin       3922\n",
      "3578      0                 sims, sim, origin, expansion, male        261\n",
      "3579      1         roblox, moderation, robux, studio, robloxs        168\n",
      "3580      2  skyrim, together, sofie, skyrimtogether, roleplay        101\n",
      "3582      4             mod, modders, author, modding, mudcrab         96\n",
      "3581      3  cod, missunderstandings, updoots, magikarp, fi...         88\n",
      "3583      5         skin, prestige, vandal, prime, singularity         64\n",
      "3601     23                        happy, year, new, puyo, eve         57\n",
      "3602     24                       zombie, 255, nacht, cold, cw         54\n",
      "3596     18        animation, animate, jupiiit, animator, idle         48\n",
      "3586      8                        mw2, mw3, mw, makarov, soap         47\n",
      "3587      9                           bo2, bo, bos, bo3, bling         41\n",
      "3595     17       warzone, warzones, streamer, bugfree, wargen         41\n",
      "3594     16  dragon, dragonborn, dragonspine, ender, watcht...         39\n",
      "3603     25           skyrim, modding, mod, wabbajack, skyrims         39\n",
      "3585      7                       gta, eflc, gtaiv, ending, iv         37\n",
      "3588     10                 map, western, prev, pablor, mapper         36\n",
      "3634     56    meme, effort, bigboidorito, bobux, renderforest         35\n",
      "3644     66                    euw, norm, longterm, na, friend         34\n",
      "3645     67              damage, enemy, item, passive, ability         33\n",
      "\n",
      "👑 Top 20 topics for 2022\n",
      "      Topic                                              Words  Frequency\n",
      "4496     -1         external0, 12232, voicechat, external, nrm       3990\n",
      "4497      0            sims, sim, expansion, origin, household        271\n",
      "4498      1           roblox, robux, studio, robloxs, priority        210\n",
      "4500      3  cod, cod2, twitchtvjakeybop14shotguns, pour, p...        104\n",
      "4499      2              skyrim, together, reborn, lo, runtime         98\n",
      "4520     23                       happy, year, new, eve, heres         83\n",
      "4501      4            mod, modding, author, modders, substill         73\n",
      "4614    117  view, remove, pollhttpswwwredditcompolls2oc7j,...         65\n",
      "4502      5           skin, prestige, token, bundle, skinlines         64\n",
      "4505      8                        mw2, mw3, mw, degrade, mwii         58\n",
      "4564     67            damage, target, ability, silco, passive         50\n",
      "4507     10             map, minimap, reworks, puzzle, compass         45\n",
      "4513     16  dragon, dragonborn, alduin, dragonspine, monst...         44\n",
      "4616    119  ampx200b, alistar, 2p, foods8000pt, titlehttps...         43\n",
      "4503      6             genshin, impact, iraq, realworld, ar55         43\n",
      "4504      7                gta, brickton, dmt, resupply, rogan         42\n",
      "4509     12               overwatch, comic, ow2, oled, hopeful         42\n",
      "4508     11                  minecraft, phut, 2b2t, hon, babel         41\n",
      "4515     18     animation, animate, animated, emmy, wippreview         39\n",
      "4522     25              skyrim, modding, nest, mod, wabbajack         36\n",
      "\n",
      "👑 Top 20 topics for 2023\n",
      "      Topic                                              Words  Frequency\n",
      "1788     -1                         gta, 2023, online, lcs, pc       3596\n",
      "1790      1           roblox, robux, studio, moderation, crash        241\n",
      "1789      0                    sims, sim, teen, pregnant, male        216\n",
      "1803     14                       abyss, spiral, 37, floor, 12        138\n",
      "1791      2  skyrim, together, reborn, skyrimtogetherexe, s...        112\n",
      "1792      3              cod, nickmercs, codm, sm2, killstreak        101\n",
      "1793      4             mod, modding, modlist, modpack, author         94\n",
      "1796      7                           gta, vi, trilogy, iv, sa         85\n",
      "1794      5               skin, drx, prestige, magepunk, mercs         83\n",
      "1797      8                          mw2, mw3, mw, moab, mwiii         69\n",
      "1795      6            genshin, impact, rail, honkai, genshins         65\n",
      "1826     37              owl, owwc, pickem, overview, aisponge         62\n",
      "1800     11   minecraft, unleash, creativity, endless, blender         61\n",
      "1798      9                             bo2, bo3, bo, bos, bo1         53\n",
      "1809     20           team, comp, monoregion, citybased, theye         50\n",
      "1818     29                       ban, acc, vpn, appeal, perma         48\n",
      "1808     19   rank, leaderboard, ascendant, ranked, conspircay         45\n",
      "1923    136                pride, poland, month, romania, lgbt         44\n",
      "1802     13  conceivable, evaluates, progressiondevelopment...         42\n",
      "1817     28             twitch, stream, streamer, bgmi, viewer         40\n",
      "\n",
      "👑 Top 20 topics for 2024\n",
      "     Topic                                              Words  Frequency\n",
      "900     -1                console, game, cod, screen, account       3639\n",
      "902      1        roblox, robux, moderation, inflation, price        247\n",
      "901      0                   sim, sims, pregnant, teen, alien        232\n",
      "923     22  imaginarium, theater, theatre, restrictive, im...        164\n",
      "903      2  skyrim, together, reborn, skyrims, skyrimtoget...        125\n",
      "905      4                 mod, modding, modpack, modder, str        116\n",
      "914     13               pretend, answer, ill, ask, infuriate         80\n",
      "904      3                 cod, cod2, anew, lovelike, perseus         80\n",
      "906      5      skin, transformer, bundle, collab, victorious         74\n",
      "908      7                         gta, gta6, vi, iv, trilogy         71\n",
      "912     11     minecraft, adult, wreden, allusion, wanderstop         68\n",
      "913     12  overwatch, overwatchs, shutdown, dissertation,...         64\n",
      "907      6            genshin, impact, hsr, wuwa, universehsr         57\n",
      "939     38        crash, crashing, adjuster, submenu, sendung         56\n",
      "930     29                  ban, got, appel, thonl, incapable         51\n",
      "942     41  connect, disconnect, connection, server, recon...         50\n",
      "920     19        rank, ranked, placement, episodes, saadhaak         50\n",
      "932     31                     bedrock, realm, java, xp, farm         48\n",
      "909      8                        mw3, mw2, mwiii, mw, mw2019         45\n",
      "910      9                            bo2, bo6, bo3, boi, bo1         43\n",
      "\n",
      "👑 Top 20 topics for 2025\n",
      "    Topic                                              Words  Frequency\n",
      "0      -1                     2025, cod, steam, gta, toronto       3536\n",
      "1       0                    sims, sim, pregnant, baby, teen        260\n",
      "2       1             roblox, robux, studio, dev, moderation        173\n",
      "4       3                     cod, campaign, cod2, cod4, 141        125\n",
      "47     46               copper, golem, golems, oxidize, tool        100\n",
      "8       7                              gta, gta6, iv, vi, sa         83\n",
      "7       6            genshin, impact, kaveh, hiyori, ninjago         72\n",
      "6       5           skin, cosmetic, chroma, variant, kitsune         71\n",
      "90     90  stadium, matchmaking, leaver, zenyatta, endors...         70\n",
      "3       2       skyrim, morrowind, together, recover, ummmmm         58\n",
      "28     27         postmatch, stage, thread, 2025, challenger         57\n",
      "10      9                    bo2, bo3, cordis, judgement, bo         57\n",
      "27     26     trailer, official, announcement, creed, teaser         55\n",
      "21     20  team, comp, theorybanner, teamcomposition, dev...         54\n",
      "20     19              rank, t500, ranking, restriction, s13         53\n",
      "18     17      warzone, gray, warzones, pvpve, visualisation         52\n",
      "63     62               paimon, asmoday, krai, nod, asmodays         50\n",
      "11     10  map, flashpoint, generational, landmarks, afte...         45\n",
      "5       4             mod, modding, modpack, nolvus, modders         44\n",
      "54     53               lane, toplane, laners, toplaner, top         42\n"
     ]
    }
   ],
   "source": [
    "# 7. Print results \n",
    "for yr, df_topics in top20_by_year.items():\n",
    "    print(f\"\\n👑 Top 20 topics for {yr}\")\n",
    "    print(df_topics[['Topic', 'Words', 'Frequency']])"
   ]
  }
 ],
 "metadata": {
  "kernelspec": {
   "display_name": ".venv",
   "language": "python",
   "name": "python3"
  },
  "language_info": {
   "codemirror_mode": {
    "name": "ipython",
    "version": 3
   },
   "file_extension": ".py",
   "mimetype": "text/x-python",
   "name": "python",
   "nbconvert_exporter": "python",
   "pygments_lexer": "ipython3",
   "version": "3.13.3"
  }
 },
 "nbformat": 4,
 "nbformat_minor": 5
}
