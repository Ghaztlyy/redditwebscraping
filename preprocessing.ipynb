{
 "cells": [
  {
   "cell_type": "code",
   "execution_count": 1,
   "id": "2bf54a92",
   "metadata": {},
   "outputs": [],
   "source": [
    "import pandas as pd\n",
    "import matplotlib.pyplot as plt"
   ]
  },
  {
   "cell_type": "code",
   "execution_count": 28,
   "id": "f03d3715",
   "metadata": {},
   "outputs": [
    {
     "data": {
      "text/html": [
       "<div>\n",
       "<style scoped>\n",
       "    .dataframe tbody tr th:only-of-type {\n",
       "        vertical-align: middle;\n",
       "    }\n",
       "\n",
       "    .dataframe tbody tr th {\n",
       "        vertical-align: top;\n",
       "    }\n",
       "\n",
       "    .dataframe thead th {\n",
       "        text-align: right;\n",
       "    }\n",
       "</style>\n",
       "<table border=\"1\" class=\"dataframe\">\n",
       "  <thead>\n",
       "    <tr style=\"text-align: right;\">\n",
       "      <th></th>\n",
       "      <th>subreddit</th>\n",
       "      <th>month</th>\n",
       "      <th>year</th>\n",
       "      <th>text</th>\n",
       "      <th>created_utc</th>\n",
       "    </tr>\n",
       "  </thead>\n",
       "  <tbody>\n",
       "    <tr>\n",
       "      <th>0</th>\n",
       "      <td>CallOfDuty</td>\n",
       "      <td>7</td>\n",
       "      <td>2025</td>\n",
       "      <td>[COD] Activision not sending password reset em...</td>\n",
       "      <td>2025-07-13 04:18:37</td>\n",
       "    </tr>\n",
       "    <tr>\n",
       "      <th>1</th>\n",
       "      <td>CallOfDuty</td>\n",
       "      <td>7</td>\n",
       "      <td>2025</td>\n",
       "      <td>[AW] I would pay extra for a ui skin like this</td>\n",
       "      <td>2025-07-13 02:08:50</td>\n",
       "    </tr>\n",
       "    <tr>\n",
       "      <th>2</th>\n",
       "      <td>CallOfDuty</td>\n",
       "      <td>7</td>\n",
       "      <td>2025</td>\n",
       "      <td>[BO3] Deadass though bring them back</td>\n",
       "      <td>2025-07-13 00:49:41</td>\n",
       "    </tr>\n",
       "    <tr>\n",
       "      <th>3</th>\n",
       "      <td>CallOfDuty</td>\n",
       "      <td>7</td>\n",
       "      <td>2025</td>\n",
       "      <td>[COD] Nikto cosplay by me.</td>\n",
       "      <td>2025-07-12 23:58:02</td>\n",
       "    </tr>\n",
       "    <tr>\n",
       "      <th>4</th>\n",
       "      <td>CallOfDuty</td>\n",
       "      <td>7</td>\n",
       "      <td>2025</td>\n",
       "      <td>Why not make a World War One Call of Duty game...</td>\n",
       "      <td>2025-07-12 23:46:13</td>\n",
       "    </tr>\n",
       "    <tr>\n",
       "      <th>5</th>\n",
       "      <td>CallOfDuty</td>\n",
       "      <td>7</td>\n",
       "      <td>2025</td>\n",
       "      <td>[COD] What's happening here?</td>\n",
       "      <td>2025-07-12 22:44:38</td>\n",
       "    </tr>\n",
       "    <tr>\n",
       "      <th>6</th>\n",
       "      <td>CallOfDuty</td>\n",
       "      <td>7</td>\n",
       "      <td>2025</td>\n",
       "      <td>[COD] What do you think is the most unrealisti...</td>\n",
       "      <td>2025-07-12 21:43:42</td>\n",
       "    </tr>\n",
       "    <tr>\n",
       "      <th>7</th>\n",
       "      <td>CallOfDuty</td>\n",
       "      <td>7</td>\n",
       "      <td>2025</td>\n",
       "      <td>[COD] Imran Zakhaev and Yuri were probably the...</td>\n",
       "      <td>2025-07-12 21:42:48</td>\n",
       "    </tr>\n",
       "    <tr>\n",
       "      <th>8</th>\n",
       "      <td>CallOfDuty</td>\n",
       "      <td>7</td>\n",
       "      <td>2025</td>\n",
       "      <td>[COD] MW games...</td>\n",
       "      <td>2025-07-12 20:16:43</td>\n",
       "    </tr>\n",
       "    <tr>\n",
       "      <th>9</th>\n",
       "      <td>CallOfDuty</td>\n",
       "      <td>7</td>\n",
       "      <td>2025</td>\n",
       "      <td>[COD] When do campaigns become not worth playi...</td>\n",
       "      <td>2025-07-12 19:32:45</td>\n",
       "    </tr>\n",
       "  </tbody>\n",
       "</table>\n",
       "</div>"
      ],
      "text/plain": [
       "    subreddit  month  year                                               text  \\\n",
       "0  CallOfDuty      7  2025  [COD] Activision not sending password reset em...   \n",
       "1  CallOfDuty      7  2025     [AW] I would pay extra for a ui skin like this   \n",
       "2  CallOfDuty      7  2025               [BO3] Deadass though bring them back   \n",
       "3  CallOfDuty      7  2025                         [COD] Nikto cosplay by me.   \n",
       "4  CallOfDuty      7  2025  Why not make a World War One Call of Duty game...   \n",
       "5  CallOfDuty      7  2025                       [COD] What's happening here?   \n",
       "6  CallOfDuty      7  2025  [COD] What do you think is the most unrealisti...   \n",
       "7  CallOfDuty      7  2025  [COD] Imran Zakhaev and Yuri were probably the...   \n",
       "8  CallOfDuty      7  2025                                  [COD] MW games...   \n",
       "9  CallOfDuty      7  2025  [COD] When do campaigns become not worth playi...   \n",
       "\n",
       "           created_utc  \n",
       "0  2025-07-13 04:18:37  \n",
       "1  2025-07-13 02:08:50  \n",
       "2  2025-07-13 00:49:41  \n",
       "3  2025-07-12 23:58:02  \n",
       "4  2025-07-12 23:46:13  \n",
       "5  2025-07-12 22:44:38  \n",
       "6  2025-07-12 21:43:42  \n",
       "7  2025-07-12 21:42:48  \n",
       "8  2025-07-12 20:16:43  \n",
       "9  2025-07-12 19:32:45  "
      ]
     },
     "execution_count": 28,
     "metadata": {},
     "output_type": "execute_result"
    }
   ],
   "source": [
    "df = pd.read_csv('data.csv')\n",
    "\n",
    "df.head(10)"
   ]
  },
  {
   "cell_type": "code",
   "execution_count": 31,
   "id": "fa4b0f23",
   "metadata": {},
   "outputs": [
    {
     "name": "stdout",
     "output_type": "stream",
     "text": [
      "['CallOfDuty' 'CODWarzone' 'gaming' 'pcgaming' 'Games' 'genshin_impact'\n",
      " 'GenshinImpact' 'GTA' 'GTAOnline' 'leagueoflegends' 'summonerschool'\n",
      " 'Minecraft' 'minecraftsuggestions' 'MinecraftDungeons' 'Overwatch'\n",
      " 'OverwatchLeague' 'Competitiveoverwatch' 'roblox' 'RobloxDevelopers'\n",
      " 'thesims' 'Sims4' 'skyrim' 'skyrimmods' 'Valorant' 'ValorantCompetitive'\n",
      " 'valorant' 'GTA6' 'GrandTheftAutoV' 'GTAV' 'GTAV_Mods' 'LeagueConnect'\n",
      " 'LeagueOfLegendsSFW' 'Gamers' 'videogames' 'CodZombies' 'CODMobile'\n",
      " 'MinecraftServer' 'TheSimsBuilding' 'Sims3' 'thesims4' 'SkyrimModsXbox'\n",
      " 'SkyrimTogether' 'RobloxGame' 'GoCommitDie']\n"
     ]
    }
   ],
   "source": [
    "print(df['subreddit'].unique())"
   ]
  },
  {
   "cell_type": "code",
   "execution_count": 32,
   "id": "a48f207f",
   "metadata": {},
   "outputs": [
    {
     "name": "stdout",
     "output_type": "stream",
     "text": [
      "['callofduty' 'codwarzone' 'gaming' 'pcgaming' 'games' 'genshin_impact'\n",
      " 'genshinimpact' 'gta' 'gtaonline' 'leagueoflegends' 'summonerschool'\n",
      " 'minecraft' 'minecraftsuggestions' 'minecraftdungeons' 'overwatch'\n",
      " 'overwatchleague' 'competitiveoverwatch' 'roblox' 'robloxdevelopers'\n",
      " 'thesims' 'sims4' 'skyrim' 'skyrimmods' 'valorant' 'valorantcompetitive'\n",
      " 'gta6' 'grandtheftautov' 'gtav' 'gtav_mods' 'leagueconnect'\n",
      " 'leagueoflegendssfw' 'gamers' 'videogames' 'codzombies' 'codmobile'\n",
      " 'minecraftserver' 'thesimsbuilding' 'sims3' 'thesims4' 'skyrimmodsxbox'\n",
      " 'skyrimtogether' 'robloxgame' 'gocommitdie']\n"
     ]
    }
   ],
   "source": [
    "df['subreddit'] = df['subreddit'].str.lower()\n",
    "print(df['subreddit'].unique())"
   ]
  },
  {
   "cell_type": "code",
   "execution_count": 80,
   "id": "7bebd33d",
   "metadata": {},
   "outputs": [
    {
     "name": "stdout",
     "output_type": "stream",
     "text": [
      "['callofduty' 'gaming' 'genshinimpact' 'gta' 'leagueoflegends' 'minecraft'\n",
      " 'overwatch' 'roblox' 'sims' 'skyrim' 'valorant']\n"
     ]
    }
   ],
   "source": [
    "df['subreddit'] = df['subreddit'].replace('gocommitdie', 'roblox')\n",
    "print(df['subreddit'].unique())"
   ]
  },
  {
   "cell_type": "code",
   "execution_count": 82,
   "id": "6d588d4e",
   "metadata": {},
   "outputs": [
    {
     "data": {
      "text/html": [
       "<div>\n",
       "<style scoped>\n",
       "    .dataframe tbody tr th:only-of-type {\n",
       "        vertical-align: middle;\n",
       "    }\n",
       "\n",
       "    .dataframe tbody tr th {\n",
       "        vertical-align: top;\n",
       "    }\n",
       "\n",
       "    .dataframe thead th {\n",
       "        text-align: right;\n",
       "    }\n",
       "</style>\n",
       "<table border=\"1\" class=\"dataframe\">\n",
       "  <thead>\n",
       "    <tr style=\"text-align: right;\">\n",
       "      <th></th>\n",
       "      <th>subreddit</th>\n",
       "      <th>month</th>\n",
       "      <th>year</th>\n",
       "      <th>text</th>\n",
       "      <th>created_utc</th>\n",
       "    </tr>\n",
       "  </thead>\n",
       "  <tbody>\n",
       "    <tr>\n",
       "      <th>0</th>\n",
       "      <td>callofduty</td>\n",
       "      <td>6</td>\n",
       "      <td>2020</td>\n",
       "      <td>Well said. [Cod]</td>\n",
       "      <td>2020-06-15 23:56:34</td>\n",
       "    </tr>\n",
       "    <tr>\n",
       "      <th>1</th>\n",
       "      <td>callofduty</td>\n",
       "      <td>9</td>\n",
       "      <td>2020</td>\n",
       "      <td>[MW] Perfection</td>\n",
       "      <td>2020-09-19 21:08:24</td>\n",
       "    </tr>\n",
       "    <tr>\n",
       "      <th>2</th>\n",
       "      <td>callofduty</td>\n",
       "      <td>6</td>\n",
       "      <td>2020</td>\n",
       "      <td>They get no mercy [MW2]</td>\n",
       "      <td>2020-06-17 18:16:03</td>\n",
       "    </tr>\n",
       "    <tr>\n",
       "      <th>3</th>\n",
       "      <td>callofduty</td>\n",
       "      <td>7</td>\n",
       "      <td>2020</td>\n",
       "      <td>[COD] Only OGs remember</td>\n",
       "      <td>2020-07-27 17:04:09</td>\n",
       "    </tr>\n",
       "    <tr>\n",
       "      <th>4</th>\n",
       "      <td>callofduty</td>\n",
       "      <td>8</td>\n",
       "      <td>2020</td>\n",
       "      <td>[MW] Campwarfare</td>\n",
       "      <td>2020-08-03 11:25:22</td>\n",
       "    </tr>\n",
       "  </tbody>\n",
       "</table>\n",
       "</div>"
      ],
      "text/plain": [
       "    subreddit  month  year                     text          created_utc\n",
       "0  callofduty      6  2020         Well said. [Cod]  2020-06-15 23:56:34\n",
       "1  callofduty      9  2020          [MW] Perfection  2020-09-19 21:08:24\n",
       "2  callofduty      6  2020  They get no mercy [MW2]  2020-06-17 18:16:03\n",
       "3  callofduty      7  2020  [COD] Only OGs remember  2020-07-27 17:04:09\n",
       "4  callofduty      8  2020         [MW] Campwarfare  2020-08-03 11:25:22"
      ]
     },
     "execution_count": 82,
     "metadata": {},
     "output_type": "execute_result"
    }
   ],
   "source": [
    "df = df.sort_values(by=['subreddit', 'year']).reset_index(drop=True)\n",
    "df.head()"
   ]
  },
  {
   "cell_type": "code",
   "execution_count": 83,
   "id": "88c44305",
   "metadata": {},
   "outputs": [],
   "source": [
    "df.to_csv(\"original-data.csv\", index=False, encoding='utf-8')\n"
   ]
  },
  {
   "cell_type": "code",
   "execution_count": 86,
   "id": "40312dfc",
   "metadata": {},
   "outputs": [
    {
     "data": {
      "image/png": "[encoded data removed]",
      "text/plain": [
       "<Figure size 1200x600 with 1 Axes>"
      ]
     },
     "metadata": {},
     "output_type": "display_data"
    }
   ],
   "source": [
    "grouped = df.groupby(['subreddit', 'year']).size().unstack(fill_value=0)\n",
    "grouped.plot(kind='bar', figsize=(12, 6))\n",
    "\n",
    "plt.title('Number of Posts per Subreddit by Year')\n",
    "plt.xlabel('Subreddit')\n",
    "plt.ylabel('Number of Posts')\n",
    "plt.xticks(rotation=45, ha='right')\n",
    "plt.legend(title='Year')\n",
    "plt.tight_layout()\n",
    "plt.show()"
   ]
  },
  {
   "cell_type": "code",
   "execution_count": 87,
   "id": "6bf87408",
   "metadata": {},
   "outputs": [
    {
     "name": "stdout",
     "output_type": "stream",
     "text": [
      "year             2020  2021  2022  2023  2024  2025\n",
      "subreddit                                          \n",
      "callofduty        999  1000   184    99   210  1000\n",
      "gaming            875   707   303   217   505  1000\n",
      "genshinimpact     147   653   117    89   421  1000\n",
      "gta               999   970   277   338  1000  1000\n",
      "leagueoflegends   999   720   207    63   102  1000\n",
      "minecraft        1000  1000   204    64    96  1000\n",
      "overwatch         821   393   235   692    87  1000\n",
      "roblox            965   607   263   147   291  1000\n",
      "sims              767   701   651   647  1000  1000\n",
      "skyrim            702   746   657   739   612  1000\n",
      "valorant          389   574   397   185   165  1000\n"
     ]
    }
   ],
   "source": [
    "print(grouped)"
   ]
  }
 ],
 "metadata": {
  "kernelspec": {
   "display_name": "venv (3.12.9)",
   "language": "python",
   "name": "python3"
  },
  "language_info": {
   "codemirror_mode": {
    "name": "ipython",
    "version": 3
   },
   "file_extension": ".py",
   "mimetype": "text/x-python",
   "name": "python",
   "nbconvert_exporter": "python",
   "pygments_lexer": "ipython3",
   "version": "3.12.9"
  }
 },
 "nbformat": 4,
 "nbformat_minor": 5
}
