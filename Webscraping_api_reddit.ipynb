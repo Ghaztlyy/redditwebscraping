{
 "cells": [
  {
   "cell_type": "code",
   "execution_count": null,
   "id": "cb5ba38c",
   "metadata": {},
   "outputs": [
    {
     "name": "stdout",
     "output_type": "stream",
     "text": [
      "Done! Data saved to reddit_gaming_trends.csv\n"
     ]
    }
   ],
   "source": [
    "import praw\n",
    "import pandas as pd\n",
    "\n",
    "from transformers import AutoTokenizer, AutoModelForSequenceClassification, pipeline\n",
    "import torch\n",
    "\n",
    "# --- Sentiment Analysis Setup ---\n",
    "sentiment_model_name = \"cardiffnlp/twitter-roberta-base-sentiment\"\n",
    "sentiment_tokenizer = AutoTokenizer.from_pretrained(sentiment_model_name)\n",
    "sentiment_model = AutoModelForSequenceClassification.from_pretrained(sentiment_model_name)\n",
    "sentiment_pipeline = pipeline(\"sentiment-analysis\", model=sentiment_model, tokenizer=sentiment_tokenizer)\n",
    "\n",
    "# Map sentiment labels\n",
    "sentiment_label_map = {\n",
    "    \"LABEL_0\": \"Negative\",\n",
    "    \"LABEL_1\": \"Neutral\",\n",
    "    \"LABEL_2\": \"Positive\"\n",
    "}\n",
    "\n",
    "# --- Emotion Detection Setup ---\n",
    "emotion_model_name = \"j-hartmann/emotion-english-distilroberta-base\"\n",
    "emotion_pipeline = pipeline(\"text-classification\", model=emotion_model_name, tokenizer=emotion_model_name, top_k=1)\n",
    "\n",
    "# --- Reddit Authentication ---\n",
    "reddit = praw.Reddit(\n",
    "    client_id='q_dYyqYYdNNInGsM-lC9Xg',\n",
    "    client_secret='pLigWA6vX6llH7NjWBhVWmg-gJjKvg',\n",
    "    user_agent='script:gaming_trend (by /u/HiGhastlyy)',\n",
    "    username='HiGhastlyy',\n",
    "    password='0306terror'\n",
    ")\n",
    "\n",
    "# --- Scraping Posts ---\n",
    "subreddits = ['gaming', 'pcgaming', 'leagueoflegends', 'cs2', 'dota2', 'overwatch', 'fortnite', 'apexlegends', 'valorant', 'minecraft']\n",
    "posts = []\n",
    "\n",
    "for sub in subreddits:\n",
    "    for post in reddit.subreddit(sub).top(time_filter='year', limit=500):\n",
    "        full_text = f\"{post.title} {post.selftext}\"\n",
    "\n",
    "        # Sentiment prediction\n",
    "        sentiment_result = sentiment_pipeline(full_text[:512])[0]  # truncate to 512 tokens max\n",
    "        sentiment = sentiment_label_map[sentiment_result['label']]\n",
    "        sentiment_score = sentiment_result['score']\n",
    "\n",
    "        # Emotion prediction\n",
    "        emotion_result = emotion_pipeline(full_text[:512])[0]\n",
    "        emotion = emotion_result['label']\n",
    "        emotion_score = emotion_result['score']\n",
    "\n",
    "        posts.append({\n",
    "            'id': post.id,\n",
    "            'subreddit': sub,\n",
    "            'title': post.title,\n",
    "            'body': post.selftext,\n",
    "            'score': post.score,\n",
    "            'num_comments': post.num_comments,\n",
    "            'created_utc': post.created_utc,\n",
    "            'sentiment': sentiment,\n",
    "            'sentiment_confidence': round(sentiment_score, 3),\n",
    "            'emotion': emotion,\n",
    "            'emotion_confidence': round(emotion_score, 3)\n",
    "        })\n",
    "\n",
    "# --- Save to CSV ---\n",
    "df = pd.DataFrame(posts)\n",
    "df.to_csv(\"reddit_gaming_trends.csv\", index=False)\n",
    "\n",
    "print(\"Done! Data saved to reddit_gaming_trends.csv\")"
   ]
  }
 ],
 "metadata": {
  "kernelspec": {
   "display_name": "base",
   "language": "python",
   "name": "python3"
  },
  "language_info": {
   "codemirror_mode": {
    "name": "ipython",
    "version": 3
   },
   "file_extension": ".py",
   "mimetype": "text/x-python",
   "name": "python",
   "nbconvert_exporter": "python",
   "pygments_lexer": "ipython3",
   "version": "3.12.7"
  }
 },
 "nbformat": 4,
 "nbformat_minor": 5
}
