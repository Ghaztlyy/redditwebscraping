{
 "cells": [
  {
   "cell_type": "code",
   "execution_count": 1,
   "id": "cb5ba38c",
   "metadata": {},
   "outputs": [
    {
     "name": "stdout",
     "output_type": "stream",
     "text": [
      "True\n",
      "NVIDIA GeForce RTX 3060 Ti\n"
     ]
    }
   ],
   "source": [
    "import torch\n",
    "print(torch.cuda.is_available())\n",
    "print(torch.cuda.get_device_name(0))\n"
   ]
  },
  {
   "cell_type": "code",
   "execution_count": null,
   "id": "74de2a63",
   "metadata": {},
   "outputs": [
    {
     "name": "stderr",
     "output_type": "stream",
     "text": [
      "d:\\School Files\\ITS132L\\redditwebscraping\\.venv\\Lib\\site-packages\\tqdm\\auto.py:21: TqdmWarning: IProgress not found. Please update jupyter and ipywidgets. See https://ipywidgets.readthedocs.io/en/stable/user_install.html\n",
      "  from .autonotebook import tqdm as notebook_tqdm\n",
      "Device set to use cuda:0\n",
      "Device set to use cuda:0\n",
      "You seem to be using the pipelines sequentially on GPU. In order to maximize efficiency please use a dataset\n"
     ]
    },
    {
     "name": "stdout",
     "output_type": "stream",
     "text": [
      "✅ Done! Data saved to reddit_gaming_trends.csv\n"
     ]
    }
   ],
   "source": [
    "import praw\n",
    "import pandas as pd\n",
    "from transformers import AutoTokenizer, AutoModelForSequenceClassification, pipeline\n",
    "import torch\n",
    "from dotenv import load_dotenv\n",
    "import os\n",
    "\n",
    "load_dotenv()\n",
    "\n",
    "# --- Check for GPU ---\n",
    "device = 0 if torch.cuda.is_available() else -1\n",
    "\n",
    "# --- Sentiment Analysis Setup ---\n",
    "sentiment_model_name = \"cardiffnlp/twitter-roberta-base-sentiment\"\n",
    "sentiment_tokenizer = AutoTokenizer.from_pretrained(sentiment_model_name)\n",
    "sentiment_model = AutoModelForSequenceClassification.from_pretrained(sentiment_model_name)\n",
    "sentiment_pipeline = pipeline(\"sentiment-analysis\", model=sentiment_model, tokenizer=sentiment_tokenizer, device=device)\n",
    "\n",
    "# Sentiment label mapping\n",
    "sentiment_label_map = {\n",
    "    \"LABEL_0\": \"Negative\",\n",
    "    \"LABEL_1\": \"Neutral\",\n",
    "    \"LABEL_2\": \"Positive\"\n",
    "}\n",
    "\n",
    "# --- Emotion Detection Setup ---\n",
    "emotion_model_name = \"j-hartmann/emotion-english-distilroberta-base\"\n",
    "emotion_pipeline = pipeline(\"text-classification\", model=emotion_model_name, tokenizer=emotion_model_name, top_k=1, device=device)\n",
    "\n",
    "# --- Reddit Authentication ---\n",
    "reddit = praw.Reddit(\n",
    "    client_id=(os.environ['client_id']),\n",
    "    client_secret=(os.environ['client_secret']),\n",
    "    user_agent='script:gaming_trend (by /u/HiGhastlyy)',\n",
    "    username=(os.environ['username']),\n",
    "    password=(os.environ['password'])\n",
    ")\n",
    "\n",
    "# --- Subreddits and Data Collection ---\n",
    "subreddits = ['gaming', 'pcgaming', 'leagueoflegends', 'cs2', 'dota2', 'overwatch', 'fortnite', 'apexlegends', 'valorant', 'minecraft']\n",
    "posts = []\n",
    "\n",
    "for sub in subreddits:\n",
    "    for post in reddit.subreddit(sub).top(time_filter='year', limit=500):\n",
    "        full_text = f\"{post.title} {post.selftext}\".strip()\n",
    "\n",
    "        if full_text:\n",
    "            # Sentiment\n",
    "            sentiment_result = sentiment_pipeline(full_text[:512])[0]\n",
    "            sentiment = sentiment_label_map[sentiment_result['label']]\n",
    "            sentiment_score = sentiment_result['score']\n",
    "\n",
    "            # Emotion\n",
    "            emotion_result = emotion_pipeline(full_text[:512])[0][0]\n",
    "            emotion = emotion_result['label']\n",
    "            emotion_score = emotion_result['score']\n",
    "        else:\n",
    "            sentiment = \"N/A\"\n",
    "            sentiment_score = 0.0\n",
    "            emotion = \"N/A\"\n",
    "            emotion_score = 0.0\n",
    "\n",
    "        posts.append({\n",
    "            'id': post.id,\n",
    "            'subreddit': sub,\n",
    "            'title': post.title,\n",
    "            'body': post.selftext,\n",
    "            'score': post.score,\n",
    "            'num_comments': post.num_comments,\n",
    "            'created_utc': post.created_utc,\n",
    "            'sentiment': sentiment,\n",
    "            'sentiment_confidence': round(sentiment_score, 3),\n",
    "            'emotion': emotion,\n",
    "            'emotion_confidence': round(emotion_score, 3)\n",
    "        })\n",
    "\n",
    "# --- Save to CSV ---\n",
    "df = pd.DataFrame(posts)\n",
    "df.to_csv(\"reddit_gaming_trends.csv\", index=False)\n",
    "\n",
    "print(\"✅ Done! Data saved to reddit_gaming_trends.csv\")"
   ]
  }
 ],
 "metadata": {
  "kernelspec": {
   "display_name": ".venv",
   "language": "python",
   "name": "python3"
  },
  "language_info": {
   "codemirror_mode": {
    "name": "ipython",
    "version": 3
   },
   "file_extension": ".py",
   "mimetype": "text/x-python",
   "name": "python",
   "nbconvert_exporter": "python",
   "pygments_lexer": "ipython3",
   "version": "3.13.3"
  }
 },
 "nbformat": 4,
 "nbformat_minor": 5
}
